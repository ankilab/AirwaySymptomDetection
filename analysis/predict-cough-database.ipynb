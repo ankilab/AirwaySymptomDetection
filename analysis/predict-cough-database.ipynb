{
 "cells": [
  {
   "cell_type": "code",
   "execution_count": null,
   "id": "0e9274ea",
   "metadata": {},
   "outputs": [],
   "source": [
    "import tensorflow as tf\n",
    "from tensorflow.keras.models import load_model\n",
    "import sys\n",
    "sys.path.insert(0,'../')\n",
    "\n",
    "import flammkuchen as fl\n",
    "import os\n",
    "from neural_networks.src.dataloader import DataLoader\n",
    "from utils.params import Params\n",
    "import matplotlib.pyplot as plt\n",
    "import sounddevice as sd\n",
    "import numpy as np\n",
    "import seaborn as sns\n",
    "from skimage.metrics import structural_similarity as ssim\n",
    "\n",
    "%load_ext autoreload\n",
    "%autoreload 2\n",
    "%matplotlib inline"
   ]
  },
  {
   "cell_type": "markdown",
   "id": "c0aa8150",
   "metadata": {},
   "source": [
    "## Specify paths"
   ]
  },
  {
   "cell_type": "code",
   "execution_count": null,
   "id": "0fb42e7d",
   "metadata": {},
   "outputs": [],
   "source": [
    "PATH_DATA = r\"../../Data/coughvid_database/\"\n",
    "PATH_GA_MODEL_NSA = r\"../neural_networks/GeneticAlgorithm/Results_GA/GA_20211115-105541_objective2/best_models_per_generation/gen17_Fitness2.4656.hdf5\"\n",
    "\n",
    "PATH_PARAMS = r\"../neural_networks/params.json\""
   ]
  },
  {
   "cell_type": "markdown",
   "id": "a4f638ae",
   "metadata": {},
   "source": [
    "### Load Data"
   ]
  },
  {
   "cell_type": "code",
   "execution_count": null,
   "id": "840a6a59",
   "metadata": {
    "scrolled": true
   },
   "outputs": [],
   "source": [
    "params = Params(PATH_PARAMS)\n",
    "\n",
    "data_loader = DataLoader(params=params, nb_classes=4)\n",
    "coughs_coughDB, coughs_signals = data_loader.get_cough_database_data(PATH_DATA, n_samples=5000)"
   ]
  },
  {
   "cell_type": "markdown",
   "metadata": {},
   "source": [
    "## Load AE model and convert Audio to NSA spectrograms"
   ]
  },
  {
   "cell_type": "code",
   "execution_count": null,
   "metadata": {},
   "outputs": [],
   "source": [
    "model_ae = load_model(\"../neural_networks/autoencoder_audio2nsa.hdf5\")\n",
    "\n",
    "coughs_coughDB_ae_nsa = model_ae.predict(coughs_coughDB)"
   ]
  },
  {
   "cell_type": "code",
   "execution_count": null,
   "metadata": {
    "scrolled": true
   },
   "outputs": [],
   "source": [
    "n = 8\n",
    "\n",
    "plt.title(\"CoughDB original Audio\")\n",
    "plt.imshow(coughs_coughDB[n])\n",
    "plt.show()\n",
    "plt.title(\"CoughDB generated NSA\")\n",
    "plt.imshow(coughs_coughDB_ae_nsa[n])\n",
    "plt.show()"
   ]
  },
  {
   "cell_type": "markdown",
   "id": "9a73b2b4",
   "metadata": {},
   "source": [
    "## Load NSA model and predict generated NSA data"
   ]
  },
  {
   "cell_type": "code",
   "execution_count": null,
   "metadata": {},
   "outputs": [],
   "source": [
    "def plot_predictions(predictions):\n",
    "    fig, ax = plt.subplots(2, 2)\n",
    "    ax = ax.flatten()\n",
    "    \n",
    "    events = ['Cough', 'Dry swallow', 'Throat clear', 'No event']\n",
    "    for i, event in enumerate(events): \n",
    "        ax[i].hist(predictions[..., i], bins=5, histtype='barstacked', density=True);\n",
    "        ax[i].set_xlim([0, 1])\n",
    "        ax[i].set_title(event)\n",
    "        \n",
    "    plt.tight_layout()\n",
    "    plt.show()\n",
    "    \n",
    "    print(f\"Total number of samples: {len(predictions)}\")\n",
    "    counts = np.zeros(4)\n",
    "    for pred in predictions:\n",
    "        counts[np.where(np.max(pred)==pred)] += 1\n",
    "        \n",
    "    \n",
    "    for count, event in zip(counts, events):\n",
    "        print(f\"{event}: {int(count)}\")"
   ]
  },
  {
   "cell_type": "code",
   "execution_count": null,
   "metadata": {},
   "outputs": [],
   "source": [
    "model_ga = load_model(PATH_GA_MODEL_NSA, custom_objects={'leaky_relu': tf.nn.leaky_relu, 'relu6': tf.nn.relu6})"
   ]
  },
  {
   "cell_type": "code",
   "execution_count": null,
   "metadata": {
    "scrolled": true
   },
   "outputs": [],
   "source": [
    "model_ga.summary()"
   ]
  },
  {
   "cell_type": "code",
   "execution_count": null,
   "id": "3cea36b6",
   "metadata": {},
   "outputs": [],
   "source": [
    "# Predict\n",
    "predictions_pre_fine_tuning = model_ga.predict(coughs_coughDB_ae_nsa)\n",
    "plot_predictions(predictions_pre_fine_tuning)"
   ]
  },
  {
   "cell_type": "markdown",
   "metadata": {},
   "source": [
    "## Transfer Learning (Fine tuning) the model"
   ]
  },
  {
   "cell_type": "code",
   "execution_count": null,
   "id": "e4cfd519",
   "metadata": {
    "scrolled": true
   },
   "outputs": [],
   "source": [
    "path = 'experiments_coughDB/'\n",
    "if not os.path.isdir(path):\n",
    "    os.makedirs(path)\n",
    "\n",
    "N = [50, 100, 200, 500, 1000]\n",
    "for n in N:\n",
    "    os.makedirs(path + str(n), exist_ok=True)\n",
    "    \n",
    "    model_ga = load_model(PATH_GA_MODEL_NSA)\n",
    "    fine_tuned_model = model_ga\n",
    "    \n",
    "    # freeze layers\n",
    "    for layer in fine_tuned_model.layers[:-1]:\n",
    "        layer.trainable = False   \n",
    "        \n",
    "    # define fine tuning training data\n",
    "    X_fine_tuning = coughs_coughDB_ae_nsa[:n]  \n",
    "    Y_fine_tuning = np.array([[1, 0, 0, 0] for _ in range(len(X_fine_tuning))])\n",
    "    \n",
    "    mc = tf.keras.callbacks.ModelCheckpoint(path + str(n) + \"/model_{epoch:02d}.h5\", verbose=True)\n",
    "    \n",
    "    # train the last unfreezed layer for some epochs\n",
    "    fine_tuned_model.compile(optimizer=tf.keras.optimizers.Adam(0.001), loss=tf.keras.losses.CategoricalCrossentropy(), metrics=[\"accuracy\"])\n",
    "    history_1 = fine_tuned_model.fit(X_fine_tuning, Y_fine_tuning, shuffle=True, epochs=10, callbacks=[mc], verbose=False)\n",
    "    \n",
    "    # unfreeze all layers\n",
    "    for layer in fine_tuned_model.layers:\n",
    "        layer.trainable = True\n",
    "        \n",
    "    # train the whole network again\n",
    "    history_2 = fine_tuned_model.fit(X_fine_tuning, Y_fine_tuning, shuffle=True, epochs=75, callbacks=[mc], initial_epoch=10, verbose=False)"
   ]
  },
  {
   "cell_type": "code",
   "execution_count": null,
   "metadata": {
    "scrolled": true
   },
   "outputs": [],
   "source": [
    "params.signal_type = \"NSA\"\n",
    "data_loader_nsa = DataLoader(params=params, nb_classes=4)\n",
    "#(X_train_old, Y_train_old), (X_val_old, Y_val_old) = data_loader.get_train_val_data()\n",
    "X_test_old, Y_test_old = data_loader_nsa.get_test_data()"
   ]
  },
  {
   "cell_type": "code",
   "execution_count": null,
   "metadata": {
    "scrolled": true
   },
   "outputs": [],
   "source": [
    "all_test_accs_old = []\n",
    "all_test_accs_coughDB = []\n",
    "\n",
    "N = [50]\n",
    "for n in N:\n",
    "    test_accs_old = []\n",
    "    test_accs_coughDB = []\n",
    "    for file in os.listdir(path + str(n)):\n",
    "        if \"h5\" in file:\n",
    "            print(file)\n",
    "            model = load_model(path + str(n) + \"/\" + file, custom_objects={'leaky_relu': tf.nn.leaky_relu, 'relu6': tf.nn.relu6})\n",
    "            \n",
    "            _, test_acc_old = model.evaluate(X_test_old[..., None], Y_test_old)\n",
    "            _, test_acc_coughDB = model.evaluate(coughs_coughDB_ae_nsa[n::], np.array([[1, 0, 0, 0] for _ in range(len(coughs_coughDB_ae_nsa[n::]))]))\n",
    "            test_accs_old.append(test_acc_old)\n",
    "            test_accs_coughDB.append(test_acc_coughDB)\n",
    "            \n",
    "    all_test_accs_old.append(test_accs_old)\n",
    "    all_test_accs_coughDB.append(test_accs_coughDB)\n",
    "            \n",
    "    plt.plot(test_accs_coughDB, label=\"coughDB\")\n",
    "    plt.plot(test_accs_old, label=\"Rainbow passage\")\n",
    "    plt.xlabel(\"Epochs\")\n",
    "    plt.ylabel(\"Test Accuracy\")\n",
    "    plt.legend()\n",
    "    plt.title(str(n))\n",
    "    plt.show()"
   ]
  },
  {
   "cell_type": "code",
   "execution_count": null,
   "metadata": {},
   "outputs": [],
   "source": [
    "n = 50\n",
    "best_fine_tuned_model = load_model(\"experiments_coughDB/\" + str(n) + \"/model_48.h5\", custom_objects={'leaky_relu': tf.nn.leaky_relu, 'relu6': tf.nn.relu6})\n",
    "\n",
    "predictions_post_fine_tuning = best_fine_tuned_model.predict(coughs_coughDB_ae_nsa[n::])\n",
    "plot_predictions(predictions_post_fine_tuning)"
   ]
  },
  {
   "cell_type": "markdown",
   "metadata": {},
   "source": [
    "## Save GA model performance results on the COUGHVID dataset"
   ]
  },
  {
   "cell_type": "code",
   "execution_count": null,
   "metadata": {},
   "outputs": [],
   "source": [
    "d = dict(predictions_pre_fine_tuning=predictions_pre_fine_tuning, \n",
    "         predictions_post_fine_tuning=predictions_post_fine_tuning, \n",
    "         test_accs_old=all_test_accs_old, \n",
    "         test_accs_coughDB=all_test_accs_coughDB)\n",
    "\n",
    "fl.save(\"results_fine_tuning_coughDB.vfp\", d)"
   ]
  },
  {
   "cell_type": "code",
   "execution_count": null,
   "metadata": {},
   "outputs": [],
   "source": []
  }
 ],
 "metadata": {
  "kernelspec": {
   "display_name": "Python 3",
   "language": "python",
   "name": "python3"
  },
  "language_info": {
   "codemirror_mode": {
    "name": "ipython",
    "version": 3
   },
   "file_extension": ".py",
   "mimetype": "text/x-python",
   "name": "python",
   "nbconvert_exporter": "python",
   "pygments_lexer": "ipython3",
   "version": "3.8.0"
  }
 },
 "nbformat": 4,
 "nbformat_minor": 5
}
