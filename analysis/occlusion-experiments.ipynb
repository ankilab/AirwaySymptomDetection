{
 "cells": [
  {
   "cell_type": "code",
   "execution_count": 2,
   "metadata": {},
   "outputs": [],
   "source": [
    "import sys\n",
    "sys.path.insert(0, '../')\n",
    "\n",
    "import flammkuchen as fl\n",
    "import tensorflow as tf\n",
    "from utils.params import Params\n",
    "from neural_networks.src.dataloader import DataLoader\n",
    "import numpy as np\n",
    "import matplotlib.pyplot as plt\n",
    "import seaborn as sns\n",
    "from tqdm.notebook import tqdm\n",
    "import efficientnet.tfkeras as efn"
   ]
  },
  {
   "cell_type": "code",
   "execution_count": 3,
   "metadata": {},
   "outputs": [],
   "source": [
    "#### Change 'PATH_GA_O2' to the path where your trained GA model is located ####\n",
    "PATH_GA_O2 = \"../neural_networks/GeneticAlgorithm/Results_GA/GA_20211115-105541_objective2/best_models_per_generation/gen17_Fitness2.4656.hdf5\"\n",
    "\n",
    "PATH_PARAMS = \"../neural_networks/params.json\""
   ]
  },
  {
   "cell_type": "code",
   "execution_count": 4,
   "metadata": {},
   "outputs": [
    {
     "name": "stdout",
     "output_type": "stream",
     "text": [
      "WARNING:tensorflow:Error in loading the saved optimizer state. As a result, your model is starting with a freshly initialized optimizer.\n"
     ]
    }
   ],
   "source": [
    "model_ga_o2 = tf.keras.models.load_model(PATH_GA_O2, custom_objects={'leaky_relu': tf.nn.leaky_relu, 'relu6': tf.nn.relu6})"
   ]
  },
  {
   "cell_type": "code",
   "execution_count": 5,
   "metadata": {},
   "outputs": [
    {
     "name": "stdout",
     "output_type": "stream",
     "text": [
      "\n",
      "Currently loading data: P6_1\n"
     ]
    },
    {
     "data": {
      "application/vnd.jupyter.widget-view+json": {
       "model_id": "5d089f1b90504cafb1fc589b7e0740c8",
       "version_major": 2,
       "version_minor": 0
      },
      "text/plain": [
       "  0%|          | 0/1882 [00:00<?, ?it/s]"
      ]
     },
     "metadata": {},
     "output_type": "display_data"
    },
    {
     "name": "stdout",
     "output_type": "stream",
     "text": [
      "\n",
      "Currently loading data: P6_2\n"
     ]
    },
    {
     "data": {
      "application/vnd.jupyter.widget-view+json": {
       "model_id": "8d53e41ec31c4f6297e514989db954ef",
       "version_major": 2,
       "version_minor": 0
      },
      "text/plain": [
       "  0%|          | 0/1790 [00:00<?, ?it/s]"
      ]
     },
     "metadata": {},
     "output_type": "display_data"
    },
    {
     "name": "stdout",
     "output_type": "stream",
     "text": [
      "\n",
      "Currently loading data: P6_3\n"
     ]
    },
    {
     "data": {
      "application/vnd.jupyter.widget-view+json": {
       "model_id": "ef26474458a24aa9b8d343da94475e12",
       "version_major": 2,
       "version_minor": 0
      },
      "text/plain": [
       "  0%|          | 0/1805 [00:00<?, ?it/s]"
      ]
     },
     "metadata": {},
     "output_type": "display_data"
    }
   ],
   "source": [
    "# load parameter\n",
    "params = Params(PATH_PARAMS)\n",
    "params.signal_type = \"NSA\"\n",
    "\n",
    "# load test data\n",
    "data_loader = DataLoader(params=params, nb_classes=4)\n",
    "X_test, Y_test = data_loader.get_test_data()"
   ]
  },
  {
   "cell_type": "code",
   "execution_count": 8,
   "metadata": {},
   "outputs": [],
   "source": [
    "def get_occlusions(model, X_test, Y_test, patch_sizes=[8], stride=2):  \n",
    "    image_x_dim = X_test[0].shape[0] \n",
    "    image_y_dim = X_test[0].shape[1] \n",
    "    \n",
    "    # calculate occlusions\n",
    "    all_result_images = []\n",
    "    all_counter_images = []\n",
    "    for patch_size in patch_sizes:\n",
    "        # create empty result_image to fill it with the predictions at the occluded positions\n",
    "        result_image = np.zeros((4, image_x_dim,  image_y_dim))\n",
    "        counter_image = np.zeros((4, image_x_dim,  image_y_dim))\n",
    "        \n",
    "        for x in range(0,  image_x_dim-patch_size+1, stride):\n",
    "            for y in range(0,  image_y_dim-patch_size+1, stride):\n",
    "                images = np.copy(X_test)\n",
    "                images[..., x:x+patch_size, y:y+patch_size] = -1 # occlud area through setting the values there to -1\n",
    "                \n",
    "                # predict the occluded image\n",
    "                pred = model.predict(images[..., None])\n",
    "                     \n",
    "                for z in range(len(images)):\n",
    "                    for j in range(4):\n",
    "                        if Y_test[z, j] == 1:\n",
    "                            result_image[j, x:x+patch_size, y:y+patch_size] += pred[z, j]\n",
    "                            counter_image[j, x:x+patch_size, y:y+patch_size] += 1\n",
    "        all_result_images.append(result_image)\n",
    "        all_counter_images.append(counter_image)\n",
    "        \n",
    "    for r in range(len(all_result_images)):\n",
    "        for s in range(4):\n",
    "            all_result_images[r][s] /= all_counter_images[r][s]\n",
    "        \n",
    "    return all_result_images"
   ]
  },
  {
   "cell_type": "code",
   "execution_count": null,
   "metadata": {
    "scrolled": false
   },
   "outputs": [],
   "source": [
    "occlusions_ga_o2 = get_occlusions(model_ga_o2, X_test, Y_test, [16], 4)"
   ]
  },
  {
   "cell_type": "markdown",
   "metadata": {},
   "source": [
    "## Create dict with Occlusion results for each airway symptom and save it"
   ]
  },
  {
   "cell_type": "code",
   "execution_count": 32,
   "metadata": {},
   "outputs": [],
   "source": [
    "d = dict()\n",
    "\n",
    "patch = occlusions_ga_o2[0]\n",
    "d = dict(d, cough_occlusions=patch[0],\n",
    "         dryswallow_occlusions=patch[1],\n",
    "         throatclear_occlusions=patch[2],\n",
    "         noevent_occlusions=patch[3],)\n",
    "\n",
    "fl.save(\"results_occlusion_experiments.vfp\", d)"
   ]
  },
  {
   "cell_type": "code",
   "execution_count": 31,
   "metadata": {
    "scrolled": true
   },
   "outputs": [
    {
     "data": {
      "image/png": "[encoded data removed]",
      "text/plain": [
       "<Figure size 432x288 with 2 Axes>"
      ]
     },
     "metadata": {
      "needs_background": "light"
     },
     "output_type": "display_data"
    },
    {
     "data": {
      "image/png": "[encoded data removed]",
      "text/plain": [
       "<Figure size 432x288 with 2 Axes>"
      ]
     },
     "metadata": {
      "needs_background": "light"
     },
     "output_type": "display_data"
    },
    {
     "data": {
      "image/png": "[encoded data removed]",
      "text/plain": [
       "<Figure size 432x288 with 2 Axes>"
      ]
     },
     "metadata": {
      "needs_background": "light"
     },
     "output_type": "display_data"
    },
    {
     "data": {
      "image/png": "[encoded data removed]",
      "text/plain": [
       "<Figure size 432x288 with 2 Axes>"
      ]
     },
     "metadata": {
      "needs_background": "light"
     },
     "output_type": "display_data"
    }
   ],
   "source": [
    "titles = ['Cough', 'Dry swallow', 'Throat clear', 'No event']\n",
    "# plot occlusions from ga model\n",
    "for patch in occlusions_ga_o2:\n",
    "    for idx, occlusion_class in enumerate(patch):\n",
    "        plt.imshow(occlusion_class)\n",
    "        plt.colorbar()\n",
    "        plt.title(titles[idx])\n",
    "        plt.show()"
   ]
  },
  {
   "cell_type": "code",
   "execution_count": null,
   "metadata": {},
   "outputs": [],
   "source": []
  }
 ],
 "metadata": {
  "kernelspec": {
   "display_name": "Python 3",
   "language": "python",
   "name": "python3"
  },
  "language_info": {
   "codemirror_mode": {
    "name": "ipython",
    "version": 3
   },
   "file_extension": ".py",
   "mimetype": "text/x-python",
   "name": "python",
   "nbconvert_exporter": "python",
   "pygments_lexer": "ipython3",
   "version": "3.8.0"
  }
 },
 "nbformat": 4,
 "nbformat_minor": 4
}
