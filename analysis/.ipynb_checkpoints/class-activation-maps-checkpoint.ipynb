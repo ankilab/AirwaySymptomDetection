{
 "cells": [
  {
   "cell_type": "code",
   "execution_count": 2,
   "metadata": {},
   "outputs": [],
   "source": [
    "import sys\n",
    "sys.path.insert(0, '../')\n",
    "\n",
    "import flammkuchen as fl\n",
    "import tensorflow as tf\n",
    "from tensorflow.keras.models import load_model\n",
    "from utils.params import Params\n",
    "from neural_networks.src.dataloader import DataLoader\n",
    "import numpy as np\n",
    "import matplotlib.pyplot as plt\n",
    "from tqdm.notebook import tqdm\n",
    "import librosa\n",
    "import efficientnet.tfkeras as efn\n",
    "import scipy"
   ]
  },
  {
   "cell_type": "code",
   "execution_count": 3,
   "metadata": {},
   "outputs": [],
   "source": [
    "#### Change 'PATH_GA_O2' to the path where your trained GA model is located ####\n",
    "PATH_GA_O2 = \"../neural_networks/GeneticAlgorithm/Results_GA/GA_20211115-105541_objective2/best_models_per_generation/gen17_Fitness2.4656.hdf5\"\n",
    "\n",
    "PATH_PARAMS = \"../neural_networks/params.json\""
   ]
  },
  {
   "cell_type": "code",
   "execution_count": 4,
   "metadata": {
    "scrolled": true
   },
   "outputs": [
    {
     "name": "stdout",
     "output_type": "stream",
     "text": [
      "\n",
      "Currently loading data: P6_1\n"
     ]
    },
    {
     "data": {
      "application/vnd.jupyter.widget-view+json": {
       "model_id": "546c224eaee747b28b7be762a2a0cfc5",
       "version_major": 2,
       "version_minor": 0
      },
      "text/plain": [
       "  0%|          | 0/1882 [00:00<?, ?it/s]"
      ]
     },
     "metadata": {},
     "output_type": "display_data"
    },
    {
     "name": "stdout",
     "output_type": "stream",
     "text": [
      "\n",
      "Currently loading data: P6_2\n"
     ]
    },
    {
     "data": {
      "application/vnd.jupyter.widget-view+json": {
       "model_id": "1248cdf470a8463db5d9923bf05dae32",
       "version_major": 2,
       "version_minor": 0
      },
      "text/plain": [
       "  0%|          | 0/1790 [00:00<?, ?it/s]"
      ]
     },
     "metadata": {},
     "output_type": "display_data"
    },
    {
     "name": "stdout",
     "output_type": "stream",
     "text": [
      "\n",
      "Currently loading data: P6_3\n"
     ]
    },
    {
     "data": {
      "application/vnd.jupyter.widget-view+json": {
       "model_id": "352d4172a9c5402cb575202e2683ca85",
       "version_major": 2,
       "version_minor": 0
      },
      "text/plain": [
       "  0%|          | 0/1805 [00:00<?, ?it/s]"
      ]
     },
     "metadata": {},
     "output_type": "display_data"
    }
   ],
   "source": [
    "# load parameter\n",
    "params = Params(PATH_PARAMS)\n",
    "params.signal_type = \"NSA\"\n",
    "\n",
    "# load test data\n",
    "data_loader = DataLoader(params=params, nb_classes=4)\n",
    "X_test, Y_test = data_loader.get_test_data()"
   ]
  },
  {
   "cell_type": "code",
   "execution_count": 5,
   "metadata": {},
   "outputs": [
    {
     "name": "stdout",
     "output_type": "stream",
     "text": [
      "WARNING:tensorflow:Error in loading the saved optimizer state. As a result, your model is starting with a freshly initialized optimizer.\n"
     ]
    }
   ],
   "source": [
    "model_ga_o2 = load_model(PATH_GA_O2)"
   ]
  },
  {
   "cell_type": "code",
   "execution_count": 6,
   "metadata": {},
   "outputs": [],
   "source": [
    "def class_activation_map(model, image):\n",
    "    gap_weights = model.layers[-1].get_weights()[0]\n",
    "\n",
    "    cam_model = tf.keras.models.Model(inputs=model.input, outputs=(model.layers[-3].output, model.layers[-1].output))\n",
    "    features, results = cam_model.predict(image[None,..., None])\n",
    "\n",
    "    # bilinear upsampling\n",
    "    cam_features = scipy.ndimage.zoom(features[0, ...], (64/8, 64/8, 1), order=2)\n",
    "\n",
    "    pred = np.argmax(results[0])\n",
    "    cam_weights = gap_weights[:, pred]\n",
    "    cam_output = np.dot(cam_features, cam_weights)\n",
    "    \n",
    "    return pred, cam_output"
   ]
  },
  {
   "cell_type": "code",
   "execution_count": 7,
   "metadata": {
    "scrolled": true
   },
   "outputs": [],
   "source": [
    "def get_cams(model, X_test):\n",
    "    \"\"\"\n",
    "    Crates the Class Activation Maps of each sample in X_test.\n",
    "    @param model: Model to use for extracting CAMs.\n",
    "    @param true_label: If true, the CAMs of the true labels are considered. If False, the CAMs of the predicted events are returned.\n",
    "    :return: Four lists for each event type containing all pairs of [input_image, output_CAM].\n",
    "    \"\"\"\n",
    "    cam_lists = [list(), list(), list(), list()]  # cough, dryswallow, throatclear, no event\n",
    "    \n",
    "    for x in tqdm(X_test):\n",
    "        pred, cam_output = class_activation_map(model, x)\n",
    "        cam_lists[pred].append([x, cam_output])\n",
    "\n",
    "    return cam_lists[0], cam_lists[1], cam_lists[2], cam_lists[3]"
   ]
  },
  {
   "cell_type": "code",
   "execution_count": 8,
   "metadata": {},
   "outputs": [
    {
     "data": {
      "application/vnd.jupyter.widget-view+json": {
       "model_id": "6a62d25c70d945e6aba0968e27156878",
       "version_major": 2,
       "version_minor": 0
      },
      "text/plain": [
       "  0%|          | 0/5462 [00:00<?, ?it/s]"
      ]
     },
     "metadata": {},
     "output_type": "display_data"
    },
    {
     "name": "stdout",
     "output_type": "stream",
     "text": [
      "WARNING:tensorflow:5 out of the last 5 calls to <function Model.make_predict_function.<locals>.predict_function at 0x000001D78D19AD30> triggered tf.function retracing. Tracing is expensive and the excessive number of tracings could be due to (1) creating @tf.function repeatedly in a loop, (2) passing tensors with different shapes, (3) passing Python objects instead of tensors. For (1), please define your @tf.function outside of the loop. For (2), @tf.function has experimental_relax_shapes=True option that relaxes argument shapes that can avoid unnecessary retracing. For (3), please refer to https://www.tensorflow.org/guide/function#controlling_retracing and https://www.tensorflow.org/api_docs/python/tf/function for  more details.\n",
      "WARNING:tensorflow:6 out of the last 6 calls to <function Model.make_predict_function.<locals>.predict_function at 0x000001D78D0FE1F0> triggered tf.function retracing. Tracing is expensive and the excessive number of tracings could be due to (1) creating @tf.function repeatedly in a loop, (2) passing tensors with different shapes, (3) passing Python objects instead of tensors. For (1), please define your @tf.function outside of the loop. For (2), @tf.function has experimental_relax_shapes=True option that relaxes argument shapes that can avoid unnecessary retracing. For (3), please refer to https://www.tensorflow.org/guide/function#controlling_retracing and https://www.tensorflow.org/api_docs/python/tf/function for  more details.\n"
     ]
    }
   ],
   "source": [
    "coughs, dryswallows, throatclears, noevents = get_cams(model_ga_o2, X_test)"
   ]
  },
  {
   "cell_type": "markdown",
   "metadata": {},
   "source": [
    "# Create dict with CAM examples for each airway symptom and save it"
   ]
  },
  {
   "cell_type": "code",
   "execution_count": 32,
   "metadata": {},
   "outputs": [
    {
     "data": {
      "text/plain": [
       "{}"
      ]
     },
     "execution_count": 32,
     "metadata": {},
     "output_type": "execute_result"
    }
   ],
   "source": [
    "d = dict()\n",
    "d"
   ]
  },
  {
   "cell_type": "code",
   "execution_count": 33,
   "metadata": {},
   "outputs": [],
   "source": [
    "idx = 2\n",
    "d = dict(d, cough=coughs[idx][0])\n",
    "d = dict(d, cough_cam=coughs[idx][1])"
   ]
  },
  {
   "cell_type": "code",
   "execution_count": 34,
   "metadata": {},
   "outputs": [],
   "source": [
    "c_sum = np.zeros((64, 64))\n",
    "for cough in coughs:\n",
    "    c_sum += cough[1]\n",
    "    \n",
    "d = dict(d, cough_averaged=c_sum)"
   ]
  },
  {
   "cell_type": "markdown",
   "metadata": {},
   "source": [
    "### Dry swallow"
   ]
  },
  {
   "cell_type": "code",
   "execution_count": 35,
   "metadata": {},
   "outputs": [],
   "source": [
    "idx = 11\n",
    "d = dict(d, dryswallow=dryswallows[idx][0])\n",
    "d = dict(d, dryswallow_cam=dryswallows[idx][1])"
   ]
  },
  {
   "cell_type": "code",
   "execution_count": 36,
   "metadata": {},
   "outputs": [],
   "source": [
    "ds_sum = np.zeros((64, 64))\n",
    "for ds in dryswallows:\n",
    "    ds_sum += ds[1]\n",
    "\n",
    "d = dict(d, dryswallow_averaged=ds_sum)"
   ]
  },
  {
   "cell_type": "markdown",
   "metadata": {},
   "source": [
    "### Throat clear"
   ]
  },
  {
   "cell_type": "code",
   "execution_count": 37,
   "metadata": {},
   "outputs": [],
   "source": [
    "idx = 4\n",
    "d = dict(d, throatclear=throatclears[idx][0])\n",
    "d = dict(d, throatclear_cam=throatclears[idx][1])"
   ]
  },
  {
   "cell_type": "code",
   "execution_count": 38,
   "metadata": {},
   "outputs": [],
   "source": [
    "tc_sum = np.zeros((64, 64))\n",
    "for tc in throatclears:\n",
    "    tc_sum += tc[1]\n",
    "\n",
    "d = dict(d, throatclear_averaged=tc_sum)"
   ]
  },
  {
   "cell_type": "markdown",
   "metadata": {},
   "source": [
    "### No event"
   ]
  },
  {
   "cell_type": "code",
   "execution_count": 39,
   "metadata": {},
   "outputs": [],
   "source": [
    "idx = 208\n",
    "d = dict(d, noevent=noevents[idx][0])\n",
    "d = dict(d, noevent_cam=noevents[idx][1])"
   ]
  },
  {
   "cell_type": "code",
   "execution_count": 40,
   "metadata": {},
   "outputs": [],
   "source": [
    "ne_sum = np.zeros((64, 64))\n",
    "for ne in noevents:\n",
    "    ne_sum += ne[1]\n",
    "\n",
    "d = dict(d, noevent_averaged=ne_sum)"
   ]
  },
  {
   "cell_type": "code",
   "execution_count": 41,
   "metadata": {
    "scrolled": true
   },
   "outputs": [],
   "source": [
    "fl.save(\"results_CAMs.vfp\", d)"
   ]
  },
  {
   "cell_type": "code",
   "execution_count": null,
   "metadata": {},
   "outputs": [],
   "source": []
  }
 ],
 "metadata": {
  "kernelspec": {
   "display_name": "Python 3",
   "language": "python",
   "name": "python3"
  },
  "language_info": {
   "codemirror_mode": {
    "name": "ipython",
    "version": 3
   },
   "file_extension": ".py",
   "mimetype": "text/x-python",
   "name": "python",
   "nbconvert_exporter": "python",
   "pygments_lexer": "ipython3",
   "version": "3.8.0"
  }
 },
 "nbformat": 4,
 "nbformat_minor": 4
}
