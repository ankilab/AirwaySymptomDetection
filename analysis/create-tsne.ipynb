{
 "cells": [
  {
   "cell_type": "code",
   "execution_count": 1,
   "metadata": {},
   "outputs": [],
   "source": [
    "import sys  \n",
    "sys.path.insert(0, '../')\n",
    "\n",
    "import flammkuchen as fl\n",
    "import os\n",
    "import librosa\n",
    "import matplotlib.pyplot as plt\n",
    "import numpy as np\n",
    "from sklearn.manifold import TSNE\n",
    "from scipy.stats import mode\n",
    "from tqdm.notebook import tqdm\n",
    "from numba import njit\n",
    "from nutil.plot import paperStyle\n",
    "from skimage.transform import resize\n",
    "\n",
    "from utils.params import Params\n",
    "from utils.Helper import scale_minmax\n",
    "from neural_networks.src.dataloader import DataLoader\n",
    "\n",
    "%load_ext autoreload\n",
    "%autoreload 2"
   ]
  },
  {
   "cell_type": "code",
   "execution_count": 2,
   "metadata": {},
   "outputs": [],
   "source": [
    "PATH_MIC_FILES = r\"../../Data/EachEventInSingleFile/MIC/\"\n",
    "PATH_NSA_FILES = r\"../../Data/EachEventInSingleFile/NSA/\"\n",
    "PATH_DATA = r\"../../Data/coughvid_database/\"\n",
    "\n",
    "PATH_PARAMS = r\"../neural_networks/params.json\""
   ]
  },
  {
   "cell_type": "code",
   "execution_count": 3,
   "metadata": {},
   "outputs": [],
   "source": [
    "def get_all_spectrograms(signal_type, event_type):\n",
    "    if signal_type == \"MIC\":\n",
    "        path = PATH_MIC_FILES\n",
    "    else:\n",
    "        path = PATH_NSA_FILES\n",
    "        \n",
    "    return_list = []\n",
    "    print(f\"Loading {signal_type}, {event_type}:\")\n",
    "    for file in tqdm(os.listdir(path + event_type)):\n",
    "        data, sr = librosa.load(path + event_type + \"\\\\\" + file, sr=44100)\n",
    "        spec = get_spectrogram_image(data, sr)\n",
    "        return_list.append(spec)\n",
    "    return return_list\n",
    "\n",
    "def get_coughDB_data():\n",
    "    params = Params(PATH_PARAMS)\n",
    "\n",
    "    data_loader = DataLoader(params=params, nb_classes=4)\n",
    "    coughs, _ = data_loader.get_cough_database_data(PATH_DATA, n_samples=100)\n",
    "    return coughs\n",
    "\n",
    "def get_spectrogram_image(y, sr):\n",
    "    mels = librosa.feature.melspectrogram(y=y, sr=sr, n_mels=64, n_fft=1024, hop_length=64, fmax=16384, htk=True)\n",
    "    mels = np.log(mels + np.finfo(float).eps)\n",
    "    mels = scale_minmax(mels, -1.0, 1.0)\n",
    "    mels = np.flip(mels, axis=0)  # put low frequencies at the bottom of the image\n",
    "\n",
    "    mels = resize(mels, (64, 64))\n",
    "    return mels"
   ]
  },
  {
   "cell_type": "markdown",
   "metadata": {},
   "source": [
    "# Load the spectrograms from all events"
   ]
  },
  {
   "cell_type": "code",
   "execution_count": 4,
   "metadata": {
    "scrolled": true
   },
   "outputs": [
    {
     "name": "stdout",
     "output_type": "stream",
     "text": [
      "Loading MIC, Cough:\n"
     ]
    },
    {
     "data": {
      "application/vnd.jupyter.widget-view+json": {
       "model_id": "203ff8fa2e85492ea4ebd9312caaea6c",
       "version_major": 2,
       "version_minor": 0
      },
      "text/plain": [
       "  0%|          | 0/294 [00:00<?, ?it/s]"
      ]
     },
     "metadata": {},
     "output_type": "display_data"
    },
    {
     "name": "stdout",
     "output_type": "stream",
     "text": [
      "Loading MIC, Dry swallow:\n"
     ]
    },
    {
     "data": {
      "application/vnd.jupyter.widget-view+json": {
       "model_id": "295c5c26f4694cf08f5cdca89bd379ef",
       "version_major": 2,
       "version_minor": 0
      },
      "text/plain": [
       "  0%|          | 0/287 [00:00<?, ?it/s]"
      ]
     },
     "metadata": {},
     "output_type": "display_data"
    },
    {
     "name": "stdout",
     "output_type": "stream",
     "text": [
      "Loading MIC, Throat clear:\n"
     ]
    },
    {
     "data": {
      "application/vnd.jupyter.widget-view+json": {
       "model_id": "415efd8a6db744c1aa652da48ced988a",
       "version_major": 2,
       "version_minor": 0
      },
      "text/plain": [
       "  0%|          | 0/283 [00:00<?, ?it/s]"
      ]
     },
     "metadata": {},
     "output_type": "display_data"
    },
    {
     "name": "stdout",
     "output_type": "stream",
     "text": [
      "Loading MIC, Silence:\n"
     ]
    },
    {
     "data": {
      "application/vnd.jupyter.widget-view+json": {
       "model_id": "682a37467e0b4a1089b451eb0a03b4ec",
       "version_major": 2,
       "version_minor": 0
      },
      "text/plain": [
       "  0%|          | 0/258 [00:00<?, ?it/s]"
      ]
     },
     "metadata": {},
     "output_type": "display_data"
    },
    {
     "name": "stdout",
     "output_type": "stream",
     "text": [
      "Loading MIC, Speech:\n"
     ]
    },
    {
     "data": {
      "application/vnd.jupyter.widget-view+json": {
       "model_id": "7a3001a965b44397881f66433dc26ba0",
       "version_major": 2,
       "version_minor": 0
      },
      "text/plain": [
       "  0%|          | 0/628 [00:00<?, ?it/s]"
      ]
     },
     "metadata": {},
     "output_type": "display_data"
    }
   ],
   "source": [
    "coughs_mic = get_all_spectrograms(\"MIC\", \"Cough\")\n",
    "dryswallows_mic = get_all_spectrograms(\"MIC\", \"Dry swallow\")\n",
    "throatclears_mic =  get_all_spectrograms(\"MIC\", \"Throat clear\")\n",
    "silence_mic = get_all_spectrograms(\"MIC\", \"Silence\")\n",
    "speech_mic =get_all_spectrograms(\"MIC\", \"Speech\")"
   ]
  },
  {
   "cell_type": "code",
   "execution_count": 5,
   "metadata": {
    "scrolled": true
   },
   "outputs": [
    {
     "name": "stdout",
     "output_type": "stream",
     "text": [
      "Loading NSA, Cough:\n"
     ]
    },
    {
     "data": {
      "application/vnd.jupyter.widget-view+json": {
       "model_id": "64c453c836054194891edada6584b091",
       "version_major": 2,
       "version_minor": 0
      },
      "text/plain": [
       "  0%|          | 0/294 [00:00<?, ?it/s]"
      ]
     },
     "metadata": {},
     "output_type": "display_data"
    },
    {
     "name": "stdout",
     "output_type": "stream",
     "text": [
      "Loading NSA, Dry swallow:\n"
     ]
    },
    {
     "data": {
      "application/vnd.jupyter.widget-view+json": {
       "model_id": "cb0446acb3e54cd183c71609348d52dc",
       "version_major": 2,
       "version_minor": 0
      },
      "text/plain": [
       "  0%|          | 0/287 [00:00<?, ?it/s]"
      ]
     },
     "metadata": {},
     "output_type": "display_data"
    },
    {
     "name": "stdout",
     "output_type": "stream",
     "text": [
      "Loading NSA, Throat clear:\n"
     ]
    },
    {
     "data": {
      "application/vnd.jupyter.widget-view+json": {
       "model_id": "d7f2b0c0b8544e309e8d1b1554ddf6ee",
       "version_major": 2,
       "version_minor": 0
      },
      "text/plain": [
       "  0%|          | 0/283 [00:00<?, ?it/s]"
      ]
     },
     "metadata": {},
     "output_type": "display_data"
    },
    {
     "name": "stdout",
     "output_type": "stream",
     "text": [
      "Loading NSA, Silence:\n"
     ]
    },
    {
     "data": {
      "application/vnd.jupyter.widget-view+json": {
       "model_id": "e4f3c3cb3266423987363bf94901d6ff",
       "version_major": 2,
       "version_minor": 0
      },
      "text/plain": [
       "  0%|          | 0/258 [00:00<?, ?it/s]"
      ]
     },
     "metadata": {},
     "output_type": "display_data"
    },
    {
     "name": "stdout",
     "output_type": "stream",
     "text": [
      "Loading NSA, Speech:\n"
     ]
    },
    {
     "data": {
      "application/vnd.jupyter.widget-view+json": {
       "model_id": "6301e6ea504d4e60b4df253f9ee42460",
       "version_major": 2,
       "version_minor": 0
      },
      "text/plain": [
       "  0%|          | 0/628 [00:00<?, ?it/s]"
      ]
     },
     "metadata": {},
     "output_type": "display_data"
    }
   ],
   "source": [
    "coughs_nsa = get_all_spectrograms(\"NSA\", \"Cough\")\n",
    "dryswallows_nsa = get_all_spectrograms(\"NSA\", \"Dry swallow\")\n",
    "throatclears_nsa =  get_all_spectrograms(\"NSA\", \"Throat clear\")\n",
    "silence_nsa = get_all_spectrograms(\"NSA\", \"Silence\")\n",
    "speech_nsa =get_all_spectrograms(\"NSA\", \"Speech\")"
   ]
  },
  {
   "cell_type": "code",
   "execution_count": 6,
   "metadata": {},
   "outputs": [
    {
     "name": "stdout",
     "output_type": "stream",
     "text": [
      "Converting files to .wav\n"
     ]
    },
    {
     "data": {
      "application/vnd.jupyter.widget-view+json": {
       "model_id": "a4f246ca8bb44817bb7ee620beeb6f03",
       "version_major": 2,
       "version_minor": 0
      },
      "text/plain": [
       "  0%|          | 0/20072 [00:00<?, ?it/s]"
      ]
     },
     "metadata": {},
     "output_type": "display_data"
    },
    {
     "name": "stdout",
     "output_type": "stream",
     "text": [
      "Load data as spectrograms\n"
     ]
    },
    {
     "data": {
      "application/vnd.jupyter.widget-view+json": {
       "model_id": "8223c0cbc8734a86961ac442a9c74924",
       "version_major": 2,
       "version_minor": 0
      },
      "text/plain": [
       "  0%|          | 0/100 [00:00<?, ?it/s]"
      ]
     },
     "metadata": {},
     "output_type": "display_data"
    }
   ],
   "source": [
    "coughs_coughDB = get_coughDB_data()"
   ]
  },
  {
   "cell_type": "markdown",
   "metadata": {},
   "source": [
    "# Extract features from the spectrograms (mean, min, max, median, mode and std)"
   ]
  },
  {
   "cell_type": "code",
   "execution_count": 7,
   "metadata": {},
   "outputs": [],
   "source": [
    "def get_features(data):\n",
    "    features = []\n",
    "    for d in tqdm(data):\n",
    "        d = np.asarray(d)\n",
    "        features_array = np.zeros((d.shape[0], 6))\n",
    "        for i in range(d.shape[0]):\n",
    "            features_array[i, 0] = np.mean(d[i,...])\n",
    "            features_array[i, 1] = np.min(d[i,...])\n",
    "            features_array[i, 2] = np.max(d[i,...])\n",
    "            features_array[i, 3] = np.median(d[i,...])\n",
    "            features_array[i, 4] = mode(d[i,...])[0]\n",
    "            features_array[i, 5] = np.std(d[i,...])\n",
    "        features.append(features_array)\n",
    "    return np.asarray(features)"
   ]
  },
  {
   "cell_type": "code",
   "execution_count": 8,
   "metadata": {
    "scrolled": true
   },
   "outputs": [
    {
     "data": {
      "application/vnd.jupyter.widget-view+json": {
       "model_id": "a3c34a7750e149e8bd179248fb5e31bf",
       "version_major": 2,
       "version_minor": 0
      },
      "text/plain": [
       "  0%|          | 0/294 [00:00<?, ?it/s]"
      ]
     },
     "metadata": {},
     "output_type": "display_data"
    },
    {
     "data": {
      "application/vnd.jupyter.widget-view+json": {
       "model_id": "05dfc6f76c2c47f28d19c9f66cf1512b",
       "version_major": 2,
       "version_minor": 0
      },
      "text/plain": [
       "  0%|          | 0/287 [00:00<?, ?it/s]"
      ]
     },
     "metadata": {},
     "output_type": "display_data"
    },
    {
     "data": {
      "application/vnd.jupyter.widget-view+json": {
       "model_id": "0e1b5b3780254049b0b005f88dc1e087",
       "version_major": 2,
       "version_minor": 0
      },
      "text/plain": [
       "  0%|          | 0/283 [00:00<?, ?it/s]"
      ]
     },
     "metadata": {},
     "output_type": "display_data"
    },
    {
     "data": {
      "application/vnd.jupyter.widget-view+json": {
       "model_id": "3b24edc6322c4d1787f9fe55c36809c3",
       "version_major": 2,
       "version_minor": 0
      },
      "text/plain": [
       "  0%|          | 0/258 [00:00<?, ?it/s]"
      ]
     },
     "metadata": {},
     "output_type": "display_data"
    },
    {
     "data": {
      "application/vnd.jupyter.widget-view+json": {
       "model_id": "82dea18389684c69a7a8eae75db16745",
       "version_major": 2,
       "version_minor": 0
      },
      "text/plain": [
       "  0%|          | 0/628 [00:00<?, ?it/s]"
      ]
     },
     "metadata": {},
     "output_type": "display_data"
    },
    {
     "data": {
      "application/vnd.jupyter.widget-view+json": {
       "model_id": "402e9d78911f46f48d41ef8392536251",
       "version_major": 2,
       "version_minor": 0
      },
      "text/plain": [
       "  0%|          | 0/100 [00:00<?, ?it/s]"
      ]
     },
     "metadata": {},
     "output_type": "display_data"
    },
    {
     "data": {
      "application/vnd.jupyter.widget-view+json": {
       "model_id": "14dff726167141b6a18ee63090744030",
       "version_major": 2,
       "version_minor": 0
      },
      "text/plain": [
       "  0%|          | 0/294 [00:00<?, ?it/s]"
      ]
     },
     "metadata": {},
     "output_type": "display_data"
    },
    {
     "data": {
      "application/vnd.jupyter.widget-view+json": {
       "model_id": "90763f05835145bfb2189e842c5cda91",
       "version_major": 2,
       "version_minor": 0
      },
      "text/plain": [
       "  0%|          | 0/287 [00:00<?, ?it/s]"
      ]
     },
     "metadata": {},
     "output_type": "display_data"
    },
    {
     "data": {
      "application/vnd.jupyter.widget-view+json": {
       "model_id": "ace947707b7d4f58b9f3da0981c8228e",
       "version_major": 2,
       "version_minor": 0
      },
      "text/plain": [
       "  0%|          | 0/283 [00:00<?, ?it/s]"
      ]
     },
     "metadata": {},
     "output_type": "display_data"
    },
    {
     "data": {
      "application/vnd.jupyter.widget-view+json": {
       "model_id": "ef0b8c03defe406abd5dfc1a2d5156aa",
       "version_major": 2,
       "version_minor": 0
      },
      "text/plain": [
       "  0%|          | 0/258 [00:00<?, ?it/s]"
      ]
     },
     "metadata": {},
     "output_type": "display_data"
    },
    {
     "data": {
      "application/vnd.jupyter.widget-view+json": {
       "model_id": "07b84eeefd3f49ccbe7f5041f36c01fe",
       "version_major": 2,
       "version_minor": 0
      },
      "text/plain": [
       "  0%|          | 0/628 [00:00<?, ?it/s]"
      ]
     },
     "metadata": {},
     "output_type": "display_data"
    }
   ],
   "source": [
    "c_features_mic = get_features(coughs_mic)\n",
    "ds_features_mic = get_features(dryswallows_mic)\n",
    "tc_features_mic = get_features(throatclears_mic)\n",
    "sc_features_mic = get_features(silence_mic)\n",
    "sp_features_mic = get_features(speech_mic)\n",
    "\n",
    "coughDB_features = get_features(coughs_coughDB)\n",
    "\n",
    "c_features_nsa = get_features(coughs_nsa)\n",
    "ds_features_nsa = get_features(dryswallows_nsa)\n",
    "tc_features_nsa = get_features(throatclears_nsa)\n",
    "sc_features_nsa = get_features(silence_nsa)\n",
    "sp_features_nsa = get_features(speech_nsa)"
   ]
  },
  {
   "cell_type": "markdown",
   "metadata": {},
   "source": [
    "# Perform t-SNE and plot it"
   ]
  },
  {
   "cell_type": "code",
   "execution_count": 9,
   "metadata": {},
   "outputs": [],
   "source": [
    "def perform_tsne(features, perplexity, n_iter, learning_rate):\n",
    "    X = np.concatenate([i for i in features], axis=0)\n",
    "    X = X.reshape(X.shape[0], X.shape[1] * X.shape[2])\n",
    "    tsne = TSNE(n_components=2, perplexity=perplexity, n_iter=n_iter, learning_rate=learning_rate)\n",
    "    embedding = tsne.fit_transform(X)\n",
    "    \n",
    "    return_list = []\n",
    "    pos = 0\n",
    "    for i in features:\n",
    "        arr = embedding[pos:pos+len(i)]\n",
    "        pos += len(i)\n",
    "        return_list.append(arr)\n",
    "    return return_list\n",
    "\n",
    "def plot_tsne(data, labels, colors, title, alpha):\n",
    "    if len(data) != len(colors):\n",
    "        raise ValueError(\"Number of colors doesn't match the number of events to be plotted\")\n",
    "    with paperStyle():\n",
    "        plt.figure(figsize=(4,4))\n",
    "        for idx, d in enumerate(data):\n",
    "            plt.scatter(d[..., 0], d[..., 1], color=colors[idx], label=labels[idx], alpha=alpha)\n",
    "        plt.legend()\n",
    "        plt.title(title)\n",
    "        plt.xlabel(\"t-SNE 1\")\n",
    "        plt.ylabel(\"t-SNE 2\")\n",
    "        plt.show()"
   ]
  },
  {
   "cell_type": "markdown",
   "metadata": {},
   "source": [
    "## t-SNE: 3 classes"
   ]
  },
  {
   "cell_type": "code",
   "execution_count": null,
   "metadata": {
    "scrolled": true
   },
   "outputs": [],
   "source": [
    "PERPLEXITY = 40\n",
    "N_ITER = 1500\n",
    "LEARNING_RATE = 30\n",
    "\n",
    "save = False\n",
    "\n",
    "## Audio ##\n",
    "c_embedded_mic, ds_embedded_mic, tc_embedded_mic = perform_tsne([c_features_mic, ds_features_mic, tc_features_mic], \n",
    "                                                                perplexity=PERPLEXITY, \n",
    "                                                                n_iter=N_ITER, \n",
    "                                                                learning_rate=LEARNING_RATE)\n",
    "\n",
    "plot_tsne(data=[c_embedded_mic, ds_embedded_mic, tc_embedded_mic], \n",
    "          labels=['Cough', 'Dry swallow', 'Throat clear'],\n",
    "          colors=['cornflowerblue', 'darkorange', 'mediumspringgreen'],\n",
    "          title='t-SNE - Audio', \n",
    "          alpha=0.5)\n",
    "\n",
    "\n",
    "## NSA ##\n",
    "c_embedded_nsa, ds_embedded_nsa, tc_embedded_nsa = perform_tsne([c_features_nsa, ds_features_nsa, tc_features_nsa], \n",
    "                                                                perplexity=PERPLEXITY, \n",
    "                                                                n_iter=N_ITER, \n",
    "                                                                learning_rate=LEARNING_RATE)\n",
    "\n",
    "plot_tsne(data=[c_embedded_nsa, ds_embedded_nsa, tc_embedded_nsa], \n",
    "          labels=['Cough', 'Dry swallow', 'Throat clear'],\n",
    "          colors=['cornflowerblue', 'darkorange', 'mediumspringgreen'],\n",
    "          title='t-SNE - NSA', \n",
    "          alpha=0.5)\n",
    "\n",
    "if save:\n",
    "    # save the data for plotting it later again\n",
    "    d = dict(cough_mic=c_embedded_mic, dryswallow_mic=ds_embedded_mic, throatclear_mic=tc_embedded_mic, \n",
    "             perplexity=PERPLEXITY, n_iter=N_ITER, learning_rate=LEARNING_RATE)\n",
    "    if os.path.exists(VFP_PATH):\n",
    "        fl.save(\"c_ds_tc_mic.vfp\", d)\n",
    "    \n",
    "    d = dict(cough_nsa=c_embedded_nsa, dryswallow_nsa=ds_embedded_nsa, throatclear_nsa=tc_embedded_nsa, \n",
    "             perplexity=PERPLEXITY, n_iter=N_ITER, learning_rate=LEARNING_RATE)\n",
    "    if os.path.exists(VFP_PATH):\n",
    "        fl.save(\"c_ds_tc_nsa.vfp\", d)"
   ]
  },
  {
   "cell_type": "markdown",
   "metadata": {},
   "source": [
    "## t-SNE: 5 classes"
   ]
  },
  {
   "cell_type": "code",
   "execution_count": null,
   "metadata": {
    "scrolled": true
   },
   "outputs": [],
   "source": [
    "PERPLEXITY = 40\n",
    "N_ITER = 1500\n",
    "LEARNING_RATE = 30\n",
    "\n",
    "save = False\n",
    "\n",
    "## Audio ##\n",
    "c_embedded_mic, ds_embedded_mic, tc_embedded_mic, sc_embedded_mic, sp_embedded_mic = perform_tsne([c_features_mic, \n",
    "                                                                                                   ds_features_mic, \n",
    "                                                                                                   tc_features_mic, \n",
    "                                                                                                   sc_features_mic, \n",
    "                                                                                                   sp_features_mic],\n",
    "                                                                                                  perplexity=PERPLEXITY,\n",
    "                                                                                                  n_iter=N_ITER,\n",
    "                                                                                                  learning_rate=LEARNING_RATE)\n",
    "\n",
    "plot_tsne(data=[c_embedded_mic, ds_embedded_mic, tc_embedded_mic, sc_embedded_mic, sp_embedded_mic], \n",
    "          labels=['Cough', 'Dry swallow', 'Throat clear', 'Silence', 'Speech'],\n",
    "          colors=['cornflowerblue', 'darkorange', 'mediumspringgreen', 'magenta', 'green'],\n",
    "          title='t-SNE - Audio', \n",
    "          alpha=0.5)\n",
    "\n",
    "## NSA ##\n",
    "c_embedded_nsa, ds_embedded_nsa, tc_embedded_nsa, sc_embedded_nsa, sp_embedded_nsa = perform_tsne([c_features_nsa,\n",
    "                                                                                                   ds_features_nsa,\n",
    "                                                                                                   tc_features_nsa,\n",
    "                                                                                                   sc_features_nsa,\n",
    "                                                                                                   sp_features_nsa],\n",
    "                                                                                                  perplexity=PERPLEXITY,\n",
    "                                                                                                  n_iter=N_ITER, \n",
    "                                                                                                  learning_rate=LEARNING_RATE)\n",
    "\n",
    "plot_tsne(data=[c_embedded_nsa, ds_embedded_nsa, tc_embedded_nsa, sc_embedded_nsa, sp_embedded_nsa], \n",
    "          labels=['Cough', 'Dry swallow', 'Throat clear', 'Silence', 'Speech'],\n",
    "          colors=['cornflowerblue', 'darkorange', 'mediumspringgreen', 'magenta', 'green'],\n",
    "          title='t-SNE - NSA', \n",
    "          alpha=0.5)\n",
    "\n",
    "if save:\n",
    "    # save the data for plotting it later again\n",
    "    d = dict(cough_mic=c_embedded_mic, dryswallow_mic=ds_embedded_mic, throatclear_mic=tc_embedded_mic, \n",
    "             silence_mic=sc_embedded_mic, speech_mic=sp_embedded_mic, perplexity=PERPLEXITY, \n",
    "             n_iter=N_ITER, learning_rate=LEARNING_RATE)\n",
    "    if os.path.exists(VFP_PATH):\n",
    "        fl.save(\"c_ds_tc_sc_sp_mic.vfp\", d)\n",
    "    \n",
    "    d = dict(cough_nsa=c_embedded_nsa, dryswallow_nsa=ds_embedded_nsa, throatclear_nsa=tc_embedded_nsa, \n",
    "             silence_nsa=sc_embedded_nsa, speech_nsa=sp_embedded_nsa, perplexity=PERPLEXITY, \n",
    "             n_iter=N_ITER, learning_rate=LEARNING_RATE)\n",
    "    fl.save(\"c_ds_tc_sc_sp_nsa.vfp\", d)"
   ]
  },
  {
   "cell_type": "code",
   "execution_count": null,
   "metadata": {},
   "outputs": [],
   "source": []
  }
 ],
 "metadata": {
  "kernelspec": {
   "display_name": "Python 3",
   "language": "python",
   "name": "python3"
  },
  "language_info": {
   "codemirror_mode": {
    "name": "ipython",
    "version": 3
   },
   "file_extension": ".py",
   "mimetype": "text/x-python",
   "name": "python",
   "nbconvert_exporter": "python",
   "pygments_lexer": "ipython3",
   "version": "3.8.0"
  }
 },
 "nbformat": 4,
 "nbformat_minor": 4
}
