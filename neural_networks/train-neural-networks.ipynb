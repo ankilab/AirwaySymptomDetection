{
 "cells": [
  {
   "cell_type": "code",
   "execution_count": 1,
   "id": "a524567e",
   "metadata": {},
   "outputs": [],
   "source": [
    "import sys  \n",
    "sys.path.insert(0, '../')  # insert path to import the following modules\n",
    "\n",
    "import flammkuchen as fl\n",
    "from src.trainer import Trainer\n",
    "from src.dataloader import DataLoader\n",
    "from utils.params import Params\n",
    "import tensorflow as tf\n",
    "import time\n",
    "import numpy as np\n",
    "from tqdm import tqdm\n",
    "import matplotlib.pyplot as plt\n",
    "import operator\n",
    "import sklearn.metrics as skm\n",
    "import itertools\n",
    "\n",
    "%load_ext autoreload\n",
    "%autoreload 2"
   ]
  },
  {
   "cell_type": "code",
   "execution_count": 3,
   "id": "fb70095a",
   "metadata": {},
   "outputs": [],
   "source": [
    "# load params from params.json\n",
    "params = Params(\"params.json\")\n",
    "\n",
    "NB_EPOCHS = 15\n",
    "BATCH_SIZE = 128\n",
    "NUM_CLASSES = 4\n",
    "class_weights = True\n",
    "\n",
    "RESULTS_DIR = \"Results/\""
   ]
  },
  {
   "cell_type": "code",
   "execution_count": 4,
   "id": "4e50296d",
   "metadata": {
    "scrolled": true
   },
   "outputs": [
    {
     "name": "stdout",
     "output_type": "stream",
     "text": [
      "\n",
      "Currently loading data: P1_1\n"
     ]
    },
    {
     "data": {
      "application/vnd.jupyter.widget-view+json": {
       "model_id": "0412990437ae4f90a8fb988c889294bb",
       "version_major": 2,
       "version_minor": 0
      },
      "text/plain": [
       "  0%|          | 0/1819 [00:00<?, ?it/s]"
      ]
     },
     "metadata": {},
     "output_type": "display_data"
    },
    {
     "name": "stdout",
     "output_type": "stream",
     "text": [
      "\n",
      "Currently loading data: P1_2\n"
     ]
    },
    {
     "data": {
      "application/vnd.jupyter.widget-view+json": {
       "model_id": "1a25800451e24b54aecd30396fd0deb2",
       "version_major": 2,
       "version_minor": 0
      },
      "text/plain": [
       "  0%|          | 0/1748 [00:00<?, ?it/s]"
      ]
     },
     "metadata": {},
     "output_type": "display_data"
    },
    {
     "name": "stdout",
     "output_type": "stream",
     "text": [
      "\n",
      "Currently loading data: P1_3\n"
     ]
    },
    {
     "data": {
      "application/vnd.jupyter.widget-view+json": {
       "model_id": "bafe18d4f64b4e589b8d81c28dc68d80",
       "version_major": 2,
       "version_minor": 0
      },
      "text/plain": [
       "  0%|          | 0/1758 [00:00<?, ?it/s]"
      ]
     },
     "metadata": {},
     "output_type": "display_data"
    },
    {
     "name": "stdout",
     "output_type": "stream",
     "text": [
      "\n",
      "Currently loading data: P2_1\n"
     ]
    },
    {
     "data": {
      "application/vnd.jupyter.widget-view+json": {
       "model_id": "7053853785234870bbf88472b857579b",
       "version_major": 2,
       "version_minor": 0
      },
      "text/plain": [
       "  0%|          | 0/1988 [00:00<?, ?it/s]"
      ]
     },
     "metadata": {},
     "output_type": "display_data"
    },
    {
     "name": "stdout",
     "output_type": "stream",
     "text": [
      "\n",
      "Currently loading data: P2_2\n"
     ]
    },
    {
     "data": {
      "application/vnd.jupyter.widget-view+json": {
       "model_id": "b0bb6183165a45c18ff71808115cc876",
       "version_major": 2,
       "version_minor": 0
      },
      "text/plain": [
       "  0%|          | 0/1880 [00:00<?, ?it/s]"
      ]
     },
     "metadata": {},
     "output_type": "display_data"
    },
    {
     "name": "stdout",
     "output_type": "stream",
     "text": [
      "\n",
      "Currently loading data: P2_3\n"
     ]
    },
    {
     "data": {
      "application/vnd.jupyter.widget-view+json": {
       "model_id": "161a4f56ec4542c1a592dd6dbc3f95da",
       "version_major": 2,
       "version_minor": 0
      },
      "text/plain": [
       "  0%|          | 0/1819 [00:00<?, ?it/s]"
      ]
     },
     "metadata": {},
     "output_type": "display_data"
    },
    {
     "name": "stdout",
     "output_type": "stream",
     "text": [
      "\n",
      "Currently loading data: P3_1\n"
     ]
    },
    {
     "data": {
      "application/vnd.jupyter.widget-view+json": {
       "model_id": "7b10728baa0d4d42b3fd39643aa4689a",
       "version_major": 2,
       "version_minor": 0
      },
      "text/plain": [
       "  0%|          | 0/2157 [00:00<?, ?it/s]"
      ]
     },
     "metadata": {},
     "output_type": "display_data"
    },
    {
     "name": "stdout",
     "output_type": "stream",
     "text": [
      "\n",
      "Currently loading data: P3_2\n"
     ]
    },
    {
     "data": {
      "application/vnd.jupyter.widget-view+json": {
       "model_id": "ce51a4dcf32f46a8b07e085dcfc56db9",
       "version_major": 2,
       "version_minor": 0
      },
      "text/plain": [
       "  0%|          | 0/2088 [00:00<?, ?it/s]"
      ]
     },
     "metadata": {},
     "output_type": "display_data"
    },
    {
     "name": "stdout",
     "output_type": "stream",
     "text": [
      "\n",
      "Currently loading data: P3_3\n"
     ]
    },
    {
     "data": {
      "application/vnd.jupyter.widget-view+json": {
       "model_id": "6d15907146c34f2eb92cbf06124cfae3",
       "version_major": 2,
       "version_minor": 0
      },
      "text/plain": [
       "  0%|          | 0/2116 [00:00<?, ?it/s]"
      ]
     },
     "metadata": {},
     "output_type": "display_data"
    },
    {
     "name": "stdout",
     "output_type": "stream",
     "text": [
      "\n",
      "Currently loading data: P4_1\n"
     ]
    },
    {
     "data": {
      "application/vnd.jupyter.widget-view+json": {
       "model_id": "e78829f5f64e4963b551ca99547309a1",
       "version_major": 2,
       "version_minor": 0
      },
      "text/plain": [
       "  0%|          | 0/2406 [00:00<?, ?it/s]"
      ]
     },
     "metadata": {},
     "output_type": "display_data"
    },
    {
     "name": "stdout",
     "output_type": "stream",
     "text": [
      "\n",
      "Currently loading data: P4_2\n"
     ]
    },
    {
     "data": {
      "application/vnd.jupyter.widget-view+json": {
       "model_id": "c02dc569b3334385a588df903647b765",
       "version_major": 2,
       "version_minor": 0
      },
      "text/plain": [
       "  0%|          | 0/2434 [00:00<?, ?it/s]"
      ]
     },
     "metadata": {},
     "output_type": "display_data"
    },
    {
     "name": "stdout",
     "output_type": "stream",
     "text": [
      "\n",
      "Currently loading data: P4_3\n"
     ]
    },
    {
     "data": {
      "application/vnd.jupyter.widget-view+json": {
       "model_id": "397de446d8514a8dac8fd50a03046e93",
       "version_major": 2,
       "version_minor": 0
      },
      "text/plain": [
       "  0%|          | 0/2427 [00:00<?, ?it/s]"
      ]
     },
     "metadata": {},
     "output_type": "display_data"
    },
    {
     "name": "stdout",
     "output_type": "stream",
     "text": [
      "\n",
      "Currently loading data: P5_1\n"
     ]
    },
    {
     "data": {
      "application/vnd.jupyter.widget-view+json": {
       "model_id": "64f6c30f511141e8b55eb9a7bc3aea2b",
       "version_major": 2,
       "version_minor": 0
      },
      "text/plain": [
       "  0%|          | 0/2055 [00:00<?, ?it/s]"
      ]
     },
     "metadata": {},
     "output_type": "display_data"
    },
    {
     "name": "stdout",
     "output_type": "stream",
     "text": [
      "\n",
      "Currently loading data: P5_2\n"
     ]
    },
    {
     "data": {
      "application/vnd.jupyter.widget-view+json": {
       "model_id": "8ff41e299faf45499bb2a125f2918dc3",
       "version_major": 2,
       "version_minor": 0
      },
      "text/plain": [
       "  0%|          | 0/1921 [00:00<?, ?it/s]"
      ]
     },
     "metadata": {},
     "output_type": "display_data"
    },
    {
     "name": "stdout",
     "output_type": "stream",
     "text": [
      "\n",
      "Currently loading data: P5_3\n"
     ]
    },
    {
     "data": {
      "application/vnd.jupyter.widget-view+json": {
       "model_id": "52927ae6364440bd87d4f5bb0dc381c9",
       "version_major": 2,
       "version_minor": 0
      },
      "text/plain": [
       "  0%|          | 0/1955 [00:00<?, ?it/s]"
      ]
     },
     "metadata": {},
     "output_type": "display_data"
    },
    {
     "name": "stdout",
     "output_type": "stream",
     "text": [
      "\n",
      "Currently loading data: P1_1\n"
     ]
    },
    {
     "data": {
      "application/vnd.jupyter.widget-view+json": {
       "model_id": "9fba015f682d4422be09a63b8cf16dbe",
       "version_major": 2,
       "version_minor": 0
      },
      "text/plain": [
       "  0%|          | 0/1819 [00:00<?, ?it/s]"
      ]
     },
     "metadata": {},
     "output_type": "display_data"
    },
    {
     "name": "stdout",
     "output_type": "stream",
     "text": [
      "\n",
      "Currently loading data: P1_2\n"
     ]
    },
    {
     "data": {
      "application/vnd.jupyter.widget-view+json": {
       "model_id": "af9f6f142a094192a7253297c1213282",
       "version_major": 2,
       "version_minor": 0
      },
      "text/plain": [
       "  0%|          | 0/1750 [00:00<?, ?it/s]"
      ]
     },
     "metadata": {},
     "output_type": "display_data"
    },
    {
     "name": "stdout",
     "output_type": "stream",
     "text": [
      "\n",
      "Currently loading data: P1_3\n"
     ]
    },
    {
     "data": {
      "application/vnd.jupyter.widget-view+json": {
       "model_id": "cb28cb843a014ed0a12f57232cac5f6f",
       "version_major": 2,
       "version_minor": 0
      },
      "text/plain": [
       "  0%|          | 0/1759 [00:00<?, ?it/s]"
      ]
     },
     "metadata": {},
     "output_type": "display_data"
    },
    {
     "name": "stdout",
     "output_type": "stream",
     "text": [
      "\n",
      "Currently loading data: P2_1\n"
     ]
    },
    {
     "data": {
      "application/vnd.jupyter.widget-view+json": {
       "model_id": "0abfa2cb74bc491390e8b9a18048b412",
       "version_major": 2,
       "version_minor": 0
      },
      "text/plain": [
       "  0%|          | 0/1990 [00:00<?, ?it/s]"
      ]
     },
     "metadata": {},
     "output_type": "display_data"
    },
    {
     "name": "stdout",
     "output_type": "stream",
     "text": [
      "\n",
      "Currently loading data: P2_2\n"
     ]
    },
    {
     "data": {
      "application/vnd.jupyter.widget-view+json": {
       "model_id": "3f7c699e093b46e3b6e6a1e5a518f460",
       "version_major": 2,
       "version_minor": 0
      },
      "text/plain": [
       "  0%|          | 0/1881 [00:00<?, ?it/s]"
      ]
     },
     "metadata": {},
     "output_type": "display_data"
    },
    {
     "name": "stdout",
     "output_type": "stream",
     "text": [
      "\n",
      "Currently loading data: P2_3\n"
     ]
    },
    {
     "data": {
      "application/vnd.jupyter.widget-view+json": {
       "model_id": "3724923c512a4bbdb3153ad950081833",
       "version_major": 2,
       "version_minor": 0
      },
      "text/plain": [
       "  0%|          | 0/1819 [00:00<?, ?it/s]"
      ]
     },
     "metadata": {},
     "output_type": "display_data"
    },
    {
     "name": "stdout",
     "output_type": "stream",
     "text": [
      "\n",
      "Currently loading data: P3_1\n"
     ]
    },
    {
     "data": {
      "application/vnd.jupyter.widget-view+json": {
       "model_id": "f200a8f2c3324644b670b3c3128c69d7",
       "version_major": 2,
       "version_minor": 0
      },
      "text/plain": [
       "  0%|          | 0/2157 [00:00<?, ?it/s]"
      ]
     },
     "metadata": {},
     "output_type": "display_data"
    },
    {
     "name": "stdout",
     "output_type": "stream",
     "text": [
      "\n",
      "Currently loading data: P3_2\n"
     ]
    },
    {
     "data": {
      "application/vnd.jupyter.widget-view+json": {
       "model_id": "d1db1c509eda4b1bb1a6bbbd2fd7da9a",
       "version_major": 2,
       "version_minor": 0
      },
      "text/plain": [
       "  0%|          | 0/2089 [00:00<?, ?it/s]"
      ]
     },
     "metadata": {},
     "output_type": "display_data"
    },
    {
     "name": "stdout",
     "output_type": "stream",
     "text": [
      "\n",
      "Currently loading data: P3_3\n"
     ]
    },
    {
     "data": {
      "application/vnd.jupyter.widget-view+json": {
       "model_id": "8ae9d5f67cf94ae39ad2c26ca350e0dc",
       "version_major": 2,
       "version_minor": 0
      },
      "text/plain": [
       "  0%|          | 0/2113 [00:00<?, ?it/s]"
      ]
     },
     "metadata": {},
     "output_type": "display_data"
    },
    {
     "name": "stdout",
     "output_type": "stream",
     "text": [
      "\n",
      "Currently loading data: P4_1\n"
     ]
    },
    {
     "data": {
      "application/vnd.jupyter.widget-view+json": {
       "model_id": "e0cdf4e3365a4257ad083a66724d65a0",
       "version_major": 2,
       "version_minor": 0
      },
      "text/plain": [
       "  0%|          | 0/2406 [00:00<?, ?it/s]"
      ]
     },
     "metadata": {},
     "output_type": "display_data"
    },
    {
     "name": "stdout",
     "output_type": "stream",
     "text": [
      "\n",
      "Currently loading data: P4_2\n"
     ]
    },
    {
     "data": {
      "application/vnd.jupyter.widget-view+json": {
       "model_id": "2d335f87c74049ef812d7e3408eef2f9",
       "version_major": 2,
       "version_minor": 0
      },
      "text/plain": [
       "  0%|          | 0/2438 [00:00<?, ?it/s]"
      ]
     },
     "metadata": {},
     "output_type": "display_data"
    },
    {
     "name": "stdout",
     "output_type": "stream",
     "text": [
      "\n",
      "Currently loading data: P4_3\n"
     ]
    },
    {
     "data": {
      "application/vnd.jupyter.widget-view+json": {
       "model_id": "91b6e084587845a49101c86d68e5040f",
       "version_major": 2,
       "version_minor": 0
      },
      "text/plain": [
       "  0%|          | 0/2427 [00:00<?, ?it/s]"
      ]
     },
     "metadata": {},
     "output_type": "display_data"
    },
    {
     "name": "stdout",
     "output_type": "stream",
     "text": [
      "\n",
      "Currently loading data: P5_1\n"
     ]
    },
    {
     "data": {
      "application/vnd.jupyter.widget-view+json": {
       "model_id": "c933d2b8bc1d46bdb3b7093682aaa059",
       "version_major": 2,
       "version_minor": 0
      },
      "text/plain": [
       "  0%|          | 0/2056 [00:00<?, ?it/s]"
      ]
     },
     "metadata": {},
     "output_type": "display_data"
    },
    {
     "name": "stdout",
     "output_type": "stream",
     "text": [
      "\n",
      "Currently loading data: P5_2\n"
     ]
    },
    {
     "data": {
      "application/vnd.jupyter.widget-view+json": {
       "model_id": "9ac4cdb873284dc4b784e59a34ce119a",
       "version_major": 2,
       "version_minor": 0
      },
      "text/plain": [
       "  0%|          | 0/1922 [00:00<?, ?it/s]"
      ]
     },
     "metadata": {},
     "output_type": "display_data"
    },
    {
     "name": "stdout",
     "output_type": "stream",
     "text": [
      "\n",
      "Currently loading data: P5_3\n"
     ]
    },
    {
     "data": {
      "application/vnd.jupyter.widget-view+json": {
       "model_id": "5d4e066293914148a7b13e3eb3a3e523",
       "version_major": 2,
       "version_minor": 0
      },
      "text/plain": [
       "  0%|          | 0/1955 [00:00<?, ?it/s]"
      ]
     },
     "metadata": {},
     "output_type": "display_data"
    }
   ],
   "source": [
    "# create Audio Trainer object\n",
    "params.signal_type = \"MIC\"\n",
    "trainer_mic = Trainer(params, NUM_CLASSES, BATCH_SIZE, NB_EPOCHS)  # training data will be loaded inside Trainer object based on information in params.json\n",
    "\n",
    "# create NSA Trainer object\n",
    "params.signal_type = \"NSA\"\n",
    "trainer_nsa = Trainer(params, NUM_CLASSES, BATCH_SIZE, NB_EPOCHS)  # training data will be loaded inside Trainer object based on information in params.json"
   ]
  },
  {
   "cell_type": "code",
   "execution_count": 5,
   "id": "2eb4618a",
   "metadata": {
    "scrolled": true
   },
   "outputs": [
    {
     "name": "stdout",
     "output_type": "stream",
     "text": [
      "Using class weights: {0: 3.5377086931491077, 1: 1.6179568193786202, 2: 3.9165073295092414, 3: 0.3516250858319982}\n",
      "Start training\n",
      "WARNING:tensorflow:From C:\\Users\\du92wufe\\AppData\\Roaming\\Python\\Python38\\site-packages\\tensorflow\\python\\ops\\array_ops.py:5043: calling gather (from tensorflow.python.ops.array_ops) with validate_indices is deprecated and will be removed in a future version.\n",
      "Instructions for updating:\n",
      "The `validate_indices` argument has no effect. Indices are always validated on CPU and never validated on GPU.\n",
      "Epoch 1/15\n",
      "\n",
      "Epoch 00001: LearningRateScheduler reducing learning rate to 0.001.\n",
      "193/193 [==============================] - 13s 39ms/step - loss: 0.3437 - accuracy: 0.8382 - val_loss: 1.5883 - val_accuracy: 0.2779\n",
      "\n",
      "Epoch 00001: val_accuracy improved from -inf to 0.27789, saving model to Results/MIC/ResNet18/20211011-084750/Checkpoints\\model.hdf5\n",
      "Epoch 2/15\n",
      "\n",
      "Epoch 00002: LearningRateScheduler reducing learning rate to 0.001.\n",
      "193/193 [==============================] - 7s 36ms/step - loss: 0.2398 - accuracy: 0.8673 - val_loss: 0.8571 - val_accuracy: 0.7098\n",
      "\n",
      "Epoch 00002: val_accuracy improved from 0.27789 to 0.70977, saving model to Results/MIC/ResNet18/20211011-084750/Checkpoints\\model.hdf5\n",
      "Epoch 3/15\n",
      "\n",
      "Epoch 00003: LearningRateScheduler reducing learning rate to 0.001.\n",
      "193/193 [==============================] - 7s 37ms/step - loss: 0.1731 - accuracy: 0.8893 - val_loss: 0.5766 - val_accuracy: 0.8252\n",
      "\n",
      "Epoch 00003: val_accuracy improved from 0.70977 to 0.82522, saving model to Results/MIC/ResNet18/20211011-084750/Checkpoints\\model.hdf5\n",
      "Epoch 4/15\n",
      "\n",
      "Epoch 00004: LearningRateScheduler reducing learning rate to 0.0009048374610134307.\n",
      "193/193 [==============================] - 7s 36ms/step - loss: 0.1510 - accuracy: 0.8963 - val_loss: 0.3669 - val_accuracy: 0.8475\n",
      "\n",
      "Epoch 00004: val_accuracy improved from 0.82522 to 0.84753, saving model to Results/MIC/ResNet18/20211011-084750/Checkpoints\\model.hdf5\n",
      "Epoch 5/15\n",
      "\n",
      "Epoch 00005: LearningRateScheduler reducing learning rate to 0.0008187307807475673.\n",
      "193/193 [==============================] - 7s 37ms/step - loss: 0.1315 - accuracy: 0.9043 - val_loss: 0.4657 - val_accuracy: 0.8098\n",
      "\n",
      "Epoch 00005: val_accuracy did not improve from 0.84753\n",
      "Epoch 6/15\n",
      "\n",
      "Epoch 00006: LearningRateScheduler reducing learning rate to 0.0007408182609837606.\n",
      "193/193 [==============================] - 7s 38ms/step - loss: 0.1194 - accuracy: 0.9124 - val_loss: 0.4856 - val_accuracy: 0.8267\n",
      "\n",
      "Epoch 00006: val_accuracy did not improve from 0.84753\n",
      "Epoch 7/15\n",
      "\n",
      "Epoch 00007: LearningRateScheduler reducing learning rate to 0.0006703200923609524.\n",
      "193/193 [==============================] - 7s 35ms/step - loss: 0.1103 - accuracy: 0.9185 - val_loss: 0.5987 - val_accuracy: 0.8146\n",
      "\n",
      "Epoch 00007: val_accuracy did not improve from 0.84753\n",
      "Epoch 8/15\n",
      "\n",
      "Epoch 00008: LearningRateScheduler reducing learning rate to 0.000606530675391766.\n",
      "193/193 [==============================] - 7s 36ms/step - loss: 0.0899 - accuracy: 0.9298 - val_loss: 0.3397 - val_accuracy: 0.8636\n",
      "\n",
      "Epoch 00008: val_accuracy improved from 0.84753 to 0.86359, saving model to Results/MIC/ResNet18/20211011-084750/Checkpoints\\model.hdf5\n",
      "Epoch 9/15\n",
      "\n",
      "Epoch 00009: LearningRateScheduler reducing learning rate to 0.0005488116682245179.\n",
      "193/193 [==============================] - 7s 36ms/step - loss: 0.0836 - accuracy: 0.9349 - val_loss: 0.2633 - val_accuracy: 0.8849\n",
      "\n",
      "Epoch 00009: val_accuracy improved from 0.86359 to 0.88489, saving model to Results/MIC/ResNet18/20211011-084750/Checkpoints\\model.hdf5\n",
      "Epoch 10/15\n",
      "\n",
      "Epoch 00010: LearningRateScheduler reducing learning rate to 0.0004965853504160465.\n",
      "193/193 [==============================] - 7s 36ms/step - loss: 0.1022 - accuracy: 0.9285 - val_loss: 0.3578 - val_accuracy: 0.8648\n",
      "\n",
      "Epoch 00010: val_accuracy did not improve from 0.88489\n",
      "Epoch 11/15\n",
      "\n",
      "Epoch 00011: LearningRateScheduler reducing learning rate to 0.0004493289874054642.\n",
      "193/193 [==============================] - 7s 37ms/step - loss: 0.0780 - accuracy: 0.9403 - val_loss: 0.3332 - val_accuracy: 0.8678\n",
      "\n",
      "Epoch 00011: val_accuracy did not improve from 0.88489\n",
      "Epoch 12/15\n",
      "\n",
      "Epoch 00012: LearningRateScheduler reducing learning rate to 0.0004065696690041351.\n",
      "193/193 [==============================] - 7s 37ms/step - loss: 0.0594 - accuracy: 0.9534 - val_loss: 0.3134 - val_accuracy: 0.8832\n",
      "\n",
      "Epoch 00012: val_accuracy did not improve from 0.88489\n",
      "Epoch 13/15\n",
      "\n",
      "Epoch 00013: LearningRateScheduler reducing learning rate to 0.00036787943756223617.\n",
      "193/193 [==============================] - 7s 36ms/step - loss: 0.0521 - accuracy: 0.9604 - val_loss: 0.8929 - val_accuracy: 0.7500\n",
      "\n",
      "Epoch 00013: val_accuracy did not improve from 0.88489\n",
      "Epoch 14/15\n",
      "\n",
      "Epoch 00014: LearningRateScheduler reducing learning rate to 0.0003328710744911885.\n",
      "193/193 [==============================] - 7s 36ms/step - loss: 0.1648 - accuracy: 0.9011 - val_loss: 0.5087 - val_accuracy: 0.8416\n",
      "\n",
      "Epoch 00014: val_accuracy did not improve from 0.88489\n",
      "Epoch 15/15\n",
      "\n",
      "Epoch 00015: LearningRateScheduler reducing learning rate to 0.00030119420279690575.\n",
      "193/193 [==============================] - 7s 36ms/step - loss: 0.0827 - accuracy: 0.9392 - val_loss: 0.3060 - val_accuracy: 0.8798\n",
      "\n",
      "Epoch 00015: val_accuracy did not improve from 0.88489\n"
     ]
    },
    {
     "data": {
      "text/plain": [
       "(<src.ResNet.resnet.ResNetTypeI at 0x23b636e03d0>,\n",
       " <tensorflow.python.keras.callbacks.History at 0x23c135e4be0>,\n",
       " None,\n",
       " None)"
      ]
     },
     "execution_count": 5,
     "metadata": {},
     "output_type": "execute_result"
    },
    {
     "data": {
      "image/png": "[encoded data removed]",
      "text/plain": [
       "<Figure size 432x288 with 1 Axes>"
      ]
     },
     "metadata": {
      "needs_background": "light"
     },
     "output_type": "display_data"
    }
   ],
   "source": [
    "trainer_mic.train(architecture='ResNet18', results_dir=RESULTS_DIR, class_weights=class_weights)"
   ]
  },
  {
   "cell_type": "code",
   "execution_count": 6,
   "id": "6852295e",
   "metadata": {
    "scrolled": true
   },
   "outputs": [
    {
     "name": "stdout",
     "output_type": "stream",
     "text": [
      "Using class weights: {0: 3.5377086931491077, 1: 1.6179568193786202, 2: 3.9165073295092414, 3: 0.3516250858319982}\n",
      "Start training\n",
      "Epoch 1/15\n",
      "\n",
      "Epoch 00001: LearningRateScheduler reducing learning rate to 0.001.\n",
      "193/193 [==============================] - 13s 57ms/step - loss: 0.6703 - accuracy: 0.7218 - val_loss: 3.1837 - val_accuracy: 0.3053\n",
      "\n",
      "Epoch 00001: val_accuracy improved from -inf to 0.30527, saving model to Results/MIC/ResNet34/20211011-084944/Checkpoints\\model.hdf5\n",
      "Epoch 2/15\n",
      "\n",
      "Epoch 00002: LearningRateScheduler reducing learning rate to 0.001.\n",
      "193/193 [==============================] - 10s 54ms/step - loss: 0.3080 - accuracy: 0.8444 - val_loss: 0.4688 - val_accuracy: 0.8152\n",
      "\n",
      "Epoch 00002: val_accuracy improved from 0.30527 to 0.81525, saving model to Results/MIC/ResNet34/20211011-084944/Checkpoints\\model.hdf5\n",
      "Epoch 3/15\n",
      "\n",
      "Epoch 00003: LearningRateScheduler reducing learning rate to 0.001.\n",
      "193/193 [==============================] - 10s 52ms/step - loss: 0.2333 - accuracy: 0.8725 - val_loss: 0.6816 - val_accuracy: 0.7767\n",
      "\n",
      "Epoch 00003: val_accuracy did not improve from 0.81525\n",
      "Epoch 4/15\n",
      "\n",
      "Epoch 00004: LearningRateScheduler reducing learning rate to 0.0009048374610134307.\n",
      "193/193 [==============================] - 11s 55ms/step - loss: 0.2039 - accuracy: 0.8803 - val_loss: 0.5810 - val_accuracy: 0.7830\n",
      "\n",
      "Epoch 00004: val_accuracy did not improve from 0.81525\n",
      "Epoch 5/15\n",
      "\n",
      "Epoch 00005: LearningRateScheduler reducing learning rate to 0.0008187307807475673.\n",
      "193/193 [==============================] - 11s 55ms/step - loss: 0.1901 - accuracy: 0.8839 - val_loss: 0.3345 - val_accuracy: 0.8676\n",
      "\n",
      "Epoch 00005: val_accuracy improved from 0.81525 to 0.86765, saving model to Results/MIC/ResNet34/20211011-084944/Checkpoints\\model.hdf5\n",
      "Epoch 6/15\n",
      "\n",
      "Epoch 00006: LearningRateScheduler reducing learning rate to 0.0007408182609837606.\n",
      "193/193 [==============================] - 11s 55ms/step - loss: 0.1739 - accuracy: 0.8876 - val_loss: 0.2415 - val_accuracy: 0.8957\n",
      "\n",
      "Epoch 00006: val_accuracy improved from 0.86765 to 0.89571, saving model to Results/MIC/ResNet34/20211011-084944/Checkpoints\\model.hdf5\n",
      "Epoch 7/15\n",
      "\n",
      "Epoch 00007: LearningRateScheduler reducing learning rate to 0.0006703200923609524.\n",
      "193/193 [==============================] - 11s 55ms/step - loss: 0.1595 - accuracy: 0.8934 - val_loss: 0.3584 - val_accuracy: 0.8626\n",
      "\n",
      "Epoch 00007: val_accuracy did not improve from 0.89571\n",
      "Epoch 8/15\n",
      "\n",
      "Epoch 00008: LearningRateScheduler reducing learning rate to 0.000606530675391766.\n",
      "193/193 [==============================] - 10s 53ms/step - loss: 0.1447 - accuracy: 0.8987 - val_loss: 0.3327 - val_accuracy: 0.8698\n",
      "\n",
      "Epoch 00008: val_accuracy did not improve from 0.89571\n",
      "Epoch 9/15\n",
      "\n",
      "Epoch 00009: LearningRateScheduler reducing learning rate to 0.0005488116682245179.\n",
      "193/193 [==============================] - 11s 56ms/step - loss: 0.1434 - accuracy: 0.9005 - val_loss: 0.5507 - val_accuracy: 0.8169\n",
      "\n",
      "Epoch 00009: val_accuracy did not improve from 0.89571\n",
      "Epoch 10/15\n",
      "\n",
      "Epoch 00010: LearningRateScheduler reducing learning rate to 0.0004965853504160465.\n",
      "193/193 [==============================] - 11s 55ms/step - loss: 0.1319 - accuracy: 0.9026 - val_loss: 0.2936 - val_accuracy: 0.8719\n",
      "\n",
      "Epoch 00010: val_accuracy did not improve from 0.89571\n",
      "Epoch 11/15\n",
      "\n",
      "Epoch 00011: LearningRateScheduler reducing learning rate to 0.0004493289874054642.\n",
      "193/193 [==============================] - 11s 55ms/step - loss: 0.1203 - accuracy: 0.9097 - val_loss: 0.2808 - val_accuracy: 0.8793\n",
      "\n",
      "Epoch 00011: val_accuracy did not improve from 0.89571\n",
      "Epoch 12/15\n",
      "\n",
      "Epoch 00012: LearningRateScheduler reducing learning rate to 0.0004065696690041351.\n",
      "193/193 [==============================] - 11s 55ms/step - loss: 0.1644 - accuracy: 0.8889 - val_loss: 0.5297 - val_accuracy: 0.8026\n",
      "\n",
      "Epoch 00012: val_accuracy did not improve from 0.89571\n",
      "Epoch 13/15\n",
      "\n",
      "Epoch 00013: LearningRateScheduler reducing learning rate to 0.00036787943756223617.\n",
      "193/193 [==============================] - 10s 54ms/step - loss: 0.1393 - accuracy: 0.8986 - val_loss: 0.8962 - val_accuracy: 0.7253\n",
      "\n",
      "Epoch 00013: val_accuracy did not improve from 0.89571\n",
      "Epoch 14/15\n",
      "\n",
      "Epoch 00014: LearningRateScheduler reducing learning rate to 0.0003328710744911885.\n",
      "193/193 [==============================] - 10s 54ms/step - loss: 0.2688 - accuracy: 0.8487 - val_loss: 0.2875 - val_accuracy: 0.8829\n",
      "\n",
      "Epoch 00014: val_accuracy did not improve from 0.89571\n",
      "Epoch 15/15\n",
      "\n",
      "Epoch 00015: LearningRateScheduler reducing learning rate to 0.00030119420279690575.\n",
      "193/193 [==============================] - 10s 54ms/step - loss: 0.1466 - accuracy: 0.9015 - val_loss: 0.2644 - val_accuracy: 0.8852\n",
      "\n",
      "Epoch 00015: val_accuracy did not improve from 0.89571\n"
     ]
    },
    {
     "data": {
      "text/plain": [
       "(<src.ResNet.resnet.ResNetTypeI at 0x23c130a5850>,\n",
       " <tensorflow.python.keras.callbacks.History at 0x23bffdd9c70>,\n",
       " None,\n",
       " None)"
      ]
     },
     "execution_count": 6,
     "metadata": {},
     "output_type": "execute_result"
    },
    {
     "data": {
      "image/png": "[encoded data removed]",
      "text/plain": [
       "<Figure size 432x288 with 1 Axes>"
      ]
     },
     "metadata": {
      "needs_background": "light"
     },
     "output_type": "display_data"
    }
   ],
   "source": [
    "trainer_mic.train(architecture='ResNet34', results_dir=RESULTS_DIR, class_weights=class_weights)"
   ]
  },
  {
   "cell_type": "code",
   "execution_count": 7,
   "id": "1990f5f2",
   "metadata": {
    "scrolled": true
   },
   "outputs": [
    {
     "name": "stdout",
     "output_type": "stream",
     "text": [
      "Using class weights: {0: 3.5377086931491077, 1: 1.6179568193786202, 2: 3.9165073295092414, 3: 0.3516250858319982}\n",
      "Start training\n",
      "Epoch 1/15\n",
      "\n",
      "Epoch 00001: LearningRateScheduler reducing learning rate to 0.001.\n",
      "193/193 [==============================] - 28s 113ms/step - loss: 1.0666 - accuracy: 0.6770 - val_loss: 0.9208 - val_accuracy: 0.7361\n",
      "\n",
      "Epoch 00001: val_accuracy improved from -inf to 0.73614, saving model to Results/MIC/EfficientNetB0/20211011-085226/Checkpoints\\model.hdf5\n",
      "Epoch 2/15\n",
      "\n",
      "Epoch 00002: LearningRateScheduler reducing learning rate to 0.001.\n",
      "193/193 [==============================] - 20s 105ms/step - loss: 0.4046 - accuracy: 0.7961 - val_loss: 0.7017 - val_accuracy: 0.7361\n",
      "\n",
      "Epoch 00002: val_accuracy did not improve from 0.73614\n",
      "Epoch 3/15\n",
      "\n",
      "Epoch 00003: LearningRateScheduler reducing learning rate to 0.001.\n",
      "193/193 [==============================] - 20s 105ms/step - loss: 0.2514 - accuracy: 0.8583 - val_loss: 0.9542 - val_accuracy: 0.6410\n",
      "\n",
      "Epoch 00003: val_accuracy did not improve from 0.73614\n",
      "Epoch 4/15\n",
      "\n",
      "Epoch 00004: LearningRateScheduler reducing learning rate to 0.0009048374610134307.\n",
      "193/193 [==============================] - 20s 104ms/step - loss: 0.2386 - accuracy: 0.8635 - val_loss: 0.5194 - val_accuracy: 0.8100\n",
      "\n",
      "Epoch 00004: val_accuracy improved from 0.73614 to 0.81001, saving model to Results/MIC/EfficientNetB0/20211011-085226/Checkpoints\\model.hdf5\n",
      "Epoch 5/15\n",
      "\n",
      "Epoch 00005: LearningRateScheduler reducing learning rate to 0.0008187307807475673.\n",
      "193/193 [==============================] - 19s 97ms/step - loss: 0.2421 - accuracy: 0.8638 - val_loss: 0.4287 - val_accuracy: 0.8223\n",
      "\n",
      "Epoch 00005: val_accuracy improved from 0.81001 to 0.82235, saving model to Results/MIC/EfficientNetB0/20211011-085226/Checkpoints\\model.hdf5\n",
      "Epoch 6/15\n",
      "\n",
      "Epoch 00006: LearningRateScheduler reducing learning rate to 0.0007408182609837606.\n",
      "193/193 [==============================] - 19s 99ms/step - loss: 0.1843 - accuracy: 0.8809 - val_loss: 0.4728 - val_accuracy: 0.8120\n",
      "\n",
      "Epoch 00006: val_accuracy did not improve from 0.82235\n",
      "Epoch 7/15\n",
      "\n",
      "Epoch 00007: LearningRateScheduler reducing learning rate to 0.0006703200923609524.\n",
      "193/193 [==============================] - 20s 101ms/step - loss: 0.1721 - accuracy: 0.8822 - val_loss: 0.3623 - val_accuracy: 0.8536\n",
      "\n",
      "Epoch 00007: val_accuracy improved from 0.82235 to 0.85362, saving model to Results/MIC/EfficientNetB0/20211011-085226/Checkpoints\\model.hdf5\n",
      "Epoch 8/15\n",
      "\n",
      "Epoch 00008: LearningRateScheduler reducing learning rate to 0.000606530675391766.\n",
      "193/193 [==============================] - 21s 106ms/step - loss: 0.1838 - accuracy: 0.8895 - val_loss: 0.3427 - val_accuracy: 0.8556\n",
      "\n",
      "Epoch 00008: val_accuracy improved from 0.85362 to 0.85565, saving model to Results/MIC/EfficientNetB0/20211011-085226/Checkpoints\\model.hdf5\n",
      "Epoch 9/15\n",
      "\n",
      "Epoch 00009: LearningRateScheduler reducing learning rate to 0.0005488116682245179.\n",
      "193/193 [==============================] - 20s 104ms/step - loss: 0.1495 - accuracy: 0.8962 - val_loss: 0.4267 - val_accuracy: 0.8352\n",
      "\n",
      "Epoch 00009: val_accuracy did not improve from 0.85565\n",
      "Epoch 10/15\n",
      "\n",
      "Epoch 00010: LearningRateScheduler reducing learning rate to 0.0004965853504160465.\n",
      "193/193 [==============================] - 20s 103ms/step - loss: 0.1916 - accuracy: 0.8841 - val_loss: 0.4063 - val_accuracy: 0.8387\n",
      "\n",
      "Epoch 00010: val_accuracy did not improve from 0.85565\n",
      "Epoch 11/15\n",
      "\n",
      "Epoch 00011: LearningRateScheduler reducing learning rate to 0.0004493289874054642.\n",
      "193/193 [==============================] - 20s 102ms/step - loss: 0.1728 - accuracy: 0.8917 - val_loss: 0.3409 - val_accuracy: 0.8487\n",
      "\n",
      "Epoch 00011: val_accuracy did not improve from 0.85565\n",
      "Epoch 12/15\n",
      "\n",
      "Epoch 00012: LearningRateScheduler reducing learning rate to 0.0004065696690041351.\n",
      "193/193 [==============================] - 21s 107ms/step - loss: 0.1410 - accuracy: 0.9005 - val_loss: 0.3832 - val_accuracy: 0.8477\n",
      "\n",
      "Epoch 00012: val_accuracy did not improve from 0.85565\n",
      "Epoch 13/15\n",
      "\n",
      "Epoch 00013: LearningRateScheduler reducing learning rate to 0.00036787943756223617.\n",
      "193/193 [==============================] - 20s 105ms/step - loss: 0.1609 - accuracy: 0.8949 - val_loss: 0.4325 - val_accuracy: 0.8414\n",
      "\n",
      "Epoch 00013: val_accuracy did not improve from 0.85565\n",
      "Epoch 14/15\n",
      "\n",
      "Epoch 00014: LearningRateScheduler reducing learning rate to 0.0003328710744911885.\n",
      "193/193 [==============================] - 20s 104ms/step - loss: 0.1381 - accuracy: 0.9052 - val_loss: 0.3503 - val_accuracy: 0.8575\n",
      "\n",
      "Epoch 00014: val_accuracy improved from 0.85565 to 0.85751, saving model to Results/MIC/EfficientNetB0/20211011-085226/Checkpoints\\model.hdf5\n",
      "Epoch 15/15\n",
      "\n",
      "Epoch 00015: LearningRateScheduler reducing learning rate to 0.00030119420279690575.\n",
      "193/193 [==============================] - 20s 104ms/step - loss: 0.1218 - accuracy: 0.9105 - val_loss: 0.4141 - val_accuracy: 0.8360\n",
      "\n",
      "Epoch 00015: val_accuracy did not improve from 0.85751\n"
     ]
    },
    {
     "data": {
      "text/plain": [
       "(<tensorflow.python.keras.engine.functional.Functional at 0x23be62f86a0>,\n",
       " <tensorflow.python.keras.callbacks.History at 0x23c12cb51f0>,\n",
       " None,\n",
       " None)"
      ]
     },
     "execution_count": 7,
     "metadata": {},
     "output_type": "execute_result"
    },
    {
     "data": {
      "image/png": "[encoded data removed]",
      "text/plain": [
       "<Figure size 432x288 with 1 Axes>"
      ]
     },
     "metadata": {
      "needs_background": "light"
     },
     "output_type": "display_data"
    }
   ],
   "source": [
    "trainer_mic.train(architecture='EfficientNetB0', results_dir=RESULTS_DIR, class_weights=class_weights)"
   ]
  },
  {
   "cell_type": "code",
   "execution_count": 8,
   "id": "7d2c1561",
   "metadata": {
    "scrolled": true
   },
   "outputs": [
    {
     "name": "stdout",
     "output_type": "stream",
     "text": [
      "Using class weights: {0: 3.5377086931491077, 1: 1.6179568193786202, 2: 3.9165073295092414, 3: 0.3516250858319982}\n",
      "Start training\n",
      "Epoch 1/15\n",
      "\n",
      "Epoch 00001: LearningRateScheduler reducing learning rate to 0.001.\n",
      "193/193 [==============================] - 16s 68ms/step - loss: 0.5211 - accuracy: 0.7266 - val_loss: 1.7659 - val_accuracy: 0.0659\n",
      "\n",
      "Epoch 00001: val_accuracy improved from -inf to 0.06592, saving model to Results/MIC/MobileNetV2/20211011-085736/Checkpoints\\model.hdf5\n",
      "Epoch 2/15\n",
      "\n",
      "Epoch 00002: LearningRateScheduler reducing learning rate to 0.001.\n",
      "193/193 [==============================] - 12s 63ms/step - loss: 0.2280 - accuracy: 0.8703 - val_loss: 2.1125 - val_accuracy: 0.0659\n",
      "\n",
      "Epoch 00002: val_accuracy did not improve from 0.06592\n",
      "Epoch 3/15\n",
      "\n",
      "Epoch 00003: LearningRateScheduler reducing learning rate to 0.001.\n",
      "193/193 [==============================] - 12s 63ms/step - loss: 0.1885 - accuracy: 0.8820 - val_loss: 2.0344 - val_accuracy: 0.0659\n",
      "\n",
      "Epoch 00003: val_accuracy did not improve from 0.06592\n",
      "Epoch 4/15\n",
      "\n",
      "Epoch 00004: LearningRateScheduler reducing learning rate to 0.0009048374610134307.\n",
      "193/193 [==============================] - 12s 64ms/step - loss: 0.1498 - accuracy: 0.8921 - val_loss: 2.3165 - val_accuracy: 0.0659\n",
      "\n",
      "Epoch 00004: val_accuracy did not improve from 0.06592\n",
      "Epoch 5/15\n",
      "\n",
      "Epoch 00005: LearningRateScheduler reducing learning rate to 0.0008187307807475673.\n",
      "193/193 [==============================] - 12s 63ms/step - loss: 0.1421 - accuracy: 0.8990 - val_loss: 2.4921 - val_accuracy: 0.0659\n",
      "\n",
      "Epoch 00005: val_accuracy did not improve from 0.06592\n",
      "Epoch 6/15\n",
      "\n",
      "Epoch 00006: LearningRateScheduler reducing learning rate to 0.0007408182609837606.\n",
      "193/193 [==============================] - 12s 62ms/step - loss: 0.1261 - accuracy: 0.9073 - val_loss: 2.7238 - val_accuracy: 0.0659\n",
      "\n",
      "Epoch 00006: val_accuracy did not improve from 0.06592\n",
      "Epoch 7/15\n",
      "\n",
      "Epoch 00007: LearningRateScheduler reducing learning rate to 0.0006703200923609524.\n",
      "193/193 [==============================] - 12s 62ms/step - loss: 0.1222 - accuracy: 0.9110 - val_loss: 2.6643 - val_accuracy: 0.0659\n",
      "\n",
      "Epoch 00007: val_accuracy did not improve from 0.06592\n",
      "Epoch 8/15\n",
      "\n",
      "Epoch 00008: LearningRateScheduler reducing learning rate to 0.000606530675391766.\n",
      "193/193 [==============================] - 12s 62ms/step - loss: 0.0964 - accuracy: 0.9240 - val_loss: 2.8535 - val_accuracy: 0.0659\n",
      "\n",
      "Epoch 00008: val_accuracy did not improve from 0.06592\n",
      "Epoch 9/15\n",
      "\n",
      "Epoch 00009: LearningRateScheduler reducing learning rate to 0.0005488116682245179.\n",
      "193/193 [==============================] - 12s 63ms/step - loss: 0.0989 - accuracy: 0.9240 - val_loss: 3.4230 - val_accuracy: 0.0659\n",
      "\n",
      "Epoch 00009: val_accuracy did not improve from 0.06592\n",
      "Epoch 10/15\n",
      "\n",
      "Epoch 00010: LearningRateScheduler reducing learning rate to 0.0004965853504160465.\n",
      "193/193 [==============================] - 12s 63ms/step - loss: 0.0939 - accuracy: 0.9282 - val_loss: 3.1396 - val_accuracy: 0.0659\n",
      "\n",
      "Epoch 00010: val_accuracy did not improve from 0.06592\n",
      "Epoch 11/15\n",
      "\n",
      "Epoch 00011: LearningRateScheduler reducing learning rate to 0.0004493289874054642.\n",
      "193/193 [==============================] - 12s 64ms/step - loss: 0.1509 - accuracy: 0.9041 - val_loss: 3.4155 - val_accuracy: 0.0659\n",
      "\n",
      "Epoch 00011: val_accuracy did not improve from 0.06592\n",
      "Epoch 12/15\n",
      "\n",
      "Epoch 00012: LearningRateScheduler reducing learning rate to 0.0004065696690041351.\n",
      "193/193 [==============================] - 12s 63ms/step - loss: 0.0863 - accuracy: 0.9329 - val_loss: 3.6723 - val_accuracy: 0.0659\n",
      "\n",
      "Epoch 00012: val_accuracy did not improve from 0.06592\n",
      "Epoch 13/15\n",
      "\n",
      "Epoch 00013: LearningRateScheduler reducing learning rate to 0.00036787943756223617.\n",
      "193/193 [==============================] - 12s 62ms/step - loss: 0.0764 - accuracy: 0.9415 - val_loss: 3.6081 - val_accuracy: 0.0659\n",
      "\n",
      "Epoch 00013: val_accuracy did not improve from 0.06592\n",
      "Epoch 14/15\n",
      "\n",
      "Epoch 00014: LearningRateScheduler reducing learning rate to 0.0003328710744911885.\n",
      "193/193 [==============================] - 12s 62ms/step - loss: 0.0872 - accuracy: 0.9297 - val_loss: 4.4227 - val_accuracy: 0.0659\n",
      "\n",
      "Epoch 00014: val_accuracy did not improve from 0.06592\n",
      "Epoch 15/15\n",
      "\n",
      "Epoch 00015: LearningRateScheduler reducing learning rate to 0.00030119420279690575.\n",
      "193/193 [==============================] - 12s 63ms/step - loss: 0.1443 - accuracy: 0.9061 - val_loss: 4.9168 - val_accuracy: 0.0659\n",
      "\n",
      "Epoch 00015: val_accuracy did not improve from 0.06592\n"
     ]
    },
    {
     "data": {
      "text/plain": [
       "(<tensorflow.python.keras.engine.functional.Functional at 0x23c0d45b640>,\n",
       " <tensorflow.python.keras.callbacks.History at 0x23c1ae283a0>,\n",
       " None,\n",
       " None)"
      ]
     },
     "execution_count": 8,
     "metadata": {},
     "output_type": "execute_result"
    },
    {
     "data": {
      "image/png": "[encoded data removed]",
      "text/plain": [
       "<Figure size 432x288 with 1 Axes>"
      ]
     },
     "metadata": {
      "needs_background": "light"
     },
     "output_type": "display_data"
    }
   ],
   "source": [
    "trainer_mic.train(architecture='MobileNetV2', results_dir=RESULTS_DIR, class_weights=class_weights)"
   ]
  },
  {
   "cell_type": "code",
   "execution_count": 9,
   "id": "85b45392",
   "metadata": {},
   "outputs": [
    {
     "name": "stdout",
     "output_type": "stream",
     "text": [
      "Using class weights: {0: 3.5377086931491077, 1: 1.6179568193786202, 2: 3.9165073295092414, 3: 0.3516250858319982}\n",
      "Start training\n",
      "Epoch 1/15\n",
      "\n",
      "Epoch 00001: LearningRateScheduler reducing learning rate to 0.001.\n",
      "193/193 [==============================] - 10s 31ms/step - loss: 0.6253 - accuracy: 0.6897 - val_loss: 0.5553 - val_accuracy: 0.7600\n",
      "\n",
      "Epoch 00001: val_accuracy improved from -inf to 0.75997, saving model to Results/MIC/RNN_Amoh/20211011-090043/Checkpoints\\model.hdf5\n",
      "Epoch 2/15\n",
      "\n",
      "Epoch 00002: LearningRateScheduler reducing learning rate to 0.001.\n",
      "193/193 [==============================] - 6s 30ms/step - loss: 0.3817 - accuracy: 0.7970 - val_loss: 0.6467 - val_accuracy: 0.7466\n",
      "\n",
      "Epoch 00002: val_accuracy did not improve from 0.75997\n",
      "Epoch 3/15\n",
      "\n",
      "Epoch 00003: LearningRateScheduler reducing learning rate to 0.001.\n",
      "193/193 [==============================] - 6s 30ms/step - loss: 0.3138 - accuracy: 0.8336 - val_loss: 0.5525 - val_accuracy: 0.7759\n",
      "\n",
      "Epoch 00003: val_accuracy improved from 0.75997 to 0.77586, saving model to Results/MIC/RNN_Amoh/20211011-090043/Checkpoints\\model.hdf5\n",
      "Epoch 4/15\n",
      "\n",
      "Epoch 00004: LearningRateScheduler reducing learning rate to 0.0009048374610134307.\n",
      "193/193 [==============================] - 5s 27ms/step - loss: 0.2670 - accuracy: 0.8486 - val_loss: 0.5090 - val_accuracy: 0.7933\n",
      "\n",
      "Epoch 00004: val_accuracy improved from 0.77586 to 0.79327, saving model to Results/MIC/RNN_Amoh/20211011-090043/Checkpoints\\model.hdf5\n",
      "Epoch 5/15\n",
      "\n",
      "Epoch 00005: LearningRateScheduler reducing learning rate to 0.0008187307807475673.\n",
      "193/193 [==============================] - 6s 29ms/step - loss: 0.2429 - accuracy: 0.8587 - val_loss: 0.5171 - val_accuracy: 0.7916\n",
      "\n",
      "Epoch 00005: val_accuracy did not improve from 0.79327\n",
      "Epoch 6/15\n",
      "\n",
      "Epoch 00006: LearningRateScheduler reducing learning rate to 0.0007408182609837606.\n",
      "193/193 [==============================] - 5s 28ms/step - loss: 0.2216 - accuracy: 0.8642 - val_loss: 0.4420 - val_accuracy: 0.8180\n",
      "\n",
      "Epoch 00006: val_accuracy improved from 0.79327 to 0.81795, saving model to Results/MIC/RNN_Amoh/20211011-090043/Checkpoints\\model.hdf5\n",
      "Epoch 7/15\n",
      "\n",
      "Epoch 00007: LearningRateScheduler reducing learning rate to 0.0006703200923609524.\n",
      "193/193 [==============================] - 5s 27ms/step - loss: 0.1993 - accuracy: 0.8728 - val_loss: 0.4926 - val_accuracy: 0.7968\n",
      "\n",
      "Epoch 00007: val_accuracy did not improve from 0.81795\n",
      "Epoch 8/15\n",
      "\n",
      "Epoch 00008: LearningRateScheduler reducing learning rate to 0.000606530675391766.\n",
      "193/193 [==============================] - 6s 29ms/step - loss: 0.1883 - accuracy: 0.8758 - val_loss: 0.4829 - val_accuracy: 0.8137\n",
      "\n",
      "Epoch 00008: val_accuracy did not improve from 0.81795\n",
      "Epoch 9/15\n",
      "\n",
      "Epoch 00009: LearningRateScheduler reducing learning rate to 0.0005488116682245179.\n",
      "193/193 [==============================] - 5s 28ms/step - loss: 0.1791 - accuracy: 0.8778 - val_loss: 0.4167 - val_accuracy: 0.8259\n",
      "\n",
      "Epoch 00009: val_accuracy improved from 0.81795 to 0.82590, saving model to Results/MIC/RNN_Amoh/20211011-090043/Checkpoints\\model.hdf5\n",
      "Epoch 10/15\n",
      "\n",
      "Epoch 00010: LearningRateScheduler reducing learning rate to 0.0004965853504160465.\n",
      "193/193 [==============================] - 5s 28ms/step - loss: 0.1673 - accuracy: 0.8827 - val_loss: 0.4476 - val_accuracy: 0.8044\n",
      "\n",
      "Epoch 00010: val_accuracy did not improve from 0.82590\n",
      "Epoch 11/15\n",
      "\n",
      "Epoch 00011: LearningRateScheduler reducing learning rate to 0.0004493289874054642.\n",
      "193/193 [==============================] - 6s 29ms/step - loss: 0.1548 - accuracy: 0.8848 - val_loss: 0.4205 - val_accuracy: 0.8120\n",
      "\n",
      "Epoch 00011: val_accuracy did not improve from 0.82590\n",
      "Epoch 12/15\n",
      "\n",
      "Epoch 00012: LearningRateScheduler reducing learning rate to 0.0004065696690041351.\n",
      "193/193 [==============================] - 5s 28ms/step - loss: 0.1490 - accuracy: 0.8887 - val_loss: 0.4788 - val_accuracy: 0.8065\n",
      "\n",
      "Epoch 00012: val_accuracy did not improve from 0.82590\n",
      "Epoch 13/15\n",
      "\n",
      "Epoch 00013: LearningRateScheduler reducing learning rate to 0.00036787943756223617.\n",
      "193/193 [==============================] - 5s 27ms/step - loss: 0.1630 - accuracy: 0.8733 - val_loss: 0.4368 - val_accuracy: 0.8134\n",
      "\n",
      "Epoch 00013: val_accuracy did not improve from 0.82590\n",
      "Epoch 14/15\n",
      "\n",
      "Epoch 00014: LearningRateScheduler reducing learning rate to 0.0003328710744911885.\n",
      "193/193 [==============================] - 6s 29ms/step - loss: 0.1433 - accuracy: 0.8919 - val_loss: 0.4703 - val_accuracy: 0.8039\n",
      "\n",
      "Epoch 00014: val_accuracy did not improve from 0.82590\n",
      "Epoch 15/15\n",
      "\n",
      "Epoch 00015: LearningRateScheduler reducing learning rate to 0.00030119420279690575.\n",
      "193/193 [==============================] - 5s 28ms/step - loss: 0.1355 - accuracy: 0.8944 - val_loss: 0.4230 - val_accuracy: 0.8225\n",
      "\n",
      "Epoch 00015: val_accuracy did not improve from 0.82590\n"
     ]
    },
    {
     "data": {
      "text/plain": [
       "(<tensorflow.python.keras.engine.sequential.Sequential at 0x23c34187040>,\n",
       " <tensorflow.python.keras.callbacks.History at 0x23c3439fa30>,\n",
       " None,\n",
       " None)"
      ]
     },
     "execution_count": 9,
     "metadata": {},
     "output_type": "execute_result"
    },
    {
     "data": {
      "image/png": "[encoded data removed]",
      "text/plain": [
       "<Figure size 432x288 with 1 Axes>"
      ]
     },
     "metadata": {
      "needs_background": "light"
     },
     "output_type": "display_data"
    }
   ],
   "source": [
    "trainer_mic.train(architecture='RNN_Amoh', results_dir=RESULTS_DIR, class_weights=class_weights)"
   ]
  },
  {
   "cell_type": "code",
   "execution_count": 10,
   "id": "67c6d1d3",
   "metadata": {
    "scrolled": true
   },
   "outputs": [
    {
     "name": "stdout",
     "output_type": "stream",
     "text": [
      "Using class weights: {0: 3.5377086931491077, 1: 1.6179568193786202, 2: 3.9165073295092414, 3: 0.3516250858319982}\n",
      "Start training\n",
      "Epoch 1/15\n",
      "\n",
      "Epoch 00001: LearningRateScheduler reducing learning rate to 0.001.\n",
      "193/193 [==============================] - 8s 27ms/step - loss: 0.5236 - accuracy: 0.7402 - val_loss: 0.5759 - val_accuracy: 0.7598\n",
      "\n",
      "Epoch 00001: val_accuracy improved from -inf to 0.75980, saving model to Results/MIC/RNN_Basic/20211011-090211/Checkpoints\\model.hdf5\n",
      "Epoch 2/15\n",
      "\n",
      "Epoch 00002: LearningRateScheduler reducing learning rate to 0.001.\n",
      "193/193 [==============================] - 4s 22ms/step - loss: 0.3370 - accuracy: 0.8187 - val_loss: 0.6519 - val_accuracy: 0.7456\n",
      "\n",
      "Epoch 00002: val_accuracy did not improve from 0.75980\n",
      "Epoch 3/15\n",
      "\n",
      "Epoch 00003: LearningRateScheduler reducing learning rate to 0.001.\n",
      "193/193 [==============================] - 5s 24ms/step - loss: 0.2833 - accuracy: 0.8395 - val_loss: 0.4522 - val_accuracy: 0.8171\n",
      "\n",
      "Epoch 00003: val_accuracy improved from 0.75980 to 0.81711, saving model to Results/MIC/RNN_Basic/20211011-090211/Checkpoints\\model.hdf5\n",
      "Epoch 4/15\n",
      "\n",
      "Epoch 00004: LearningRateScheduler reducing learning rate to 0.0009048374610134307.\n",
      "193/193 [==============================] - 5s 24ms/step - loss: 0.2577 - accuracy: 0.8516 - val_loss: 0.5472 - val_accuracy: 0.7792\n",
      "\n",
      "Epoch 00004: val_accuracy did not improve from 0.81711\n",
      "Epoch 5/15\n",
      "\n",
      "Epoch 00005: LearningRateScheduler reducing learning rate to 0.0008187307807475673.\n",
      "193/193 [==============================] - 4s 23ms/step - loss: 0.2332 - accuracy: 0.8596 - val_loss: 0.4395 - val_accuracy: 0.8087\n",
      "\n",
      "Epoch 00005: val_accuracy did not improve from 0.81711\n",
      "Epoch 6/15\n",
      "\n",
      "Epoch 00006: LearningRateScheduler reducing learning rate to 0.0007408182609837606.\n",
      "193/193 [==============================] - 5s 23ms/step - loss: 0.2093 - accuracy: 0.8690 - val_loss: 0.4666 - val_accuracy: 0.8063\n",
      "\n",
      "Epoch 00006: val_accuracy did not improve from 0.81711\n",
      "Epoch 7/15\n",
      "\n",
      "Epoch 00007: LearningRateScheduler reducing learning rate to 0.0006703200923609524.\n",
      "193/193 [==============================] - 5s 25ms/step - loss: 0.1999 - accuracy: 0.8723 - val_loss: 0.4157 - val_accuracy: 0.8230\n",
      "\n",
      "Epoch 00007: val_accuracy improved from 0.81711 to 0.82302, saving model to Results/MIC/RNN_Basic/20211011-090211/Checkpoints\\model.hdf5\n",
      "Epoch 8/15\n",
      "\n",
      "Epoch 00008: LearningRateScheduler reducing learning rate to 0.000606530675391766.\n",
      "193/193 [==============================] - 5s 25ms/step - loss: 0.1782 - accuracy: 0.8796 - val_loss: 0.4322 - val_accuracy: 0.8198\n",
      "\n",
      "Epoch 00008: val_accuracy did not improve from 0.82302\n",
      "Epoch 9/15\n",
      "\n",
      "Epoch 00009: LearningRateScheduler reducing learning rate to 0.0005488116682245179.\n",
      "193/193 [==============================] - 4s 23ms/step - loss: 0.1708 - accuracy: 0.8816 - val_loss: 0.4621 - val_accuracy: 0.8127\n",
      "\n",
      "Epoch 00009: val_accuracy did not improve from 0.82302\n",
      "Epoch 10/15\n",
      "\n",
      "Epoch 00010: LearningRateScheduler reducing learning rate to 0.0004965853504160465.\n",
      "193/193 [==============================] - 4s 23ms/step - loss: 0.1626 - accuracy: 0.8847 - val_loss: 0.4148 - val_accuracy: 0.8293\n",
      "\n",
      "Epoch 00010: val_accuracy improved from 0.82302 to 0.82928, saving model to Results/MIC/RNN_Basic/20211011-090211/Checkpoints\\model.hdf5\n",
      "Epoch 11/15\n",
      "\n",
      "Epoch 00011: LearningRateScheduler reducing learning rate to 0.0004493289874054642.\n",
      "193/193 [==============================] - 5s 24ms/step - loss: 0.1526 - accuracy: 0.8895 - val_loss: 0.4016 - val_accuracy: 0.8261\n",
      "\n",
      "Epoch 00011: val_accuracy did not improve from 0.82928\n",
      "Epoch 12/15\n",
      "\n",
      "Epoch 00012: LearningRateScheduler reducing learning rate to 0.0004065696690041351.\n",
      "193/193 [==============================] - 5s 24ms/step - loss: 0.1444 - accuracy: 0.8922 - val_loss: 0.3962 - val_accuracy: 0.8311\n",
      "\n",
      "Epoch 00012: val_accuracy improved from 0.82928 to 0.83114, saving model to Results/MIC/RNN_Basic/20211011-090211/Checkpoints\\model.hdf5\n",
      "Epoch 13/15\n",
      "\n",
      "Epoch 00013: LearningRateScheduler reducing learning rate to 0.00036787943756223617.\n",
      "193/193 [==============================] - 5s 24ms/step - loss: 0.1383 - accuracy: 0.8946 - val_loss: 0.4217 - val_accuracy: 0.8261\n",
      "\n",
      "Epoch 00013: val_accuracy did not improve from 0.83114\n",
      "Epoch 14/15\n",
      "\n",
      "Epoch 00014: LearningRateScheduler reducing learning rate to 0.0003328710744911885.\n",
      "193/193 [==============================] - 5s 24ms/step - loss: 0.1329 - accuracy: 0.8969 - val_loss: 0.4369 - val_accuracy: 0.8232\n",
      "\n",
      "Epoch 00014: val_accuracy did not improve from 0.83114\n",
      "Epoch 15/15\n",
      "\n",
      "Epoch 00015: LearningRateScheduler reducing learning rate to 0.00030119420279690575.\n",
      "193/193 [==============================] - 5s 24ms/step - loss: 0.1279 - accuracy: 0.9005 - val_loss: 0.3996 - val_accuracy: 0.8298\n",
      "\n",
      "Epoch 00015: val_accuracy did not improve from 0.83114\n"
     ]
    },
    {
     "data": {
      "text/plain": [
       "(<tensorflow.python.keras.engine.sequential.Sequential at 0x23beec4b730>,\n",
       " <tensorflow.python.keras.callbacks.History at 0x23beedffca0>,\n",
       " None,\n",
       " None)"
      ]
     },
     "execution_count": 10,
     "metadata": {},
     "output_type": "execute_result"
    },
    {
     "data": {
      "image/png": "[encoded data removed]",
      "text/plain": [
       "<Figure size 432x288 with 1 Axes>"
      ]
     },
     "metadata": {
      "needs_background": "light"
     },
     "output_type": "display_data"
    }
   ],
   "source": [
    "trainer_mic.train(architecture='RNN_Basic', results_dir=RESULTS_DIR, class_weights=class_weights)"
   ]
  },
  {
   "cell_type": "markdown",
   "id": "739f6a52",
   "metadata": {},
   "source": [
    "## Train architectures with NSA data"
   ]
  },
  {
   "cell_type": "code",
   "execution_count": 11,
   "id": "c61d068a",
   "metadata": {
    "scrolled": true
   },
   "outputs": [
    {
     "name": "stdout",
     "output_type": "stream",
     "text": [
      "Using class weights: {0: 3.538860103626943, 1: 1.6184834123222749, 2: 3.9177820267686423, 3: 0.35157858613589565}\n",
      "Start training\n",
      "Epoch 1/15\n",
      "\n",
      "Epoch 00001: LearningRateScheduler reducing learning rate to 0.001.\n",
      "193/193 [==============================] - 9s 39ms/step - loss: 0.4896 - accuracy: 0.7650 - val_loss: 0.5841 - val_accuracy: 0.7347\n",
      "\n",
      "Epoch 00001: val_accuracy improved from -inf to 0.73471, saving model to Results/NSA/ResNet18/20211011-090324/Checkpoints\\model.hdf5\n",
      "Epoch 2/15\n",
      "\n",
      "Epoch 00002: LearningRateScheduler reducing learning rate to 0.001.\n",
      "193/193 [==============================] - 7s 34ms/step - loss: 0.2603 - accuracy: 0.8517 - val_loss: 0.4119 - val_accuracy: 0.8285\n",
      "\n",
      "Epoch 00002: val_accuracy improved from 0.73471 to 0.82849, saving model to Results/NSA/ResNet18/20211011-090324/Checkpoints\\model.hdf5\n",
      "Epoch 3/15\n",
      "\n",
      "Epoch 00003: LearningRateScheduler reducing learning rate to 0.001.\n",
      "193/193 [==============================] - 7s 36ms/step - loss: 0.2096 - accuracy: 0.8718 - val_loss: 0.7531 - val_accuracy: 0.7156\n",
      "\n",
      "Epoch 00003: val_accuracy did not improve from 0.82849\n",
      "Epoch 4/15\n",
      "\n",
      "Epoch 00004: LearningRateScheduler reducing learning rate to 0.0009048374610134307.\n",
      "193/193 [==============================] - 7s 37ms/step - loss: 0.1978 - accuracy: 0.8804 - val_loss: 0.3329 - val_accuracy: 0.8567\n",
      "\n",
      "Epoch 00004: val_accuracy improved from 0.82849 to 0.85671, saving model to Results/NSA/ResNet18/20211011-090324/Checkpoints\\model.hdf5\n",
      "Epoch 5/15\n",
      "\n",
      "Epoch 00005: LearningRateScheduler reducing learning rate to 0.0008187307807475673.\n",
      "193/193 [==============================] - 7s 37ms/step - loss: 0.1741 - accuracy: 0.8885 - val_loss: 0.4286 - val_accuracy: 0.8197\n",
      "\n",
      "Epoch 00005: val_accuracy did not improve from 0.85671\n",
      "Epoch 6/15\n",
      "\n",
      "Epoch 00006: LearningRateScheduler reducing learning rate to 0.0007408182609837606.\n",
      "193/193 [==============================] - 7s 38ms/step - loss: 0.1567 - accuracy: 0.8942 - val_loss: 0.4021 - val_accuracy: 0.8481\n",
      "\n",
      "Epoch 00006: val_accuracy did not improve from 0.85671\n",
      "Epoch 7/15\n",
      "\n",
      "Epoch 00007: LearningRateScheduler reducing learning rate to 0.0006703200923609524.\n",
      "193/193 [==============================] - 7s 36ms/step - loss: 0.1436 - accuracy: 0.9006 - val_loss: 0.3783 - val_accuracy: 0.8591\n",
      "\n",
      "Epoch 00007: val_accuracy improved from 0.85671 to 0.85907, saving model to Results/NSA/ResNet18/20211011-090324/Checkpoints\\model.hdf5\n",
      "Epoch 8/15\n",
      "\n",
      "Epoch 00008: LearningRateScheduler reducing learning rate to 0.000606530675391766.\n",
      "193/193 [==============================] - 7s 36ms/step - loss: 0.1352 - accuracy: 0.9042 - val_loss: 0.3063 - val_accuracy: 0.8795\n",
      "\n",
      "Epoch 00008: val_accuracy improved from 0.85907 to 0.87952, saving model to Results/NSA/ResNet18/20211011-090324/Checkpoints\\model.hdf5\n",
      "Epoch 9/15\n",
      "\n",
      "Epoch 00009: LearningRateScheduler reducing learning rate to 0.0005488116682245179.\n",
      "193/193 [==============================] - 7s 36ms/step - loss: 0.1234 - accuracy: 0.9094 - val_loss: 0.3669 - val_accuracy: 0.8618\n",
      "\n",
      "Epoch 00009: val_accuracy did not improve from 0.87952\n",
      "Epoch 10/15\n",
      "\n",
      "Epoch 00010: LearningRateScheduler reducing learning rate to 0.0004965853504160465.\n",
      "193/193 [==============================] - 7s 37ms/step - loss: 0.1233 - accuracy: 0.9119 - val_loss: 0.3006 - val_accuracy: 0.8738\n",
      "\n",
      "Epoch 00010: val_accuracy did not improve from 0.87952\n",
      "Epoch 11/15\n",
      "\n",
      "Epoch 00011: LearningRateScheduler reducing learning rate to 0.0004493289874054642.\n",
      "193/193 [==============================] - 7s 36ms/step - loss: 0.1162 - accuracy: 0.9145 - val_loss: 0.3148 - val_accuracy: 0.8711\n",
      "\n",
      "Epoch 00011: val_accuracy did not improve from 0.87952\n",
      "Epoch 12/15\n",
      "\n",
      "Epoch 00012: LearningRateScheduler reducing learning rate to 0.0004065696690041351.\n",
      "193/193 [==============================] - 7s 37ms/step - loss: 0.0996 - accuracy: 0.9237 - val_loss: 0.3805 - val_accuracy: 0.8572\n",
      "\n",
      "Epoch 00012: val_accuracy did not improve from 0.87952\n",
      "Epoch 13/15\n",
      "\n",
      "Epoch 00013: LearningRateScheduler reducing learning rate to 0.00036787943756223617.\n",
      "193/193 [==============================] - 7s 35ms/step - loss: 0.0917 - accuracy: 0.9284 - val_loss: 0.3906 - val_accuracy: 0.8717\n",
      "\n",
      "Epoch 00013: val_accuracy did not improve from 0.87952\n",
      "Epoch 14/15\n",
      "\n",
      "Epoch 00014: LearningRateScheduler reducing learning rate to 0.0003328710744911885.\n",
      "193/193 [==============================] - 7s 36ms/step - loss: 0.0855 - accuracy: 0.9327 - val_loss: 0.3211 - val_accuracy: 0.8797\n",
      "\n",
      "Epoch 00014: val_accuracy improved from 0.87952 to 0.87969, saving model to Results/NSA/ResNet18/20211011-090324/Checkpoints\\model.hdf5\n",
      "Epoch 15/15\n",
      "\n",
      "Epoch 00015: LearningRateScheduler reducing learning rate to 0.00030119420279690575.\n",
      "193/193 [==============================] - 7s 37ms/step - loss: 0.0755 - accuracy: 0.9412 - val_loss: 0.3047 - val_accuracy: 0.8910\n",
      "\n",
      "Epoch 00015: val_accuracy improved from 0.87969 to 0.89101, saving model to Results/NSA/ResNet18/20211011-090324/Checkpoints\\model.hdf5\n"
     ]
    },
    {
     "data": {
      "text/plain": [
       "(<src.ResNet.resnet.ResNetTypeI at 0x23beec9a160>,\n",
       " <tensorflow.python.keras.callbacks.History at 0x23bf29a4640>,\n",
       " None,\n",
       " None)"
      ]
     },
     "execution_count": 11,
     "metadata": {},
     "output_type": "execute_result"
    },
    {
     "data": {
      "image/png": "[encoded data removed]",
      "text/plain": [
       "<Figure size 432x288 with 1 Axes>"
      ]
     },
     "metadata": {
      "needs_background": "light"
     },
     "output_type": "display_data"
    }
   ],
   "source": [
    "trainer_nsa.train(architecture='ResNet18', results_dir=RESULTS_DIR, class_weights=class_weights)"
   ]
  },
  {
   "cell_type": "code",
   "execution_count": 12,
   "id": "f322a4e8",
   "metadata": {
    "scrolled": true
   },
   "outputs": [
    {
     "name": "stdout",
     "output_type": "stream",
     "text": [
      "Using class weights: {0: 3.538860103626943, 1: 1.6184834123222749, 2: 3.9177820267686423, 3: 0.35157858613589565}\n",
      "Start training\n",
      "Epoch 1/15\n",
      "\n",
      "Epoch 00001: LearningRateScheduler reducing learning rate to 0.001.\n",
      "193/193 [==============================] - 13s 58ms/step - loss: 0.7347 - accuracy: 0.6781 - val_loss: 0.7143 - val_accuracy: 0.6985\n",
      "\n",
      "Epoch 00001: val_accuracy improved from -inf to 0.69855, saving model to Results/NSA/ResNet34/20211011-090513/Checkpoints\\model.hdf5\n",
      "Epoch 2/15\n",
      "\n",
      "Epoch 00002: LearningRateScheduler reducing learning rate to 0.001.\n",
      "193/193 [==============================] - 11s 55ms/step - loss: 0.3153 - accuracy: 0.8216 - val_loss: 0.9024 - val_accuracy: 0.6490\n",
      "\n",
      "Epoch 00002: val_accuracy did not improve from 0.69855\n",
      "Epoch 3/15\n",
      "\n",
      "Epoch 00003: LearningRateScheduler reducing learning rate to 0.001.\n",
      "193/193 [==============================] - 10s 53ms/step - loss: 0.2805 - accuracy: 0.8405 - val_loss: 0.5665 - val_accuracy: 0.7898\n",
      "\n",
      "Epoch 00003: val_accuracy improved from 0.69855 to 0.78979, saving model to Results/NSA/ResNet34/20211011-090513/Checkpoints\\model.hdf5\n",
      "Epoch 4/15\n",
      "\n",
      "Epoch 00004: LearningRateScheduler reducing learning rate to 0.0009048374610134307.\n",
      "193/193 [==============================] - 10s 54ms/step - loss: 0.2387 - accuracy: 0.8605 - val_loss: 0.2831 - val_accuracy: 0.8783\n",
      "\n",
      "Epoch 00004: val_accuracy improved from 0.78979 to 0.87834, saving model to Results/NSA/ResNet34/20211011-090513/Checkpoints\\model.hdf5\n",
      "Epoch 5/15\n",
      "\n",
      "Epoch 00005: LearningRateScheduler reducing learning rate to 0.0008187307807475673.\n",
      "193/193 [==============================] - 11s 55ms/step - loss: 0.2131 - accuracy: 0.8681 - val_loss: 0.3023 - val_accuracy: 0.8716\n",
      "\n",
      "Epoch 00005: val_accuracy did not improve from 0.87834\n",
      "Epoch 6/15\n",
      "\n",
      "Epoch 00006: LearningRateScheduler reducing learning rate to 0.0007408182609837606.\n",
      "193/193 [==============================] - 10s 54ms/step - loss: 0.1883 - accuracy: 0.8823 - val_loss: 0.4372 - val_accuracy: 0.8211\n",
      "\n",
      "Epoch 00006: val_accuracy did not improve from 0.87834\n",
      "Epoch 7/15\n",
      "\n",
      "Epoch 00007: LearningRateScheduler reducing learning rate to 0.0006703200923609524.\n",
      "193/193 [==============================] - 10s 54ms/step - loss: 0.1865 - accuracy: 0.8828 - val_loss: 0.3347 - val_accuracy: 0.8704\n",
      "\n",
      "Epoch 00007: val_accuracy did not improve from 0.87834\n",
      "Epoch 8/15\n",
      "\n",
      "Epoch 00008: LearningRateScheduler reducing learning rate to 0.000606530675391766.\n",
      "193/193 [==============================] - 10s 52ms/step - loss: 0.1791 - accuracy: 0.8827 - val_loss: 0.2739 - val_accuracy: 0.8711\n",
      "\n",
      "Epoch 00008: val_accuracy did not improve from 0.87834\n",
      "Epoch 9/15\n",
      "\n",
      "Epoch 00009: LearningRateScheduler reducing learning rate to 0.0005488116682245179.\n",
      "193/193 [==============================] - 10s 54ms/step - loss: 0.1537 - accuracy: 0.8946 - val_loss: 0.4520 - val_accuracy: 0.8320\n",
      "\n",
      "Epoch 00009: val_accuracy did not improve from 0.87834\n",
      "Epoch 10/15\n",
      "\n",
      "Epoch 00010: LearningRateScheduler reducing learning rate to 0.0004965853504160465.\n",
      "193/193 [==============================] - 10s 54ms/step - loss: 0.1436 - accuracy: 0.8978 - val_loss: 0.5016 - val_accuracy: 0.8146\n",
      "\n",
      "Epoch 00010: val_accuracy did not improve from 0.87834\n",
      "Epoch 11/15\n",
      "\n",
      "Epoch 00011: LearningRateScheduler reducing learning rate to 0.0004493289874054642.\n",
      "193/193 [==============================] - 10s 52ms/step - loss: 0.1588 - accuracy: 0.8941 - val_loss: 0.5391 - val_accuracy: 0.8033\n",
      "\n",
      "Epoch 00011: val_accuracy did not improve from 0.87834\n",
      "Epoch 12/15\n",
      "\n",
      "Epoch 00012: LearningRateScheduler reducing learning rate to 0.0004065696690041351.\n",
      "193/193 [==============================] - 10s 54ms/step - loss: 0.1495 - accuracy: 0.8998 - val_loss: 0.3095 - val_accuracy: 0.8670\n",
      "\n",
      "Epoch 00012: val_accuracy did not improve from 0.87834\n",
      "Epoch 13/15\n",
      "\n",
      "Epoch 00013: LearningRateScheduler reducing learning rate to 0.00036787943756223617.\n",
      "193/193 [==============================] - 10s 53ms/step - loss: 0.1232 - accuracy: 0.9087 - val_loss: 0.3003 - val_accuracy: 0.8748\n",
      "\n",
      "Epoch 00013: val_accuracy did not improve from 0.87834\n",
      "Epoch 14/15\n",
      "\n",
      "Epoch 00014: LearningRateScheduler reducing learning rate to 0.0003328710744911885.\n",
      "193/193 [==============================] - 10s 54ms/step - loss: 0.1187 - accuracy: 0.9112 - val_loss: 0.2815 - val_accuracy: 0.8794\n",
      "\n",
      "Epoch 00014: val_accuracy improved from 0.87834 to 0.87935, saving model to Results/NSA/ResNet34/20211011-090513/Checkpoints\\model.hdf5\n",
      "Epoch 15/15\n",
      "\n",
      "Epoch 00015: LearningRateScheduler reducing learning rate to 0.00030119420279690575.\n",
      "193/193 [==============================] - 10s 54ms/step - loss: 0.1095 - accuracy: 0.9154 - val_loss: 0.2962 - val_accuracy: 0.8856\n",
      "\n",
      "Epoch 00015: val_accuracy improved from 0.87935 to 0.88560, saving model to Results/NSA/ResNet34/20211011-090513/Checkpoints\\model.hdf5\n"
     ]
    },
    {
     "data": {
      "text/plain": [
       "(<src.ResNet.resnet.ResNetTypeI at 0x23bfa045400>,\n",
       " <tensorflow.python.keras.callbacks.History at 0x23bfa2bcb80>,\n",
       " None,\n",
       " None)"
      ]
     },
     "execution_count": 12,
     "metadata": {},
     "output_type": "execute_result"
    },
    {
     "data": {
      "image/png": "[encoded data removed]",
      "text/plain": [
       "<Figure size 432x288 with 1 Axes>"
      ]
     },
     "metadata": {
      "needs_background": "light"
     },
     "output_type": "display_data"
    }
   ],
   "source": [
    "trainer_nsa.train(architecture='ResNet34', results_dir=RESULTS_DIR, class_weights=class_weights)"
   ]
  },
  {
   "cell_type": "code",
   "execution_count": 13,
   "id": "4aee3404",
   "metadata": {
    "scrolled": true
   },
   "outputs": [
    {
     "name": "stdout",
     "output_type": "stream",
     "text": [
      "Using class weights: {0: 3.538860103626943, 1: 1.6184834123222749, 2: 3.9177820267686423, 3: 0.35157858613589565}\n",
      "Start training\n",
      "Epoch 1/15\n",
      "\n",
      "Epoch 00001: LearningRateScheduler reducing learning rate to 0.001.\n",
      "193/193 [==============================] - 26s 106ms/step - loss: 0.9167 - accuracy: 0.6678 - val_loss: 0.8736 - val_accuracy: 0.7362\n",
      "\n",
      "Epoch 00001: val_accuracy improved from -inf to 0.73623, saving model to Results/NSA/EfficientNetB0/20211011-090754/Checkpoints\\model.hdf5\n",
      "Epoch 2/15\n",
      "\n",
      "Epoch 00002: LearningRateScheduler reducing learning rate to 0.001.\n",
      "193/193 [==============================] - 20s 103ms/step - loss: 0.3337 - accuracy: 0.8239 - val_loss: 1.4177 - val_accuracy: 0.3815\n",
      "\n",
      "Epoch 00002: val_accuracy did not improve from 0.73623\n",
      "Epoch 3/15\n",
      "\n",
      "Epoch 00003: LearningRateScheduler reducing learning rate to 0.001.\n",
      "193/193 [==============================] - 19s 100ms/step - loss: 0.2293 - accuracy: 0.8627 - val_loss: 1.1184 - val_accuracy: 0.6370\n",
      "\n",
      "Epoch 00003: val_accuracy did not improve from 0.73623\n",
      "Epoch 4/15\n",
      "\n",
      "Epoch 00004: LearningRateScheduler reducing learning rate to 0.0009048374610134307.\n",
      "193/193 [==============================] - 19s 98ms/step - loss: 0.1840 - accuracy: 0.8828 - val_loss: 0.4680 - val_accuracy: 0.8140\n",
      "\n",
      "Epoch 00004: val_accuracy improved from 0.73623 to 0.81396, saving model to Results/NSA/EfficientNetB0/20211011-090754/Checkpoints\\model.hdf5\n",
      "Epoch 5/15\n",
      "\n",
      "Epoch 00005: LearningRateScheduler reducing learning rate to 0.0008187307807475673.\n",
      "193/193 [==============================] - 19s 99ms/step - loss: 0.1546 - accuracy: 0.8941 - val_loss: 0.3840 - val_accuracy: 0.8493\n",
      "\n",
      "Epoch 00005: val_accuracy improved from 0.81396 to 0.84927, saving model to Results/NSA/EfficientNetB0/20211011-090754/Checkpoints\\model.hdf5\n",
      "Epoch 6/15\n",
      "\n",
      "Epoch 00006: LearningRateScheduler reducing learning rate to 0.0007408182609837606.\n",
      "193/193 [==============================] - 19s 100ms/step - loss: 0.1356 - accuracy: 0.9070 - val_loss: 0.3558 - val_accuracy: 0.8614\n",
      "\n",
      "Epoch 00006: val_accuracy improved from 0.84927 to 0.86144, saving model to Results/NSA/EfficientNetB0/20211011-090754/Checkpoints\\model.hdf5\n",
      "Epoch 7/15\n",
      "\n",
      "Epoch 00007: LearningRateScheduler reducing learning rate to 0.0006703200923609524.\n",
      "193/193 [==============================] - 20s 102ms/step - loss: 0.1139 - accuracy: 0.9145 - val_loss: 0.3573 - val_accuracy: 0.8572\n",
      "\n",
      "Epoch 00007: val_accuracy did not improve from 0.86144\n",
      "Epoch 8/15\n",
      "\n",
      "Epoch 00008: LearningRateScheduler reducing learning rate to 0.000606530675391766.\n",
      "193/193 [==============================] - 20s 102ms/step - loss: 0.1007 - accuracy: 0.9266 - val_loss: 0.3806 - val_accuracy: 0.8535\n",
      "\n",
      "Epoch 00008: val_accuracy did not improve from 0.86144\n",
      "Epoch 9/15\n",
      "\n",
      "Epoch 00009: LearningRateScheduler reducing learning rate to 0.0005488116682245179.\n",
      "193/193 [==============================] - 20s 102ms/step - loss: 0.0869 - accuracy: 0.9379 - val_loss: 0.4184 - val_accuracy: 0.8456\n",
      "\n",
      "Epoch 00009: val_accuracy did not improve from 0.86144\n",
      "Epoch 10/15\n",
      "\n",
      "Epoch 00010: LearningRateScheduler reducing learning rate to 0.0004965853504160465.\n",
      "193/193 [==============================] - 19s 100ms/step - loss: 0.0965 - accuracy: 0.9312 - val_loss: 0.4042 - val_accuracy: 0.8565\n",
      "\n",
      "Epoch 00010: val_accuracy did not improve from 0.86144\n",
      "Epoch 11/15\n",
      "\n",
      "Epoch 00011: LearningRateScheduler reducing learning rate to 0.0004493289874054642.\n",
      "193/193 [==============================] - 20s 103ms/step - loss: 0.0810 - accuracy: 0.9444 - val_loss: 0.3914 - val_accuracy: 0.8662\n",
      "\n",
      "Epoch 00011: val_accuracy improved from 0.86144 to 0.86617, saving model to Results/NSA/EfficientNetB0/20211011-090754/Checkpoints\\model.hdf5\n",
      "Epoch 12/15\n",
      "\n",
      "Epoch 00012: LearningRateScheduler reducing learning rate to 0.0004065696690041351.\n",
      "193/193 [==============================] - 19s 101ms/step - loss: 0.0646 - accuracy: 0.9533 - val_loss: 0.4472 - val_accuracy: 0.8582\n",
      "\n",
      "Epoch 00012: val_accuracy did not improve from 0.86617\n",
      "Epoch 13/15\n",
      "\n",
      "Epoch 00013: LearningRateScheduler reducing learning rate to 0.00036787943756223617.\n",
      "193/193 [==============================] - 19s 100ms/step - loss: 0.0608 - accuracy: 0.9599 - val_loss: 0.4706 - val_accuracy: 0.8635\n",
      "\n",
      "Epoch 00013: val_accuracy did not improve from 0.86617\n",
      "Epoch 14/15\n",
      "\n",
      "Epoch 00014: LearningRateScheduler reducing learning rate to 0.0003328710744911885.\n",
      "193/193 [==============================] - 19s 100ms/step - loss: 0.0537 - accuracy: 0.9642 - val_loss: 0.6249 - val_accuracy: 0.8401\n",
      "\n",
      "Epoch 00014: val_accuracy did not improve from 0.86617\n",
      "Epoch 15/15\n",
      "\n",
      "Epoch 00015: LearningRateScheduler reducing learning rate to 0.00030119420279690575.\n",
      "193/193 [==============================] - 20s 102ms/step - loss: 0.1212 - accuracy: 0.9342 - val_loss: 0.4403 - val_accuracy: 0.8641\n",
      "\n",
      "Epoch 00015: val_accuracy did not improve from 0.86617\n"
     ]
    },
    {
     "data": {
      "text/plain": [
       "(<tensorflow.python.keras.engine.functional.Functional at 0x23bf28781c0>,\n",
       " <tensorflow.python.keras.callbacks.History at 0x23eed035910>,\n",
       " None,\n",
       " None)"
      ]
     },
     "execution_count": 13,
     "metadata": {},
     "output_type": "execute_result"
    },
    {
     "data": {
      "image/png": "[encoded data removed]",
      "text/plain": [
       "<Figure size 432x288 with 1 Axes>"
      ]
     },
     "metadata": {
      "needs_background": "light"
     },
     "output_type": "display_data"
    }
   ],
   "source": [
    "trainer_nsa.train(architecture='EfficientNetB0', results_dir=RESULTS_DIR, class_weights=class_weights)"
   ]
  },
  {
   "cell_type": "code",
   "execution_count": 14,
   "id": "7d442c5f",
   "metadata": {
    "scrolled": true
   },
   "outputs": [
    {
     "name": "stdout",
     "output_type": "stream",
     "text": [
      "Using class weights: {0: 3.538860103626943, 1: 1.6184834123222749, 2: 3.9177820267686423, 3: 0.35157858613589565}\n",
      "Start training\n",
      "Epoch 1/15\n",
      "\n",
      "Epoch 00001: LearningRateScheduler reducing learning rate to 0.001.\n",
      "193/193 [==============================] - 16s 70ms/step - loss: 0.5787 - accuracy: 0.7308 - val_loss: 2.2544 - val_accuracy: 0.0407\n",
      "\n",
      "Epoch 00001: val_accuracy improved from -inf to 0.04072, saving model to Results/NSA/MobileNetV2/20211011-091255/Checkpoints\\model.hdf5\n",
      "Epoch 2/15\n",
      "\n",
      "Epoch 00002: LearningRateScheduler reducing learning rate to 0.001.\n",
      "193/193 [==============================] - 12s 64ms/step - loss: 0.3656 - accuracy: 0.8047 - val_loss: 2.4924 - val_accuracy: 0.0407\n",
      "\n",
      "Epoch 00002: val_accuracy did not improve from 0.04072\n",
      "Epoch 3/15\n",
      "\n",
      "Epoch 00003: LearningRateScheduler reducing learning rate to 0.001.\n",
      "193/193 [==============================] - 12s 62ms/step - loss: 0.2296 - accuracy: 0.8628 - val_loss: 2.5581 - val_accuracy: 0.0659\n",
      "\n",
      "Epoch 00003: val_accuracy improved from 0.04072 to 0.06590, saving model to Results/NSA/MobileNetV2/20211011-091255/Checkpoints\\model.hdf5\n",
      "Epoch 4/15\n",
      "\n",
      "Epoch 00004: LearningRateScheduler reducing learning rate to 0.0009048374610134307.\n",
      "193/193 [==============================] - 12s 64ms/step - loss: 0.1840 - accuracy: 0.8805 - val_loss: 2.5115 - val_accuracy: 0.0407\n",
      "\n",
      "Epoch 00004: val_accuracy did not improve from 0.06590\n",
      "Epoch 5/15\n",
      "\n",
      "Epoch 00005: LearningRateScheduler reducing learning rate to 0.0008187307807475673.\n",
      "193/193 [==============================] - 13s 65ms/step - loss: 0.1525 - accuracy: 0.8906 - val_loss: 2.3831 - val_accuracy: 0.0659\n",
      "\n",
      "Epoch 00005: val_accuracy did not improve from 0.06590\n",
      "Epoch 6/15\n",
      "\n",
      "Epoch 00006: LearningRateScheduler reducing learning rate to 0.0007408182609837606.\n",
      "193/193 [==============================] - 12s 63ms/step - loss: 0.1479 - accuracy: 0.8975 - val_loss: 2.3770 - val_accuracy: 0.0659\n",
      "\n",
      "Epoch 00006: val_accuracy did not improve from 0.06590\n",
      "Epoch 7/15\n",
      "\n",
      "Epoch 00007: LearningRateScheduler reducing learning rate to 0.0006703200923609524.\n",
      "193/193 [==============================] - 12s 62ms/step - loss: 0.1341 - accuracy: 0.9057 - val_loss: 2.2896 - val_accuracy: 0.0659\n",
      "\n",
      "Epoch 00007: val_accuracy did not improve from 0.06590\n",
      "Epoch 8/15\n",
      "\n",
      "Epoch 00008: LearningRateScheduler reducing learning rate to 0.000606530675391766.\n",
      "193/193 [==============================] - 12s 63ms/step - loss: 0.1154 - accuracy: 0.9162 - val_loss: 2.2859 - val_accuracy: 0.0659\n",
      "\n",
      "Epoch 00008: val_accuracy did not improve from 0.06590\n",
      "Epoch 9/15\n",
      "\n",
      "Epoch 00009: LearningRateScheduler reducing learning rate to 0.0005488116682245179.\n",
      "193/193 [==============================] - 12s 63ms/step - loss: 0.1078 - accuracy: 0.9215 - val_loss: 2.2471 - val_accuracy: 0.0659\n",
      "\n",
      "Epoch 00009: val_accuracy did not improve from 0.06590\n",
      "Epoch 10/15\n",
      "\n",
      "Epoch 00010: LearningRateScheduler reducing learning rate to 0.0004965853504160465.\n",
      "193/193 [==============================] - 12s 62ms/step - loss: 0.0949 - accuracy: 0.9299 - val_loss: 2.3184 - val_accuracy: 0.0659\n",
      "\n",
      "Epoch 00010: val_accuracy did not improve from 0.06590\n",
      "Epoch 11/15\n",
      "\n",
      "Epoch 00011: LearningRateScheduler reducing learning rate to 0.0004493289874054642.\n",
      "193/193 [==============================] - 12s 61ms/step - loss: 0.1238 - accuracy: 0.9068 - val_loss: 2.0626 - val_accuracy: 0.0659\n",
      "\n",
      "Epoch 00011: val_accuracy did not improve from 0.06590\n",
      "Epoch 12/15\n",
      "\n",
      "Epoch 00012: LearningRateScheduler reducing learning rate to 0.0004065696690041351.\n",
      "193/193 [==============================] - 12s 63ms/step - loss: 0.0860 - accuracy: 0.9327 - val_loss: 1.9408 - val_accuracy: 0.0659\n",
      "\n",
      "Epoch 00012: val_accuracy did not improve from 0.06590\n",
      "Epoch 13/15\n",
      "\n",
      "Epoch 00013: LearningRateScheduler reducing learning rate to 0.00036787943756223617.\n",
      "193/193 [==============================] - 12s 64ms/step - loss: 0.0708 - accuracy: 0.9468 - val_loss: 1.8993 - val_accuracy: 0.0659\n",
      "\n",
      "Epoch 00013: val_accuracy did not improve from 0.06590\n",
      "Epoch 14/15\n",
      "\n",
      "Epoch 00014: LearningRateScheduler reducing learning rate to 0.0003328710744911885.\n",
      "193/193 [==============================] - 12s 63ms/step - loss: 0.0583 - accuracy: 0.9564 - val_loss: 1.8759 - val_accuracy: 0.0659\n",
      "\n",
      "Epoch 00014: val_accuracy did not improve from 0.06590\n",
      "Epoch 15/15\n",
      "\n",
      "Epoch 00015: LearningRateScheduler reducing learning rate to 0.00030119420279690575.\n",
      "193/193 [==============================] - 13s 65ms/step - loss: 0.0464 - accuracy: 0.9651 - val_loss: 1.8580 - val_accuracy: 0.0659\n",
      "\n",
      "Epoch 00015: val_accuracy did not improve from 0.06590\n"
     ]
    },
    {
     "data": {
      "text/plain": [
       "(<tensorflow.python.keras.engine.functional.Functional at 0x23ee810d790>,\n",
       " <tensorflow.python.keras.callbacks.History at 0x23f3b5f4760>,\n",
       " None,\n",
       " None)"
      ]
     },
     "execution_count": 14,
     "metadata": {},
     "output_type": "execute_result"
    },
    {
     "data": {
      "image/png": "[encoded data removed]",
      "text/plain": [
       "<Figure size 432x288 with 1 Axes>"
      ]
     },
     "metadata": {
      "needs_background": "light"
     },
     "output_type": "display_data"
    }
   ],
   "source": [
    "trainer_nsa.train(architecture='MobileNetV2', results_dir=RESULTS_DIR, class_weights=class_weights)"
   ]
  },
  {
   "cell_type": "code",
   "execution_count": 15,
   "id": "5ddca453",
   "metadata": {
    "scrolled": true
   },
   "outputs": [
    {
     "name": "stdout",
     "output_type": "stream",
     "text": [
      "Using class weights: {0: 3.538860103626943, 1: 1.6184834123222749, 2: 3.9177820267686423, 3: 0.35157858613589565}\n",
      "Start training\n",
      "Epoch 1/15\n",
      "\n",
      "Epoch 00001: LearningRateScheduler reducing learning rate to 0.001.\n",
      "193/193 [==============================] - 10s 33ms/step - loss: 0.7813 - accuracy: 0.6157 - val_loss: 0.9307 - val_accuracy: 0.5852\n",
      "\n",
      "Epoch 00001: val_accuracy improved from -inf to 0.58516, saving model to Results/NSA/RNN_Amoh/20211011-091603/Checkpoints\\model.hdf5\n",
      "Epoch 2/15\n",
      "\n",
      "Epoch 00002: LearningRateScheduler reducing learning rate to 0.001.\n",
      "193/193 [==============================] - 5s 28ms/step - loss: 0.5122 - accuracy: 0.7191 - val_loss: 0.5299 - val_accuracy: 0.7465\n",
      "\n",
      "Epoch 00002: val_accuracy improved from 0.58516 to 0.74654, saving model to Results/NSA/RNN_Amoh/20211011-091603/Checkpoints\\model.hdf5\n",
      "Epoch 3/15\n",
      "\n",
      "Epoch 00003: LearningRateScheduler reducing learning rate to 0.001.\n",
      "193/193 [==============================] - 5s 28ms/step - loss: 0.3845 - accuracy: 0.7817 - val_loss: 0.5192 - val_accuracy: 0.7851\n",
      "\n",
      "Epoch 00003: val_accuracy improved from 0.74654 to 0.78506, saving model to Results/NSA/RNN_Amoh/20211011-091603/Checkpoints\\model.hdf5\n",
      "Epoch 4/15\n",
      "\n",
      "Epoch 00004: LearningRateScheduler reducing learning rate to 0.0009048374610134307.\n",
      "193/193 [==============================] - 7s 36ms/step - loss: 0.3275 - accuracy: 0.8109 - val_loss: 0.4456 - val_accuracy: 0.8185\n",
      "\n",
      "Epoch 00004: val_accuracy improved from 0.78506 to 0.81852, saving model to Results/NSA/RNN_Amoh/20211011-091603/Checkpoints\\model.hdf5\n",
      "Epoch 5/15\n",
      "\n",
      "Epoch 00005: LearningRateScheduler reducing learning rate to 0.0008187307807475673.\n",
      "193/193 [==============================] - 7s 37ms/step - loss: 0.2916 - accuracy: 0.8210 - val_loss: 0.4719 - val_accuracy: 0.8028\n",
      "\n",
      "Epoch 00005: val_accuracy did not improve from 0.81852\n",
      "Epoch 6/15\n",
      "\n",
      "Epoch 00006: LearningRateScheduler reducing learning rate to 0.0007408182609837606.\n",
      "193/193 [==============================] - 7s 36ms/step - loss: 0.2638 - accuracy: 0.8363 - val_loss: 0.5282 - val_accuracy: 0.7879\n",
      "\n",
      "Epoch 00006: val_accuracy did not improve from 0.81852\n",
      "Epoch 7/15\n",
      "\n",
      "Epoch 00007: LearningRateScheduler reducing learning rate to 0.0006703200923609524.\n",
      "193/193 [==============================] - 7s 35ms/step - loss: 0.2670 - accuracy: 0.8278 - val_loss: 0.4454 - val_accuracy: 0.8143\n",
      "\n",
      "Epoch 00007: val_accuracy did not improve from 0.81852\n",
      "Epoch 8/15\n",
      "\n",
      "Epoch 00008: LearningRateScheduler reducing learning rate to 0.000606530675391766.\n",
      "193/193 [==============================] - 7s 35ms/step - loss: 0.2338 - accuracy: 0.8496 - val_loss: 0.4048 - val_accuracy: 0.8258\n",
      "\n",
      "Epoch 00008: val_accuracy improved from 0.81852 to 0.82579, saving model to Results/NSA/RNN_Amoh/20211011-091603/Checkpoints\\model.hdf5\n",
      "Epoch 9/15\n",
      "\n",
      "Epoch 00009: LearningRateScheduler reducing learning rate to 0.0005488116682245179.\n",
      "193/193 [==============================] - 7s 38ms/step - loss: 0.2150 - accuracy: 0.8593 - val_loss: 0.4021 - val_accuracy: 0.8347\n",
      "\n",
      "Epoch 00009: val_accuracy improved from 0.82579 to 0.83474, saving model to Results/NSA/RNN_Amoh/20211011-091603/Checkpoints\\model.hdf5\n",
      "Epoch 10/15\n",
      "\n",
      "Epoch 00010: LearningRateScheduler reducing learning rate to 0.0004965853504160465.\n",
      "193/193 [==============================] - 7s 39ms/step - loss: 0.1994 - accuracy: 0.8675 - val_loss: 0.4351 - val_accuracy: 0.8239\n",
      "\n",
      "Epoch 00010: val_accuracy did not improve from 0.83474\n",
      "Epoch 11/15\n",
      "\n",
      "Epoch 00011: LearningRateScheduler reducing learning rate to 0.0004493289874054642.\n",
      "193/193 [==============================] - 7s 39ms/step - loss: 0.1895 - accuracy: 0.8721 - val_loss: 0.4463 - val_accuracy: 0.8227\n",
      "\n",
      "Epoch 00011: val_accuracy did not improve from 0.83474\n",
      "Epoch 12/15\n",
      "\n",
      "Epoch 00012: LearningRateScheduler reducing learning rate to 0.0004065696690041351.\n",
      "193/193 [==============================] - 6s 33ms/step - loss: 0.1809 - accuracy: 0.8736 - val_loss: 0.4154 - val_accuracy: 0.8352\n",
      "\n",
      "Epoch 00012: val_accuracy improved from 0.83474 to 0.83525, saving model to Results/NSA/RNN_Amoh/20211011-091603/Checkpoints\\model.hdf5\n",
      "Epoch 13/15\n",
      "\n",
      "Epoch 00013: LearningRateScheduler reducing learning rate to 0.00036787943756223617.\n",
      "193/193 [==============================] - 6s 34ms/step - loss: 0.1701 - accuracy: 0.8789 - val_loss: 0.4050 - val_accuracy: 0.8415\n",
      "\n",
      "Epoch 00013: val_accuracy improved from 0.83525 to 0.84150, saving model to Results/NSA/RNN_Amoh/20211011-091603/Checkpoints\\model.hdf5\n",
      "Epoch 14/15\n",
      "\n",
      "Epoch 00014: LearningRateScheduler reducing learning rate to 0.0003328710744911885.\n",
      "193/193 [==============================] - 7s 35ms/step - loss: 0.1636 - accuracy: 0.8824 - val_loss: 0.4166 - val_accuracy: 0.8385\n",
      "\n",
      "Epoch 00014: val_accuracy did not improve from 0.84150\n",
      "Epoch 15/15\n",
      "\n",
      "Epoch 00015: LearningRateScheduler reducing learning rate to 0.00030119420279690575.\n",
      "193/193 [==============================] - 7s 35ms/step - loss: 0.1556 - accuracy: 0.8867 - val_loss: 0.4135 - val_accuracy: 0.8388\n",
      "\n",
      "Epoch 00015: val_accuracy did not improve from 0.84150\n"
     ]
    },
    {
     "data": {
      "text/plain": [
       "(<tensorflow.python.keras.engine.sequential.Sequential at 0x23f3be33c70>,\n",
       " <tensorflow.python.keras.callbacks.History at 0x23f3bf50670>,\n",
       " None,\n",
       " None)"
      ]
     },
     "execution_count": 15,
     "metadata": {},
     "output_type": "execute_result"
    },
    {
     "data": {
      "image/png": "[encoded data removed]",
      "text/plain": [
       "<Figure size 432x288 with 1 Axes>"
      ]
     },
     "metadata": {
      "needs_background": "light"
     },
     "output_type": "display_data"
    }
   ],
   "source": [
    "trainer_nsa.train(architecture='RNN_Amoh', results_dir=RESULTS_DIR, class_weights=class_weights)"
   ]
  },
  {
   "cell_type": "code",
   "execution_count": 16,
   "id": "64cfd304",
   "metadata": {},
   "outputs": [
    {
     "name": "stdout",
     "output_type": "stream",
     "text": [
      "Using class weights: {0: 3.538860103626943, 1: 1.6184834123222749, 2: 3.9177820267686423, 3: 0.35157858613589565}\n",
      "Start training\n",
      "Epoch 1/15\n",
      "\n",
      "Epoch 00001: LearningRateScheduler reducing learning rate to 0.001.\n",
      "193/193 [==============================] - 9s 36ms/step - loss: 0.7274 - accuracy: 0.6424 - val_loss: 0.6273 - val_accuracy: 0.7227\n",
      "\n",
      "Epoch 00001: val_accuracy improved from -inf to 0.72271, saving model to Results/NSA/RNN_Basic/20211011-091748/Checkpoints\\model.hdf5\n",
      "Epoch 2/15\n",
      "\n",
      "Epoch 00002: LearningRateScheduler reducing learning rate to 0.001.\n",
      "193/193 [==============================] - 6s 32ms/step - loss: 0.4732 - accuracy: 0.7541 - val_loss: 0.6133 - val_accuracy: 0.7442\n",
      "\n",
      "Epoch 00002: val_accuracy improved from 0.72271 to 0.74417, saving model to Results/NSA/RNN_Basic/20211011-091748/Checkpoints\\model.hdf5\n",
      "Epoch 3/15\n",
      "\n",
      "Epoch 00003: LearningRateScheduler reducing learning rate to 0.001.\n",
      "193/193 [==============================] - 6s 31ms/step - loss: 0.3838 - accuracy: 0.7915 - val_loss: 0.5426 - val_accuracy: 0.7844\n",
      "\n",
      "Epoch 00003: val_accuracy improved from 0.74417 to 0.78439, saving model to Results/NSA/RNN_Basic/20211011-091748/Checkpoints\\model.hdf5\n",
      "Epoch 4/15\n",
      "\n",
      "Epoch 00004: LearningRateScheduler reducing learning rate to 0.0009048374610134307.\n",
      "193/193 [==============================] - 6s 32ms/step - loss: 0.3354 - accuracy: 0.8113 - val_loss: 0.4087 - val_accuracy: 0.8349\n",
      "\n",
      "Epoch 00004: val_accuracy improved from 0.78439 to 0.83491, saving model to Results/NSA/RNN_Basic/20211011-091748/Checkpoints\\model.hdf5\n",
      "Epoch 5/15\n",
      "\n",
      "Epoch 00005: LearningRateScheduler reducing learning rate to 0.0008187307807475673.\n",
      "193/193 [==============================] - 6s 32ms/step - loss: 0.2994 - accuracy: 0.8308 - val_loss: 0.4283 - val_accuracy: 0.8276\n",
      "\n",
      "Epoch 00005: val_accuracy did not improve from 0.83491\n",
      "Epoch 6/15\n",
      "\n",
      "Epoch 00006: LearningRateScheduler reducing learning rate to 0.0007408182609837606.\n",
      "193/193 [==============================] - 6s 30ms/step - loss: 0.2704 - accuracy: 0.8424 - val_loss: 0.4578 - val_accuracy: 0.8194\n",
      "\n",
      "Epoch 00006: val_accuracy did not improve from 0.83491\n",
      "Epoch 7/15\n",
      "\n",
      "Epoch 00007: LearningRateScheduler reducing learning rate to 0.0006703200923609524.\n",
      "193/193 [==============================] - 6s 31ms/step - loss: 0.2467 - accuracy: 0.8529 - val_loss: 0.4284 - val_accuracy: 0.8268\n",
      "\n",
      "Epoch 00007: val_accuracy did not improve from 0.83491\n",
      "Epoch 8/15\n",
      "\n",
      "Epoch 00008: LearningRateScheduler reducing learning rate to 0.000606530675391766.\n",
      "193/193 [==============================] - 6s 31ms/step - loss: 0.2266 - accuracy: 0.8603 - val_loss: 0.4712 - val_accuracy: 0.8129\n",
      "\n",
      "Epoch 00008: val_accuracy did not improve from 0.83491\n",
      "Epoch 9/15\n",
      "\n",
      "Epoch 00009: LearningRateScheduler reducing learning rate to 0.0005488116682245179.\n",
      "193/193 [==============================] - 6s 33ms/step - loss: 0.2081 - accuracy: 0.8682 - val_loss: 0.4182 - val_accuracy: 0.8302\n",
      "\n",
      "Epoch 00009: val_accuracy did not improve from 0.83491\n",
      "Epoch 10/15\n",
      "\n",
      "Epoch 00010: LearningRateScheduler reducing learning rate to 0.0004965853504160465.\n",
      "193/193 [==============================] - 6s 32ms/step - loss: 0.1998 - accuracy: 0.8725 - val_loss: 0.4323 - val_accuracy: 0.8256\n",
      "\n",
      "Epoch 00010: val_accuracy did not improve from 0.83491\n",
      "Epoch 11/15\n",
      "\n",
      "Epoch 00011: LearningRateScheduler reducing learning rate to 0.0004493289874054642.\n",
      "193/193 [==============================] - 6s 30ms/step - loss: 0.1879 - accuracy: 0.8786 - val_loss: 0.3968 - val_accuracy: 0.8400\n",
      "\n",
      "Epoch 00011: val_accuracy improved from 0.83491 to 0.83998, saving model to Results/NSA/RNN_Basic/20211011-091748/Checkpoints\\model.hdf5\n",
      "Epoch 12/15\n",
      "\n",
      "Epoch 00012: LearningRateScheduler reducing learning rate to 0.0004065696690041351.\n",
      "193/193 [==============================] - 6s 33ms/step - loss: 0.1751 - accuracy: 0.8850 - val_loss: 0.3848 - val_accuracy: 0.8483\n",
      "\n",
      "Epoch 00012: val_accuracy improved from 0.83998 to 0.84826, saving model to Results/NSA/RNN_Basic/20211011-091748/Checkpoints\\model.hdf5\n",
      "Epoch 13/15\n",
      "\n",
      "Epoch 00013: LearningRateScheduler reducing learning rate to 0.00036787943756223617.\n",
      "193/193 [==============================] - 6s 31ms/step - loss: 0.1704 - accuracy: 0.8862 - val_loss: 0.3605 - val_accuracy: 0.8540\n",
      "\n",
      "Epoch 00013: val_accuracy improved from 0.84826 to 0.85400, saving model to Results/NSA/RNN_Basic/20211011-091748/Checkpoints\\model.hdf5\n",
      "Epoch 14/15\n",
      "\n",
      "Epoch 00014: LearningRateScheduler reducing learning rate to 0.0003328710744911885.\n",
      "193/193 [==============================] - 6s 32ms/step - loss: 0.1625 - accuracy: 0.8902 - val_loss: 0.4232 - val_accuracy: 0.8388\n",
      "\n",
      "Epoch 00014: val_accuracy did not improve from 0.85400\n",
      "Epoch 15/15\n",
      "\n",
      "Epoch 00015: LearningRateScheduler reducing learning rate to 0.00030119420279690575.\n",
      "193/193 [==============================] - 6s 33ms/step - loss: 0.1529 - accuracy: 0.8942 - val_loss: 0.3836 - val_accuracy: 0.8481\n",
      "\n",
      "Epoch 00015: val_accuracy did not improve from 0.85400\n"
     ]
    },
    {
     "data": {
      "text/plain": [
       "(<tensorflow.python.keras.engine.sequential.Sequential at 0x23f577f1d90>,\n",
       " <tensorflow.python.keras.callbacks.History at 0x23f5791f340>,\n",
       " None,\n",
       " None)"
      ]
     },
     "execution_count": 16,
     "metadata": {},
     "output_type": "execute_result"
    },
    {
     "data": {
      "image/png": "[encoded data removed]",
      "text/plain": [
       "<Figure size 432x288 with 1 Axes>"
      ]
     },
     "metadata": {
      "needs_background": "light"
     },
     "output_type": "display_data"
    }
   ],
   "source": [
    "trainer_nsa.train(architecture='RNN_Basic', results_dir=RESULTS_DIR, class_weights=class_weights)"
   ]
  },
  {
   "cell_type": "code",
   "execution_count": null,
   "id": "56475ed1",
   "metadata": {},
   "outputs": [],
   "source": []
  }
 ],
 "metadata": {
  "kernelspec": {
   "display_name": "Python 3",
   "language": "python",
   "name": "python3"
  },
  "language_info": {
   "codemirror_mode": {
    "name": "ipython",
    "version": 3
   },
   "file_extension": ".py",
   "mimetype": "text/x-python",
   "name": "python",
   "nbconvert_exporter": "python",
   "pygments_lexer": "ipython3",
   "version": "3.8.0"
  }
 },
 "nbformat": 4,
 "nbformat_minor": 5
}
