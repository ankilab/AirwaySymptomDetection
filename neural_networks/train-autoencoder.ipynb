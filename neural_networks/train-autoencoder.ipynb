{
 "cells": [
  {
   "cell_type": "code",
   "execution_count": 1,
   "metadata": {},
   "outputs": [],
   "source": [
    "import sys  \n",
    "sys.path.insert(0, '../')  # insert path to import the following modules\n",
    "\n",
    "import tensorflow as tf\n",
    "import flammkuchen as fl\n",
    "import matplotlib.pyplot as plt\n",
    "import numpy as np\n",
    "from skimage.metrics import structural_similarity as ssim\n",
    "\n",
    "from src.dataloader import DataLoader\n",
    "from utils.params import Params\n",
    "\n",
    "from tensorflow.keras.layers import Input, Conv2D, MaxPool2D, UpSampling2D, Concatenate\n",
    "from tensorflow.keras.models import Model\n",
    "\n",
    "%load_ext autoreload\n",
    "%autoreload 2"
   ]
  },
  {
   "cell_type": "markdown",
   "metadata": {},
   "source": [
    "## Create tf-model"
   ]
  },
  {
   "cell_type": "code",
   "execution_count": 2,
   "metadata": {},
   "outputs": [],
   "source": [
    "input_layer = Input((64, 64, 1))\n",
    "\n",
    "layer = 4\n",
    "filter_base = 8\n",
    "\n",
    "to_concat = []\n",
    "\n",
    "x = input_layer\n",
    "\n",
    "for i in range(layer):\n",
    "    x = Conv2D(filter_base*2**i, (3, 3), activation='relu', padding='same')(x)\n",
    "    x = Conv2D(filter_base*2**i, (3, 3), activation='relu', padding='same')(x)\n",
    "    to_concat.append(x) # for skip-connection\n",
    "    x = MaxPool2D()(x)\n",
    "\n",
    "x = Conv2D(filter_base*2**4, (3, 3), activation='relu', padding='same')(x)\n",
    "\n",
    "for i in range(layer):\n",
    "    x = UpSampling2D()(x)\n",
    "    x = Concatenate(name=f'skip_{i}')([x, to_concat.pop()])\n",
    "    x = Conv2D(filter_base*2**(layer-i-1), (3, 3), activation='relu', padding='same')(x)\n",
    "    x = Conv2D(filter_base*2**(layer-i-1), (3, 3), activation='relu', padding='same')(x)\n",
    "    \n",
    "x = Conv2D(filters=1, kernel_size=1, activation='tanh', padding='same')(x)\n",
    "\n",
    "model = Model(input_layer, x)"
   ]
  },
  {
   "cell_type": "code",
   "execution_count": 3,
   "metadata": {
    "scrolled": true
   },
   "outputs": [
    {
     "name": "stdout",
     "output_type": "stream",
     "text": [
      "\n",
      "Currently loading data: P1_1\n"
     ]
    },
    {
     "data": {
      "application/vnd.jupyter.widget-view+json": {
       "model_id": "9b4fe8ec799d4746831c0cabf25374b0",
       "version_major": 2,
       "version_minor": 0
      },
      "text/plain": [
       "  0%|          | 0/1819 [00:00<?, ?it/s]"
      ]
     },
     "metadata": {},
     "output_type": "display_data"
    },
    {
     "data": {
      "application/vnd.jupyter.widget-view+json": {
       "model_id": "c443ae94b431416684d3e67efe56e402",
       "version_major": 2,
       "version_minor": 0
      },
      "text/plain": [
       "  0%|          | 0/1819 [00:00<?, ?it/s]"
      ]
     },
     "metadata": {},
     "output_type": "display_data"
    },
    {
     "name": "stdout",
     "output_type": "stream",
     "text": [
      "\n",
      "Currently loading data: P1_2\n"
     ]
    },
    {
     "data": {
      "application/vnd.jupyter.widget-view+json": {
       "model_id": "66a5a5fd5cb14ccda2d3f74f61c478c9",
       "version_major": 2,
       "version_minor": 0
      },
      "text/plain": [
       "  0%|          | 0/1748 [00:00<?, ?it/s]"
      ]
     },
     "metadata": {},
     "output_type": "display_data"
    },
    {
     "data": {
      "application/vnd.jupyter.widget-view+json": {
       "model_id": "30c7087b50304a0d9d7a64d2bddb4e3b",
       "version_major": 2,
       "version_minor": 0
      },
      "text/plain": [
       "  0%|          | 0/1750 [00:00<?, ?it/s]"
      ]
     },
     "metadata": {},
     "output_type": "display_data"
    },
    {
     "name": "stdout",
     "output_type": "stream",
     "text": [
      "\n",
      "Currently loading data: P1_3\n"
     ]
    },
    {
     "data": {
      "application/vnd.jupyter.widget-view+json": {
       "model_id": "2d5b29a3b36e4085aece94af353e9dee",
       "version_major": 2,
       "version_minor": 0
      },
      "text/plain": [
       "  0%|          | 0/1758 [00:00<?, ?it/s]"
      ]
     },
     "metadata": {},
     "output_type": "display_data"
    },
    {
     "data": {
      "application/vnd.jupyter.widget-view+json": {
       "model_id": "7cd0c1bd8e714a64a8005813702bfed6",
       "version_major": 2,
       "version_minor": 0
      },
      "text/plain": [
       "  0%|          | 0/1759 [00:00<?, ?it/s]"
      ]
     },
     "metadata": {},
     "output_type": "display_data"
    },
    {
     "name": "stdout",
     "output_type": "stream",
     "text": [
      "\n",
      "Currently loading data: P2_1\n"
     ]
    },
    {
     "data": {
      "application/vnd.jupyter.widget-view+json": {
       "model_id": "0fecabe6bfc24dea821b260fad609ee2",
       "version_major": 2,
       "version_minor": 0
      },
      "text/plain": [
       "  0%|          | 0/1988 [00:00<?, ?it/s]"
      ]
     },
     "metadata": {},
     "output_type": "display_data"
    },
    {
     "data": {
      "application/vnd.jupyter.widget-view+json": {
       "model_id": "385ae761b4e74714b03da7d4a979be12",
       "version_major": 2,
       "version_minor": 0
      },
      "text/plain": [
       "  0%|          | 0/1990 [00:00<?, ?it/s]"
      ]
     },
     "metadata": {},
     "output_type": "display_data"
    },
    {
     "name": "stdout",
     "output_type": "stream",
     "text": [
      "\n",
      "Currently loading data: P2_2\n"
     ]
    },
    {
     "data": {
      "application/vnd.jupyter.widget-view+json": {
       "model_id": "d7381da347914c0a9e54a75690a1780b",
       "version_major": 2,
       "version_minor": 0
      },
      "text/plain": [
       "  0%|          | 0/1880 [00:00<?, ?it/s]"
      ]
     },
     "metadata": {},
     "output_type": "display_data"
    },
    {
     "data": {
      "application/vnd.jupyter.widget-view+json": {
       "model_id": "83ea4e263ca04573842888f0764abbd8",
       "version_major": 2,
       "version_minor": 0
      },
      "text/plain": [
       "  0%|          | 0/1881 [00:00<?, ?it/s]"
      ]
     },
     "metadata": {},
     "output_type": "display_data"
    },
    {
     "name": "stdout",
     "output_type": "stream",
     "text": [
      "\n",
      "Currently loading data: P2_3\n"
     ]
    },
    {
     "data": {
      "application/vnd.jupyter.widget-view+json": {
       "model_id": "75bed3f6e68b486690531cf70a12cd2a",
       "version_major": 2,
       "version_minor": 0
      },
      "text/plain": [
       "  0%|          | 0/1819 [00:00<?, ?it/s]"
      ]
     },
     "metadata": {},
     "output_type": "display_data"
    },
    {
     "data": {
      "application/vnd.jupyter.widget-view+json": {
       "model_id": "8c48eafe25bb48189f35c670079c8f63",
       "version_major": 2,
       "version_minor": 0
      },
      "text/plain": [
       "  0%|          | 0/1819 [00:00<?, ?it/s]"
      ]
     },
     "metadata": {},
     "output_type": "display_data"
    },
    {
     "name": "stdout",
     "output_type": "stream",
     "text": [
      "\n",
      "Currently loading data: P3_1\n"
     ]
    },
    {
     "data": {
      "application/vnd.jupyter.widget-view+json": {
       "model_id": "03ae16acf2884912aaa4a8ad5e5eb1fe",
       "version_major": 2,
       "version_minor": 0
      },
      "text/plain": [
       "  0%|          | 0/2157 [00:00<?, ?it/s]"
      ]
     },
     "metadata": {},
     "output_type": "display_data"
    },
    {
     "data": {
      "application/vnd.jupyter.widget-view+json": {
       "model_id": "3c95b285b2b040e2b472d585d7b457bd",
       "version_major": 2,
       "version_minor": 0
      },
      "text/plain": [
       "  0%|          | 0/2157 [00:00<?, ?it/s]"
      ]
     },
     "metadata": {},
     "output_type": "display_data"
    },
    {
     "name": "stdout",
     "output_type": "stream",
     "text": [
      "\n",
      "Currently loading data: P3_2\n"
     ]
    },
    {
     "data": {
      "application/vnd.jupyter.widget-view+json": {
       "model_id": "154918db487b4365865cfbfef727236c",
       "version_major": 2,
       "version_minor": 0
      },
      "text/plain": [
       "  0%|          | 0/2088 [00:00<?, ?it/s]"
      ]
     },
     "metadata": {},
     "output_type": "display_data"
    },
    {
     "data": {
      "application/vnd.jupyter.widget-view+json": {
       "model_id": "026991aac6b345b49864daec179cf8f4",
       "version_major": 2,
       "version_minor": 0
      },
      "text/plain": [
       "  0%|          | 0/2089 [00:00<?, ?it/s]"
      ]
     },
     "metadata": {},
     "output_type": "display_data"
    },
    {
     "name": "stdout",
     "output_type": "stream",
     "text": [
      "\n",
      "Currently loading data: P3_3\n"
     ]
    },
    {
     "data": {
      "application/vnd.jupyter.widget-view+json": {
       "model_id": "44bd7bc2b06443e4b3ebbc74ac39a338",
       "version_major": 2,
       "version_minor": 0
      },
      "text/plain": [
       "  0%|          | 0/2116 [00:00<?, ?it/s]"
      ]
     },
     "metadata": {},
     "output_type": "display_data"
    },
    {
     "data": {
      "application/vnd.jupyter.widget-view+json": {
       "model_id": "fd51e71767c4452bbd5ce01ed05ed07d",
       "version_major": 2,
       "version_minor": 0
      },
      "text/plain": [
       "  0%|          | 0/2113 [00:00<?, ?it/s]"
      ]
     },
     "metadata": {},
     "output_type": "display_data"
    },
    {
     "name": "stdout",
     "output_type": "stream",
     "text": [
      "\n",
      "Currently loading data: P4_1\n"
     ]
    },
    {
     "data": {
      "application/vnd.jupyter.widget-view+json": {
       "model_id": "e648be4f119f46e7bc5c60162defb697",
       "version_major": 2,
       "version_minor": 0
      },
      "text/plain": [
       "  0%|          | 0/2406 [00:00<?, ?it/s]"
      ]
     },
     "metadata": {},
     "output_type": "display_data"
    },
    {
     "data": {
      "application/vnd.jupyter.widget-view+json": {
       "model_id": "bd55b75f1b0a47a5ade9ef8937ae7405",
       "version_major": 2,
       "version_minor": 0
      },
      "text/plain": [
       "  0%|          | 0/2406 [00:00<?, ?it/s]"
      ]
     },
     "metadata": {},
     "output_type": "display_data"
    },
    {
     "name": "stdout",
     "output_type": "stream",
     "text": [
      "\n",
      "Currently loading data: P4_2\n"
     ]
    },
    {
     "data": {
      "application/vnd.jupyter.widget-view+json": {
       "model_id": "b3077d18a6cf4683b1ea77fd0dd30e7b",
       "version_major": 2,
       "version_minor": 0
      },
      "text/plain": [
       "  0%|          | 0/2434 [00:00<?, ?it/s]"
      ]
     },
     "metadata": {},
     "output_type": "display_data"
    },
    {
     "data": {
      "application/vnd.jupyter.widget-view+json": {
       "model_id": "5f6c10e397904aa68819073d36ae2ee7",
       "version_major": 2,
       "version_minor": 0
      },
      "text/plain": [
       "  0%|          | 0/2438 [00:00<?, ?it/s]"
      ]
     },
     "metadata": {},
     "output_type": "display_data"
    },
    {
     "name": "stdout",
     "output_type": "stream",
     "text": [
      "\n",
      "Currently loading data: P4_3\n"
     ]
    },
    {
     "data": {
      "application/vnd.jupyter.widget-view+json": {
       "model_id": "353cdf6d051740c094359e13a02dd8a6",
       "version_major": 2,
       "version_minor": 0
      },
      "text/plain": [
       "  0%|          | 0/2427 [00:00<?, ?it/s]"
      ]
     },
     "metadata": {},
     "output_type": "display_data"
    },
    {
     "data": {
      "application/vnd.jupyter.widget-view+json": {
       "model_id": "4ea019127479402989525f5dd41c5206",
       "version_major": 2,
       "version_minor": 0
      },
      "text/plain": [
       "  0%|          | 0/2427 [00:00<?, ?it/s]"
      ]
     },
     "metadata": {},
     "output_type": "display_data"
    },
    {
     "name": "stdout",
     "output_type": "stream",
     "text": [
      "\n",
      "Currently loading data: P5_1\n"
     ]
    },
    {
     "data": {
      "application/vnd.jupyter.widget-view+json": {
       "model_id": "5ada880530024262a3a4de3b9152a8f6",
       "version_major": 2,
       "version_minor": 0
      },
      "text/plain": [
       "  0%|          | 0/2055 [00:00<?, ?it/s]"
      ]
     },
     "metadata": {},
     "output_type": "display_data"
    },
    {
     "data": {
      "application/vnd.jupyter.widget-view+json": {
       "model_id": "b4f1917e2be64f63b974789bb0dee06f",
       "version_major": 2,
       "version_minor": 0
      },
      "text/plain": [
       "  0%|          | 0/2056 [00:00<?, ?it/s]"
      ]
     },
     "metadata": {},
     "output_type": "display_data"
    },
    {
     "name": "stdout",
     "output_type": "stream",
     "text": [
      "\n",
      "Currently loading data: P5_2\n"
     ]
    },
    {
     "data": {
      "application/vnd.jupyter.widget-view+json": {
       "model_id": "9b9440a9aa92439f85751c0d93ffc450",
       "version_major": 2,
       "version_minor": 0
      },
      "text/plain": [
       "  0%|          | 0/1921 [00:00<?, ?it/s]"
      ]
     },
     "metadata": {},
     "output_type": "display_data"
    },
    {
     "data": {
      "application/vnd.jupyter.widget-view+json": {
       "model_id": "170968a587e04d99be84d198c4405f54",
       "version_major": 2,
       "version_minor": 0
      },
      "text/plain": [
       "  0%|          | 0/1922 [00:00<?, ?it/s]"
      ]
     },
     "metadata": {},
     "output_type": "display_data"
    },
    {
     "name": "stdout",
     "output_type": "stream",
     "text": [
      "\n",
      "Currently loading data: P5_3\n"
     ]
    },
    {
     "data": {
      "application/vnd.jupyter.widget-view+json": {
       "model_id": "e841c442032d4179aea7814d44979b51",
       "version_major": 2,
       "version_minor": 0
      },
      "text/plain": [
       "  0%|          | 0/1955 [00:00<?, ?it/s]"
      ]
     },
     "metadata": {},
     "output_type": "display_data"
    },
    {
     "data": {
      "application/vnd.jupyter.widget-view+json": {
       "model_id": "4d25c1b10e064eeb96e2c04b953e6306",
       "version_major": 2,
       "version_minor": 0
      },
      "text/plain": [
       "  0%|          | 0/1955 [00:00<?, ?it/s]"
      ]
     },
     "metadata": {},
     "output_type": "display_data"
    },
    {
     "name": "stdout",
     "output_type": "stream",
     "text": [
      "\n",
      "Currently loading data: P6_1\n"
     ]
    },
    {
     "data": {
      "application/vnd.jupyter.widget-view+json": {
       "model_id": "0bd109890e9e45018c4c5ddc35b0e0a0",
       "version_major": 2,
       "version_minor": 0
      },
      "text/plain": [
       "  0%|          | 0/1882 [00:00<?, ?it/s]"
      ]
     },
     "metadata": {},
     "output_type": "display_data"
    },
    {
     "data": {
      "application/vnd.jupyter.widget-view+json": {
       "model_id": "4d2ef35e2f534c3084b4d80c9061a7de",
       "version_major": 2,
       "version_minor": 0
      },
      "text/plain": [
       "  0%|          | 0/1882 [00:00<?, ?it/s]"
      ]
     },
     "metadata": {},
     "output_type": "display_data"
    },
    {
     "name": "stdout",
     "output_type": "stream",
     "text": [
      "\n",
      "Currently loading data: P6_2\n"
     ]
    },
    {
     "data": {
      "application/vnd.jupyter.widget-view+json": {
       "model_id": "70fdd90a5593474590cdce7d11db0113",
       "version_major": 2,
       "version_minor": 0
      },
      "text/plain": [
       "  0%|          | 0/1788 [00:00<?, ?it/s]"
      ]
     },
     "metadata": {},
     "output_type": "display_data"
    },
    {
     "data": {
      "application/vnd.jupyter.widget-view+json": {
       "model_id": "17ea742acc284011b30c07a20f0f994f",
       "version_major": 2,
       "version_minor": 0
      },
      "text/plain": [
       "  0%|          | 0/1790 [00:00<?, ?it/s]"
      ]
     },
     "metadata": {},
     "output_type": "display_data"
    },
    {
     "name": "stdout",
     "output_type": "stream",
     "text": [
      "\n",
      "Currently loading data: P6_3\n"
     ]
    },
    {
     "data": {
      "application/vnd.jupyter.widget-view+json": {
       "model_id": "a73e2d4286f04f83b0c2726066a52c65",
       "version_major": 2,
       "version_minor": 0
      },
      "text/plain": [
       "  0%|          | 0/1804 [00:00<?, ?it/s]"
      ]
     },
     "metadata": {},
     "output_type": "display_data"
    },
    {
     "data": {
      "application/vnd.jupyter.widget-view+json": {
       "model_id": "d53a2a080a304ffab971b7f69356b5a6",
       "version_major": 2,
       "version_minor": 0
      },
      "text/plain": [
       "  0%|          | 0/1805 [00:00<?, ?it/s]"
      ]
     },
     "metadata": {},
     "output_type": "display_data"
    }
   ],
   "source": [
    "# load a dataset as a list of two numpy arrays\n",
    "params = Params(\"params.json\")\n",
    "\n",
    "dataloader = DataLoader(params, 4)\n",
    "(trainA, trainB), (valA, valB), (testA, testB) = dataloader.get_data_paired()"
   ]
  },
  {
   "cell_type": "markdown",
   "metadata": {},
   "source": [
    "## Train Autoencoder"
   ]
  },
  {
   "cell_type": "code",
   "execution_count": 22,
   "metadata": {},
   "outputs": [
    {
     "name": "stdout",
     "output_type": "stream",
     "text": [
      "Epoch 1/100\n",
      "\n",
      "Epoch 00001: LearningRateScheduler reducing learning rate to 0.0010000000474974513.\n",
      "193/193 [==============================] - 15s 38ms/step - loss: 0.0449 - val_loss: 0.0385\n",
      "Epoch 2/100\n",
      "\n",
      "Epoch 00002: LearningRateScheduler reducing learning rate to 0.0010000000474974513.\n",
      "193/193 [==============================] - 7s 34ms/step - loss: 0.0238 - val_loss: 0.0391\n",
      "Epoch 3/100\n",
      "\n",
      "Epoch 00003: LearningRateScheduler reducing learning rate to 0.0010000000474974513.\n",
      "193/193 [==============================] - 7s 35ms/step - loss: 0.0223 - val_loss: 0.0292\n",
      "Epoch 4/100\n",
      "\n",
      "Epoch 00004: LearningRateScheduler reducing learning rate to 0.0010000000474974513.\n",
      "193/193 [==============================] - 7s 34ms/step - loss: 0.0205 - val_loss: 0.0311\n",
      "Epoch 5/100\n",
      "\n",
      "Epoch 00005: LearningRateScheduler reducing learning rate to 0.0010000000474974513.\n",
      "193/193 [==============================] - 6s 33ms/step - loss: 0.0200 - val_loss: 0.0258\n",
      "Epoch 6/100\n",
      "\n",
      "Epoch 00006: LearningRateScheduler reducing learning rate to 0.0010000000474974513.\n",
      "193/193 [==============================] - 7s 35ms/step - loss: 0.0193 - val_loss: 0.0347\n",
      "Epoch 7/100\n",
      "\n",
      "Epoch 00007: LearningRateScheduler reducing learning rate to 0.0010000000474974513.\n",
      "193/193 [==============================] - 7s 34ms/step - loss: 0.0187 - val_loss: 0.0298\n",
      "Epoch 8/100\n",
      "\n",
      "Epoch 00008: LearningRateScheduler reducing learning rate to 0.0010000000474974513.\n",
      "193/193 [==============================] - 7s 35ms/step - loss: 0.0181 - val_loss: 0.0310\n",
      "Epoch 9/100\n",
      "\n",
      "Epoch 00009: LearningRateScheduler reducing learning rate to 0.0010000000474974513.\n",
      "193/193 [==============================] - 7s 35ms/step - loss: 0.0177 - val_loss: 0.0268\n",
      "Epoch 10/100\n",
      "\n",
      "Epoch 00010: LearningRateScheduler reducing learning rate to 0.0010000000474974513.\n",
      "193/193 [==============================] - 7s 34ms/step - loss: 0.0171 - val_loss: 0.0358\n",
      "Epoch 11/100\n",
      "\n",
      "Epoch 00011: LearningRateScheduler reducing learning rate to 0.0010000000474974513.\n",
      "193/193 [==============================] - 6s 33ms/step - loss: 0.0177 - val_loss: 0.0273\n",
      "Epoch 12/100\n",
      "\n",
      "Epoch 00012: LearningRateScheduler reducing learning rate to 0.0010000000474974513.\n",
      "193/193 [==============================] - 6s 33ms/step - loss: 0.0173 - val_loss: 0.0291\n",
      "Epoch 13/100\n",
      "\n",
      "Epoch 00013: LearningRateScheduler reducing learning rate to 0.0010000000474974513.\n",
      "193/193 [==============================] - 6s 33ms/step - loss: 0.0165 - val_loss: 0.0282\n",
      "Epoch 14/100\n",
      "\n",
      "Epoch 00014: LearningRateScheduler reducing learning rate to 0.0010000000474974513.\n",
      "193/193 [==============================] - 6s 33ms/step - loss: 0.0160 - val_loss: 0.0279\n",
      "Epoch 15/100\n",
      "\n",
      "Epoch 00015: LearningRateScheduler reducing learning rate to 0.0010000000474974513.\n",
      "193/193 [==============================] - 6s 32ms/step - loss: 0.0162 - val_loss: 0.0279\n",
      "Epoch 16/100\n",
      "\n",
      "Epoch 00016: LearningRateScheduler reducing learning rate to 0.0010000000474974513.\n",
      "193/193 [==============================] - 7s 34ms/step - loss: 0.0156 - val_loss: 0.0258\n",
      "Epoch 17/100\n",
      "\n",
      "Epoch 00017: LearningRateScheduler reducing learning rate to 0.0010000000474974513.\n",
      "193/193 [==============================] - 6s 32ms/step - loss: 0.0153 - val_loss: 0.0256\n",
      "Epoch 18/100\n",
      "\n",
      "Epoch 00018: LearningRateScheduler reducing learning rate to 0.0010000000474974513.\n",
      "193/193 [==============================] - 6s 34ms/step - loss: 0.0153 - val_loss: 0.0335\n",
      "Epoch 19/100\n",
      "\n",
      "Epoch 00019: LearningRateScheduler reducing learning rate to 0.0010000000474974513.\n",
      "193/193 [==============================] - 7s 34ms/step - loss: 0.0168 - val_loss: 0.0342\n",
      "Epoch 20/100\n",
      "\n",
      "Epoch 00020: LearningRateScheduler reducing learning rate to 0.0010000000474974513.\n",
      "193/193 [==============================] - 7s 35ms/step - loss: 0.0155 - val_loss: 0.0276\n",
      "Epoch 21/100\n",
      "\n",
      "Epoch 00021: LearningRateScheduler reducing learning rate to 0.0010000000474974513.\n",
      "193/193 [==============================] - 7s 34ms/step - loss: 0.0150 - val_loss: 0.0311\n",
      "Epoch 22/100\n",
      "\n",
      "Epoch 00022: LearningRateScheduler reducing learning rate to 0.0010000000474974513.\n",
      "193/193 [==============================] - 7s 34ms/step - loss: 0.0145 - val_loss: 0.0277\n",
      "Epoch 23/100\n",
      "\n",
      "Epoch 00023: LearningRateScheduler reducing learning rate to 0.0010000000474974513.\n",
      "193/193 [==============================] - 7s 34ms/step - loss: 0.0142 - val_loss: 0.0273\n",
      "Epoch 24/100\n",
      "\n",
      "Epoch 00024: LearningRateScheduler reducing learning rate to 0.0010000000474974513.\n",
      "193/193 [==============================] - 7s 34ms/step - loss: 0.0141 - val_loss: 0.0316\n",
      "Epoch 25/100\n",
      "\n",
      "Epoch 00025: LearningRateScheduler reducing learning rate to 0.0010000000474974513.\n",
      "193/193 [==============================] - 7s 34ms/step - loss: 0.0138 - val_loss: 0.0275\n",
      "Epoch 26/100\n",
      "\n",
      "Epoch 00026: LearningRateScheduler reducing learning rate to 0.0010000000474974513.\n",
      "193/193 [==============================] - 6s 32ms/step - loss: 0.0134 - val_loss: 0.0348\n",
      "Epoch 27/100\n",
      "\n",
      "Epoch 00027: LearningRateScheduler reducing learning rate to 0.0010000000474974513.\n",
      "193/193 [==============================] - 6s 32ms/step - loss: 0.0153 - val_loss: 0.0254\n",
      "Epoch 28/100\n",
      "\n",
      "Epoch 00028: LearningRateScheduler reducing learning rate to 0.0010000000474974513.\n",
      "193/193 [==============================] - 6s 32ms/step - loss: 0.0133 - val_loss: 0.0265\n",
      "Epoch 29/100\n",
      "\n",
      "Epoch 00029: LearningRateScheduler reducing learning rate to 0.0010000000474974513.\n",
      "193/193 [==============================] - 6s 33ms/step - loss: 0.0129 - val_loss: 0.0287\n",
      "Epoch 30/100\n",
      "\n",
      "Epoch 00030: LearningRateScheduler reducing learning rate to 0.0010000000474974513.\n",
      "193/193 [==============================] - 6s 34ms/step - loss: 0.0150 - val_loss: 0.0281\n",
      "Epoch 31/100\n",
      "\n",
      "Epoch 00031: LearningRateScheduler reducing learning rate to 0.0010000000474974513.\n",
      "193/193 [==============================] - 6s 32ms/step - loss: 0.0131 - val_loss: 0.0338\n",
      "Epoch 32/100\n",
      "\n",
      "Epoch 00032: LearningRateScheduler reducing learning rate to 0.0010000000474974513.\n",
      "193/193 [==============================] - 6s 32ms/step - loss: 0.0132 - val_loss: 0.0321\n",
      "Epoch 33/100\n",
      "\n",
      "Epoch 00033: LearningRateScheduler reducing learning rate to 0.0010000000474974513.\n",
      "193/193 [==============================] - 7s 35ms/step - loss: 0.0127 - val_loss: 0.0271\n",
      "Epoch 34/100\n",
      "\n",
      "Epoch 00034: LearningRateScheduler reducing learning rate to 0.0010000000474974513.\n",
      "193/193 [==============================] - 7s 34ms/step - loss: 0.0122 - val_loss: 0.0297\n",
      "Epoch 35/100\n",
      "\n",
      "Epoch 00035: LearningRateScheduler reducing learning rate to 0.0010000000474974513.\n",
      "193/193 [==============================] - 6s 33ms/step - loss: 0.0119 - val_loss: 0.0286\n",
      "Epoch 36/100\n",
      "\n",
      "Epoch 00036: LearningRateScheduler reducing learning rate to 0.0009048374610134307.\n",
      "193/193 [==============================] - 6s 31ms/step - loss: 0.0119 - val_loss: 0.0264\n",
      "Epoch 37/100\n",
      "\n",
      "Epoch 00037: LearningRateScheduler reducing learning rate to 0.0008187307807475673.\n",
      "193/193 [==============================] - 7s 35ms/step - loss: 0.0114 - val_loss: 0.0275\n",
      "Epoch 38/100\n",
      "\n",
      "Epoch 00038: LearningRateScheduler reducing learning rate to 0.0007408182609837606.\n",
      "193/193 [==============================] - 6s 32ms/step - loss: 0.0111 - val_loss: 0.0273\n",
      "Epoch 39/100\n",
      "\n",
      "Epoch 00039: LearningRateScheduler reducing learning rate to 0.0006703200923609524.\n",
      "193/193 [==============================] - 7s 34ms/step - loss: 0.0116 - val_loss: 0.0302\n",
      "Epoch 40/100\n",
      "\n",
      "Epoch 00040: LearningRateScheduler reducing learning rate to 0.000606530675391766.\n",
      "193/193 [==============================] - 7s 35ms/step - loss: 0.0110 - val_loss: 0.0289\n",
      "Epoch 41/100\n",
      "\n",
      "Epoch 00041: LearningRateScheduler reducing learning rate to 0.0005488116682245179.\n",
      "193/193 [==============================] - 7s 34ms/step - loss: 0.0106 - val_loss: 0.0265\n",
      "Epoch 42/100\n",
      "\n",
      "Epoch 00042: LearningRateScheduler reducing learning rate to 0.0004965853504160465.\n",
      "193/193 [==============================] - 6s 32ms/step - loss: 0.0105 - val_loss: 0.0270\n",
      "Epoch 43/100\n",
      "\n",
      "Epoch 00043: LearningRateScheduler reducing learning rate to 0.0004493289874054642.\n",
      "193/193 [==============================] - 7s 35ms/step - loss: 0.0103 - val_loss: 0.0269\n",
      "Epoch 44/100\n",
      "\n",
      "Epoch 00044: LearningRateScheduler reducing learning rate to 0.0004065696690041351.\n",
      "193/193 [==============================] - 7s 35ms/step - loss: 0.0102 - val_loss: 0.0274\n",
      "Epoch 45/100\n",
      "\n",
      "Epoch 00045: LearningRateScheduler reducing learning rate to 0.00036787943756223617.\n",
      "193/193 [==============================] - 6s 34ms/step - loss: 0.0101 - val_loss: 0.0272\n",
      "Epoch 46/100\n",
      "\n",
      "Epoch 00046: LearningRateScheduler reducing learning rate to 0.0003328710744911885.\n",
      "193/193 [==============================] - 6s 33ms/step - loss: 0.0100 - val_loss: 0.0293\n",
      "Epoch 47/100\n",
      "\n",
      "Epoch 00047: LearningRateScheduler reducing learning rate to 0.00030119420279690575.\n",
      "193/193 [==============================] - 6s 33ms/step - loss: 0.0100 - val_loss: 0.0285\n",
      "Epoch 48/100\n",
      "\n",
      "Epoch 00048: LearningRateScheduler reducing learning rate to 0.0002725317846265655.\n",
      "193/193 [==============================] - 6s 33ms/step - loss: 0.0099 - val_loss: 0.0284\n",
      "Epoch 49/100\n",
      "\n",
      "Epoch 00049: LearningRateScheduler reducing learning rate to 0.0002465969611604322.\n",
      "193/193 [==============================] - 7s 34ms/step - loss: 0.0098 - val_loss: 0.0281\n",
      "Epoch 50/100\n",
      "\n",
      "Epoch 00050: LearningRateScheduler reducing learning rate to 0.0002231301558460287.\n",
      "193/193 [==============================] - 7s 34ms/step - loss: 0.0099 - val_loss: 0.0280\n",
      "Epoch 51/100\n",
      "\n",
      "Epoch 00051: LearningRateScheduler reducing learning rate to 0.00020189651997736023.\n",
      "193/193 [==============================] - 6s 32ms/step - loss: 0.0097 - val_loss: 0.0288\n",
      "Epoch 52/100\n",
      "\n",
      "Epoch 00052: LearningRateScheduler reducing learning rate to 0.0001826835231124296.\n",
      "193/193 [==============================] - 6s 33ms/step - loss: 0.0096 - val_loss: 0.0291\n",
      "Epoch 53/100\n",
      "\n",
      "Epoch 00053: LearningRateScheduler reducing learning rate to 0.000165298885835805.\n",
      "193/193 [==============================] - 7s 35ms/step - loss: 0.0096 - val_loss: 0.0284\n",
      "Epoch 54/100\n",
      "\n",
      "Epoch 00054: LearningRateScheduler reducing learning rate to 0.00014956861785812693.\n",
      "193/193 [==============================] - 7s 35ms/step - loss: 0.0095 - val_loss: 0.0283\n",
      "Epoch 55/100\n",
      "\n",
      "Epoch 00055: LearningRateScheduler reducing learning rate to 0.00013533527995661116.\n",
      "193/193 [==============================] - 6s 34ms/step - loss: 0.0095 - val_loss: 0.0286\n",
      "Epoch 56/100\n",
      "\n",
      "Epoch 00056: LearningRateScheduler reducing learning rate to 0.00012245643025519514.\n",
      "193/193 [==============================] - 6s 33ms/step - loss: 0.0095 - val_loss: 0.0279\n",
      "Epoch 57/100\n",
      "\n",
      "Epoch 00057: LearningRateScheduler reducing learning rate to 0.00011080316267450631.\n",
      "193/193 [==============================] - 7s 34ms/step - loss: 0.0094 - val_loss: 0.0290\n",
      "Epoch 58/100\n",
      "\n",
      "Epoch 00058: LearningRateScheduler reducing learning rate to 0.00010025884947215013.\n",
      "193/193 [==============================] - 6s 34ms/step - loss: 0.0095 - val_loss: 0.0281\n",
      "Epoch 59/100\n",
      "\n",
      "Epoch 00059: LearningRateScheduler reducing learning rate to 9.071795620214384e-05.\n",
      "193/193 [==============================] - 6s 31ms/step - loss: 0.0094 - val_loss: 0.0278\n",
      "Epoch 60/100\n",
      "\n",
      "Epoch 00060: LearningRateScheduler reducing learning rate to 8.208500151264167e-05.\n",
      "193/193 [==============================] - 6s 32ms/step - loss: 0.0094 - val_loss: 0.0283\n",
      "Epoch 61/100\n",
      "\n",
      "Epoch 00061: LearningRateScheduler reducing learning rate to 7.4273582779247e-05.\n",
      "193/193 [==============================] - 6s 33ms/step - loss: 0.0093 - val_loss: 0.0283\n",
      "Epoch 62/100\n",
      "\n",
      "Epoch 00062: LearningRateScheduler reducing learning rate to 6.720551365882254e-05.\n",
      "193/193 [==============================] - 7s 34ms/step - loss: 0.0093 - val_loss: 0.0283\n",
      "Epoch 63/100\n",
      "\n",
      "Epoch 00063: LearningRateScheduler reducing learning rate to 6.08100603966809e-05.\n",
      "193/193 [==============================] - 6s 34ms/step - loss: 0.0093 - val_loss: 0.0283\n",
      "Epoch 64/100\n",
      "\n",
      "Epoch 00064: LearningRateScheduler reducing learning rate to 5.502321763512748e-05.\n",
      "193/193 [==============================] - 6s 33ms/step - loss: 0.0093 - val_loss: 0.0285\n",
      "Epoch 65/100\n",
      "\n",
      "Epoch 00065: LearningRateScheduler reducing learning rate to 4.978706651648711e-05.\n",
      "193/193 [==============================] - 6s 32ms/step - loss: 0.0093 - val_loss: 0.0288\n",
      "Epoch 66/100\n",
      "\n",
      "Epoch 00066: LearningRateScheduler reducing learning rate to 4.504920191349698e-05.\n",
      "193/193 [==============================] - 6s 33ms/step - loss: 0.0093 - val_loss: 0.0285\n",
      "Epoch 67/100\n",
      "\n",
      "Epoch 00067: LearningRateScheduler reducing learning rate to 4.076220245283122e-05.\n",
      "193/193 [==============================] - 6s 33ms/step - loss: 0.0092 - val_loss: 0.0283\n",
      "Epoch 68/100\n",
      "\n",
      "Epoch 00068: LearningRateScheduler reducing learning rate to 3.6883166374212434e-05.\n",
      "193/193 [==============================] - 6s 32ms/step - loss: 0.0092 - val_loss: 0.0284\n",
      "Epoch 69/100\n",
      "\n",
      "Epoch 00069: LearningRateScheduler reducing learning rate to 3.3373270431978725e-05.\n",
      "193/193 [==============================] - 6s 30ms/step - loss: 0.0092 - val_loss: 0.0285\n",
      "Epoch 70/100\n",
      "\n",
      "Epoch 00070: LearningRateScheduler reducing learning rate to 3.0197384756899656e-05.\n",
      "193/193 [==============================] - 6s 32ms/step - loss: 0.0092 - val_loss: 0.0285\n",
      "Epoch 71/100\n",
      "\n",
      "Epoch 00071: LearningRateScheduler reducing learning rate to 2.732372392756507e-05.\n",
      "193/193 [==============================] - 6s 31ms/step - loss: 0.0092 - val_loss: 0.0284\n",
      "Epoch 72/100\n",
      "\n",
      "Epoch 00072: LearningRateScheduler reducing learning rate to 2.4723527667788092e-05.\n",
      "193/193 [==============================] - 6s 31ms/step - loss: 0.0092 - val_loss: 0.0285\n",
      "Epoch 73/100\n",
      "\n",
      "Epoch 00073: LearningRateScheduler reducing learning rate to 2.2370772815911936e-05.\n",
      "193/193 [==============================] - 6s 31ms/step - loss: 0.0092 - val_loss: 0.0285\n",
      "Epoch 74/100\n",
      "\n",
      "Epoch 00074: LearningRateScheduler reducing learning rate to 2.0241911628351524e-05.\n",
      "193/193 [==============================] - 7s 34ms/step - loss: 0.0092 - val_loss: 0.0286\n",
      "Epoch 75/100\n",
      "\n",
      "Epoch 00075: LearningRateScheduler reducing learning rate to 1.831563970914926e-05.\n",
      "193/193 [==============================] - 6s 32ms/step - loss: 0.0092 - val_loss: 0.0285\n",
      "Epoch 76/100\n",
      "\n",
      "Epoch 00076: LearningRateScheduler reducing learning rate to 1.657267546075855e-05.\n",
      "193/193 [==============================] - 6s 33ms/step - loss: 0.0092 - val_loss: 0.0285\n",
      "Epoch 77/100\n",
      "\n",
      "Epoch 00077: LearningRateScheduler reducing learning rate to 1.4995577390289825e-05.\n",
      "193/193 [==============================] - 6s 32ms/step - loss: 0.0092 - val_loss: 0.0286\n",
      "Epoch 78/100\n",
      "\n",
      "Epoch 00078: LearningRateScheduler reducing learning rate to 1.3568559769866906e-05.\n",
      "193/193 [==============================] - 6s 33ms/step - loss: 0.0092 - val_loss: 0.0286\n",
      "Epoch 79/100\n",
      "\n",
      "Epoch 00079: LearningRateScheduler reducing learning rate to 1.2277340391832035e-05.\n",
      "193/193 [==============================] - 6s 32ms/step - loss: 0.0092 - val_loss: 0.0286\n",
      "Epoch 80/100\n",
      "\n",
      "Epoch 00080: LearningRateScheduler reducing learning rate to 1.1108997376344125e-05.\n",
      "193/193 [==============================] - 6s 32ms/step - loss: 0.0091 - val_loss: 0.0286\n",
      "Epoch 81/100\n",
      "\n",
      "Epoch 00081: LearningRateScheduler reducing learning rate to 1.0051836677259892e-05.\n",
      "193/193 [==============================] - 7s 34ms/step - loss: 0.0091 - val_loss: 0.0285\n",
      "Epoch 82/100\n",
      "\n",
      "Epoch 00082: LearningRateScheduler reducing learning rate to 9.095277692801417e-06.\n",
      "193/193 [==============================] - 6s 33ms/step - loss: 0.0091 - val_loss: 0.0285\n",
      "Epoch 83/100\n",
      "\n",
      "Epoch 00083: LearningRateScheduler reducing learning rate to 8.229747928616925e-06.\n",
      "193/193 [==============================] - 6s 33ms/step - loss: 0.0091 - val_loss: 0.0286\n",
      "Epoch 84/100\n",
      "\n",
      "Epoch 00084: LearningRateScheduler reducing learning rate to 7.446584244400273e-06.\n",
      "193/193 [==============================] - 6s 34ms/step - loss: 0.0091 - val_loss: 0.0285\n",
      "Epoch 85/100\n",
      "\n",
      "Epoch 00085: LearningRateScheduler reducing learning rate to 6.7379480905726545e-06.\n",
      "193/193 [==============================] - 6s 32ms/step - loss: 0.0091 - val_loss: 0.0286\n",
      "Epoch 86/100\n",
      "\n",
      "Epoch 00086: LearningRateScheduler reducing learning rate to 6.096747739995453e-06.\n",
      "193/193 [==============================] - 6s 32ms/step - loss: 0.0091 - val_loss: 0.0285\n",
      "Epoch 87/100\n",
      "\n",
      "Epoch 00087: LearningRateScheduler reducing learning rate to 5.516565457352101e-06.\n",
      "193/193 [==============================] - 6s 33ms/step - loss: 0.0091 - val_loss: 0.0286\n",
      "Epoch 88/100\n",
      "\n",
      "Epoch 00088: LearningRateScheduler reducing learning rate to 4.991594955340422e-06.\n"
     ]
    },
    {
     "name": "stdout",
     "output_type": "stream",
     "text": [
      "193/193 [==============================] - 7s 35ms/step - loss: 0.0091 - val_loss: 0.0285\n",
      "Epoch 89/100\n",
      "\n",
      "Epoch 00089: LearningRateScheduler reducing learning rate to 4.516581731171895e-06.\n",
      "193/193 [==============================] - 6s 34ms/step - loss: 0.0091 - val_loss: 0.0285\n",
      "Epoch 90/100\n",
      "\n",
      "Epoch 00090: LearningRateScheduler reducing learning rate to 4.086772043991721e-06.\n",
      "193/193 [==============================] - 6s 33ms/step - loss: 0.0091 - val_loss: 0.0285\n",
      "Epoch 91/100\n",
      "\n",
      "Epoch 00091: LearningRateScheduler reducing learning rate to 3.697864361133402e-06.\n",
      "193/193 [==============================] - 6s 33ms/step - loss: 0.0091 - val_loss: 0.0285\n",
      "Epoch 92/100\n",
      "\n",
      "Epoch 00092: LearningRateScheduler reducing learning rate to 3.3459659477785512e-06.\n",
      "193/193 [==============================] - 7s 34ms/step - loss: 0.0091 - val_loss: 0.0286\n",
      "Epoch 93/100\n",
      "\n",
      "Epoch 00093: LearningRateScheduler reducing learning rate to 3.02755521723057e-06.\n",
      "193/193 [==============================] - 6s 33ms/step - loss: 0.0091 - val_loss: 0.0285\n",
      "Epoch 94/100\n",
      "\n",
      "Epoch 00094: LearningRateScheduler reducing learning rate to 2.739445315605584e-06.\n",
      "193/193 [==============================] - 6s 33ms/step - loss: 0.0091 - val_loss: 0.0285\n",
      "Epoch 95/100\n",
      "\n",
      "Epoch 00095: LearningRateScheduler reducing learning rate to 2.478752644192398e-06.\n",
      "193/193 [==============================] - 6s 30ms/step - loss: 0.0091 - val_loss: 0.0285\n",
      "Epoch 96/100\n",
      "\n",
      "Epoch 00096: LearningRateScheduler reducing learning rate to 2.2428680563831815e-06.\n",
      "193/193 [==============================] - 6s 32ms/step - loss: 0.0091 - val_loss: 0.0285\n",
      "Epoch 97/100\n",
      "\n",
      "Epoch 00097: LearningRateScheduler reducing learning rate to 2.0294309349110786e-06.\n",
      "193/193 [==============================] - 6s 31ms/step - loss: 0.0091 - val_loss: 0.0285\n",
      "Epoch 98/100\n",
      "\n",
      "Epoch 00098: LearningRateScheduler reducing learning rate to 1.836305120713708e-06.\n",
      "193/193 [==============================] - 6s 30ms/step - loss: 0.0091 - val_loss: 0.0286\n",
      "Epoch 99/100\n",
      "\n",
      "Epoch 00099: LearningRateScheduler reducing learning rate to 1.6615576192354896e-06.\n",
      "193/193 [==============================] - 6s 32ms/step - loss: 0.0091 - val_loss: 0.0285\n",
      "Epoch 100/100\n",
      "\n",
      "Epoch 00100: LearningRateScheduler reducing learning rate to 1.5034394669601655e-06.\n",
      "193/193 [==============================] - 6s 31ms/step - loss: 0.0091 - val_loss: 0.0285\n"
     ]
    }
   ],
   "source": [
    "model.compile(optimizer=tf.keras.optimizers.Adam(),\n",
    "              loss=tf.keras.losses.MeanSquaredError())\n",
    "\n",
    "def scheduler(epoch, lr):\n",
    "    if epoch < 35:\n",
    "        return lr\n",
    "    else:\n",
    "        return lr * np.exp(-0.1)\n",
    "    \n",
    "lr_callback = tf.keras.callbacks.LearningRateScheduler(schedule=scheduler, verbose=1)\n",
    "   \n",
    "history = model.fit(trainA, trainB, callbacks=[lr_callback], epochs=100, batch_size=128, \n",
    "                    validation_data=(valA, valB))"
   ]
  },
  {
   "cell_type": "code",
   "execution_count": 20,
   "metadata": {},
   "outputs": [],
   "source": [
    "# save the trained model\n",
    "model.save(\"autoencoder_audio2nsa.hdf5\")"
   ]
  },
  {
   "cell_type": "markdown",
   "metadata": {},
   "source": [
    "## Load Autoencoder and evaluate its performance"
   ]
  },
  {
   "cell_type": "code",
   "execution_count": 9,
   "metadata": {},
   "outputs": [],
   "source": [
    "from tensorflow.keras.models import load_model\n",
    "model = load_model(\"autoencoder_audio2nsa.hdf5\")"
   ]
  },
  {
   "cell_type": "code",
   "execution_count": 23,
   "metadata": {
    "scrolled": true
   },
   "outputs": [
    {
     "data": {
      "image/png": "[encoded data removed]",
      "text/plain": [
       "<Figure size 432x288 with 1 Axes>"
      ]
     },
     "metadata": {
      "needs_background": "light"
     },
     "output_type": "display_data"
    },
    {
     "data": {
      "image/png": "[encoded data removed]",
      "text/plain": [
       "<Figure size 432x288 with 1 Axes>"
      ]
     },
     "metadata": {
      "needs_background": "light"
     },
     "output_type": "display_data"
    },
    {
     "data": {
      "image/png": "[encoded data removed]",
      "text/plain": [
       "<Figure size 432x288 with 1 Axes>"
      ]
     },
     "metadata": {
      "needs_background": "light"
     },
     "output_type": "display_data"
    },
    {
     "name": "stdout",
     "output_type": "stream",
     "text": [
      "SSIM Audio and generated image: 0.47675140907723557\n",
      "SSIM NSA and generated image: 0.631752088909128\n"
     ]
    }
   ],
   "source": [
    "n = 150\n",
    "\n",
    "plt.title(\"Audio original\")\n",
    "plt.imshow(testA[n])\n",
    "plt.show()\n",
    "pred = model.predict(testA[n:n+1])\n",
    "plt.title(\"Generated NSA-image\")\n",
    "plt.imshow(pred[0])\n",
    "plt.show()\n",
    "plt.title(\"NSA original\")\n",
    "plt.imshow(testB[n])\n",
    "plt.show()\n",
    "\n",
    "ssim_audio = ssim(pred[0].squeeze(), testA[n].squeeze())\n",
    "ssim_nsa = ssim(pred[0].squeeze(), testB[n].squeeze())\n",
    "\n",
    "print(f\"SSIM Audio and generated image: {ssim_audio}\")\n",
    "print(f\"SSIM NSA and generated image: {ssim_nsa}\")\n",
    "\n",
    "d = dict(audio=testA[n], nsa=testB[n], generated_nsa=pred[0], ssim_audio=ssim_audio, ssim_nsa=ssim_nsa)\n",
    "fl.save(\"results_autoencoder.vfp\", d)"
   ]
  },
  {
   "cell_type": "code",
   "execution_count": 29,
   "metadata": {},
   "outputs": [
    {
     "name": "stdout",
     "output_type": "stream",
     "text": [
      "0.37606081060974506\n",
      "0.5810144714000209\n"
     ]
    }
   ],
   "source": [
    "ssim_audio = []\n",
    "ssim_nsa = []\n",
    "\n",
    "for t_A, t_B in zip(testA, testB):\n",
    "    pred = model.predict(t_A[None, ...])\n",
    "    \n",
    "    ssim_audio.append(ssim(pred[0].squeeze(), t_A.squeeze()))\n",
    "    ssim_nsa.append(ssim(pred[0].squeeze(), t_B.squeeze()))\n",
    "    \n",
    "print(np.mean(ssim_audio))\n",
    "print(np.mean(ssim_nsa))"
   ]
  },
  {
   "cell_type": "markdown",
   "metadata": {},
   "source": [
    "## Plot training/validation loss"
   ]
  },
  {
   "cell_type": "code",
   "execution_count": 31,
   "metadata": {},
   "outputs": [
    {
     "data": {
      "image/png": "[encoded data removed]",
      "text/plain": [
       "<Figure size 432x288 with 1 Axes>"
      ]
     },
     "metadata": {
      "needs_background": "light"
     },
     "output_type": "display_data"
    }
   ],
   "source": [
    "plt.plot(history.history['loss'], label='training loss')\n",
    "plt.plot(history.history['val_loss'], label='validation loss')\n",
    "plt.xlabel(\"Epochs\")\n",
    "plt.ylabel(\"MSE loss\")\n",
    "plt.title(\"Training AE\")\n",
    "plt.legend()\n",
    "plt.savefig(\"training_autoencoder.png\", dpi=300, bbox_inches='tight')"
   ]
  },
  {
   "cell_type": "code",
   "execution_count": 6,
   "metadata": {},
   "outputs": [],
   "source": [
    "d = dict(training_history=history.history)\n",
    "fl.save(\"training_history_autoencoder.vfp\", d)"
   ]
  },
  {
   "cell_type": "code",
   "execution_count": null,
   "metadata": {},
   "outputs": [],
   "source": []
  }
 ],
 "metadata": {
  "kernelspec": {
   "display_name": "Python 3",
   "language": "python",
   "name": "python3"
  },
  "language_info": {
   "codemirror_mode": {
    "name": "ipython",
    "version": 3
   },
   "file_extension": ".py",
   "mimetype": "text/x-python",
   "name": "python",
   "nbconvert_exporter": "python",
   "pygments_lexer": "ipython3",
   "version": "3.8.0"
  }
 },
 "nbformat": 4,
 "nbformat_minor": 4
}
